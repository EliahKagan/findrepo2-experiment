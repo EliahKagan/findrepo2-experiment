{
 "cells": [
  {
   "cell_type": "code",
   "execution_count": 1,
   "metadata": {},
   "outputs": [],
   "source": [
    "import functools\n",
    "import itertools\n",
    "\n",
    "import IPython\n",
    "import bs4\n",
    "import pandas as pd\n",
    "import requests"
   ]
  },
  {
   "cell_type": "code",
   "execution_count": 2,
   "metadata": {},
   "outputs": [],
   "source": [
    "@functools.cache\n",
    "def get_pricing_page():\n",
    "    return requests.get('https://openai.com/api/pricing/').text"
   ]
  },
  {
   "cell_type": "code",
   "execution_count": 3,
   "metadata": {},
   "outputs": [],
   "source": [
    "def need(condition):\n",
    "    if not condition:\n",
    "        raise ValueError(\"can't find correct part of page\")"
   ]
  },
  {
   "cell_type": "code",
   "execution_count": 4,
   "metadata": {},
   "outputs": [],
   "source": [
    "def find_price():\n",
    "    doc = bs4.BeautifulSoup(get_pricing_page())\n",
    "\n",
    "    headings = doc.find_all('h3', text='Embedding models')\n",
    "    need(len(headings) == 1)\n",
    "    heading = headings[0]\n",
    "\n",
    "    doc_row = heading.parent.parent.parent\n",
    "    need(doc_row.name == 'div')\n",
    "    need(len(doc_row.find_all('h3')) == 1)\n",
    "\n",
    "    tables = doc_row.find_all('table')\n",
    "    need(all(table.find('table') is None for table in tables))\n",
    "\n",
    "    ada_cells = [\n",
    "        cell\n",
    "        for table in tables\n",
    "        for row in table.find_all('tr')\n",
    "        for cell in row.find_all('td', text='Ada')\n",
    "    ]\n",
    "    need(len(ada_cells) == 1)\n",
    "    ada_cell = ada_cells[0]\n",
    "\n",
    "    price_cells = ada_cell.parent.find_all('td', text=lambda t: t != 'Ada')\n",
    "    need(len(price_cells) == 1)\n",
    "    price_cell = price_cells[0]\n",
    "    return price_cell.text"
   ]
  },
  {
   "cell_type": "code",
   "execution_count": 5,
   "metadata": {},
   "outputs": [
    {
     "data": {
      "text/plain": [
       "'\\n$0.0004\\n/ 1K tokens\\n'"
      ]
     },
     "execution_count": 5,
     "metadata": {},
     "output_type": "execute_result"
    }
   ],
   "source": [
    "find_price()"
   ]
  },
  {
   "cell_type": "code",
   "execution_count": 6,
   "metadata": {},
   "outputs": [],
   "source": [
    "def find_embedding_model_prices():\n",
    "    doc = bs4.BeautifulSoup(get_pricing_page())\n",
    "\n",
    "    headings = doc.find_all('h3', text='Embedding models')\n",
    "    need(len(headings) == 1)\n",
    "    doc_row = headings[0].parent.parent.parent\n",
    "    need(len(doc_row.find_all('h3')) == 1)\n",
    "    \n",
    "    frames = pd.read_html(str(doc_row), displayed_only=False)\n",
    "    need({tuple(df.columns.values) for df in frames} == {('Model', 'Usage')})\n",
    "    data_rows = itertools.chain.from_iterable(df.to_numpy() for df in frames)\n",
    "    return dict(data_rows)"
   ]
  },
  {
   "cell_type": "code",
   "execution_count": 7,
   "metadata": {},
   "outputs": [
    {
     "data": {
      "text/plain": [
       "{'Ada': '$0.0004 / 1K tokens',\n",
       " 'Ada v1': '$0.0040 / 1K tokens',\n",
       " 'Babbage v1': '$0.0050 / 1K tokens',\n",
       " 'Curie v1': '$0.0200 / 1K tokens',\n",
       " 'Davinci v1': '$0.2000 / 1K tokens'}"
      ]
     },
     "execution_count": 7,
     "metadata": {},
     "output_type": "execute_result"
    }
   ],
   "source": [
    "find_embedding_model_prices()"
   ]
  },
  {
   "cell_type": "code",
   "execution_count": null,
   "metadata": {},
   "outputs": [],
   "source": []
  }
 ],
 "metadata": {
  "kernelspec": {
   "display_name": "findrepo2-experiment",
   "language": "python",
   "name": "python3"
  },
  "language_info": {
   "codemirror_mode": {
    "name": "ipython",
    "version": 3
   },
   "file_extension": ".py",
   "mimetype": "text/x-python",
   "name": "python",
   "nbconvert_exporter": "python",
   "pygments_lexer": "ipython3",
   "version": "3.11.0"
  },
  "orig_nbformat": 4,
  "vscode": {
   "interpreter": {
    "hash": "f3b28dd84c010413ea2595e24e09f662c7c1d21a1318532d11d1c0ed90e595d7"
   }
  }
 },
 "nbformat": 4,
 "nbformat_minor": 2
}
