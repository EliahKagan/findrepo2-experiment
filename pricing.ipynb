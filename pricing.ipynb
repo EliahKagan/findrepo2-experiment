{
 "cells": [
  {
   "cell_type": "code",
   "execution_count": 1,
   "metadata": {},
   "outputs": [],
   "source": [
    "from decimal import Decimal\n",
    "import functools\n",
    "import itertools\n",
    "import pprint\n",
    "import re\n",
    "\n",
    "import attrs\n",
    "import IPython\n",
    "import bs4\n",
    "import pandas as pd\n",
    "import requests"
   ]
  },
  {
   "cell_type": "code",
   "execution_count": 2,
   "metadata": {},
   "outputs": [
    {
     "data": {
      "text/plain": [
       "'The denominator that _RATE_PATTERN currently works with.'"
      ]
     },
     "execution_count": 2,
     "metadata": {},
     "output_type": "execute_result"
    }
   ],
   "source": [
    "_RATE_PATTERN = re.compile(r'\\A\\s*\\$([\\d.]+)\\s*/\\s*1K\\s+tokens\\s*\\Z')\n",
    "\"\"\"Regex to parse rates. Currently all rates are given per 1K tokens.\"\"\"\n",
    "\n",
    "_RATE_PATTERN_DENOMINATOR = 1000\n",
    "\"\"\"The denominator that _RATE_PATTERN currently works with.\"\"\""
   ]
  },
  {
   "cell_type": "code",
   "execution_count": 3,
   "metadata": {},
   "outputs": [],
   "source": [
    "class PriceRetrievalError(Exception):\n",
    "    \"\"\"Model pricing data couldn't be obtained.\"\"\""
   ]
  },
  {
   "cell_type": "code",
   "execution_count": 4,
   "metadata": {},
   "outputs": [],
   "source": [
    "@attrs.frozen\n",
    "class Rate:\n",
    "    \"\"\"A pricing rate.\"\"\"\n",
    "\n",
    "    numerator: Decimal\n",
    "    \"\"\"The stated price in US dollars, per some number of tokens.\"\"\"\n",
    "\n",
    "    denominator: int\n",
    "    \"\"\"The number of tokens the stated price is for.\"\"\"\n",
    "\n",
    "    def __str__(self):\n",
    "        \"\"\"Representation of this rate suitable for user interfaces.\"\"\"\n",
    "        return f'${self.numerator} per {self.denominator} tokens'"
   ]
  },
  {
   "cell_type": "code",
   "execution_count": 5,
   "metadata": {},
   "outputs": [],
   "source": [
    "def _parse_rate(text: str) -> Rate:\n",
    "    \"\"\"Parse pricing from informal text, returning a Rate.\"\"\"\n",
    "    match = _RATE_PATTERN.fullmatch(text)\n",
    "    if match is None:\n",
    "        raise PriceRetrievalError(f\"can't parse rate: {text.strip()}\")\n",
    "    return Rate(Decimal(match[1]), _RATE_PATTERN_DENOMINATOR)"
   ]
  },
  {
   "cell_type": "code",
   "execution_count": 6,
   "metadata": {},
   "outputs": [],
   "source": [
    "@functools.cache\n",
    "def get_pricing_page() -> str:\n",
    "    \"\"\"Retrieve the pricing page from the OpenAI website.\"\"\"\n",
    "    response = requests.get('https://openai.com/api/pricing/')\n",
    "    response.raise_for_status()\n",
    "    return response.text"
   ]
  },
  {
   "cell_type": "code",
   "execution_count": 7,
   "metadata": {},
   "outputs": [],
   "source": [
    "def _need(condition: bool) -> None:\n",
    "    \"\"\"Raise PriceRetrievalError if the condition is not satisfied.\"\"\"\n",
    "    if not condition:\n",
    "        raise PriceRetrievalError(\"can't find embedding model prices on page\")"
   ]
  },
  {
   "cell_type": "code",
   "execution_count": 8,
   "metadata": {},
   "outputs": [],
   "source": [
    "def find_embedding_model_prices(\n",
    "    *, displayed_only: bool = False\n",
    ") -> dict[str, Rate]:\n",
    "    \"\"\"Retrieve the prices of embedding models.\"\"\"\n",
    "    doc = bs4.BeautifulSoup(get_pricing_page())\n",
    "\n",
    "    headings = doc.find_all('h3', text='Embedding models')\n",
    "    _need(len(headings) == 1)\n",
    "    doc_row = headings[0].parent.parent.parent\n",
    "    _need(len(doc_row.find_all('h3')) == 1)\n",
    "    \n",
    "    frames = pd.read_html(str(doc_row), displayed_only=displayed_only)\n",
    "    _need({tuple(df.columns.values) for df in frames} == {('Model', 'Usage')})\n",
    "    data_rows = itertools.chain.from_iterable(df.to_numpy() for df in frames)\n",
    "    return {name: _parse_rate(text) for name, text in data_rows}"
   ]
  },
  {
   "cell_type": "code",
   "execution_count": 10,
   "metadata": {},
   "outputs": [
    {
     "name": "stdout",
     "output_type": "stream",
     "text": [
      "{'Ada': Rate(numerator=Decimal('0.0004'), denominator=1000),\n",
      " 'Ada v1': Rate(numerator=Decimal('0.0040'), denominator=1000),\n",
      " 'Babbage v1': Rate(numerator=Decimal('0.0050'), denominator=1000),\n",
      " 'Curie v1': Rate(numerator=Decimal('0.0200'), denominator=1000),\n",
      " 'Davinci v1': Rate(numerator=Decimal('0.2000'), denominator=1000)}\n"
     ]
    }
   ],
   "source": [
    "prices = find_embedding_model_prices()\n",
    "pprint.pp(prices)"
   ]
  },
  {
   "cell_type": "code",
   "execution_count": 12,
   "metadata": {},
   "outputs": [
    {
     "name": "stdout",
     "output_type": "stream",
     "text": [
      "$0.0004 per 1000 tokens\n"
     ]
    }
   ],
   "source": [
    "print(prices['Ada'])"
   ]
  },
  {
   "cell_type": "code",
   "execution_count": null,
   "metadata": {},
   "outputs": [],
   "source": []
  }
 ],
 "metadata": {
  "kernelspec": {
   "display_name": "findrepo2-experiment",
   "language": "python",
   "name": "python3"
  },
  "language_info": {
   "codemirror_mode": {
    "name": "ipython",
    "version": 3
   },
   "file_extension": ".py",
   "mimetype": "text/x-python",
   "name": "python",
   "nbconvert_exporter": "python",
   "pygments_lexer": "ipython3",
   "version": "3.11.0"
  },
  "orig_nbformat": 4,
  "vscode": {
   "interpreter": {
    "hash": "f3b28dd84c010413ea2595e24e09f662c7c1d21a1318532d11d1c0ed90e595d7"
   }
  }
 },
 "nbformat": 4,
 "nbformat_minor": 2
}
