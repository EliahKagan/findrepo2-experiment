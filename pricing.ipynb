{
 "cells": [
  {
   "cell_type": "code",
   "execution_count": 1,
   "metadata": {},
   "outputs": [],
   "source": [
    "from tabulate import tabulate\n",
    "\n",
    "import fr2ex"
   ]
  },
  {
   "cell_type": "code",
   "execution_count": 2,
   "metadata": {},
   "outputs": [],
   "source": [
    "prices = fr2ex.tokens.find_embedding_model_prices(displayed_only=False)"
   ]
  },
  {
   "cell_type": "code",
   "execution_count": 3,
   "metadata": {},
   "outputs": [
    {
     "data": {
      "text/html": [
       "<table>\n",
       "<thead>\n",
       "<tr><th>Model     </th><th style=\"text-align: right;\">  $ / 1K tokens</th></tr>\n",
       "</thead>\n",
       "<tbody>\n",
       "<tr><td>Ada       </td><td style=\"text-align: right;\">         0.0004</td></tr>\n",
       "<tr><td>Ada v1    </td><td style=\"text-align: right;\">         0.0040</td></tr>\n",
       "<tr><td>Babbage v1</td><td style=\"text-align: right;\">         0.0050</td></tr>\n",
       "<tr><td>Curie v1  </td><td style=\"text-align: right;\">         0.0200</td></tr>\n",
       "<tr><td>Davinci v1</td><td style=\"text-align: right;\">         0.2000</td></tr>\n",
       "</tbody>\n",
       "</table>"
      ],
      "text/plain": [
       "'<table>\\n<thead>\\n<tr><th>Model     </th><th style=\"text-align: right;\">  $ / 1K tokens</th></tr>\\n</thead>\\n<tbody>\\n<tr><td>Ada       </td><td style=\"text-align: right;\">         0.0004</td></tr>\\n<tr><td>Ada v1    </td><td style=\"text-align: right;\">         0.0040</td></tr>\\n<tr><td>Babbage v1</td><td style=\"text-align: right;\">         0.0050</td></tr>\\n<tr><td>Curie v1  </td><td style=\"text-align: right;\">         0.0200</td></tr>\\n<tr><td>Davinci v1</td><td style=\"text-align: right;\">         0.2000</td></tr>\\n</tbody>\\n</table>'"
      ]
     },
     "execution_count": 3,
     "metadata": {},
     "output_type": "execute_result"
    }
   ],
   "source": [
    "table = ((model, rate.numerator) for model, rate in prices.items())\n",
    "\n",
    "tabulate(\n",
    "    tabular_data=table,\n",
    "    headers=['Model', '$ / 1K tokens'],\n",
    "    tablefmt='html',\n",
    "    floatfmt='.4f',\n",
    ")"
   ]
  }
 ],
 "metadata": {
  "kernelspec": {
   "display_name": "findrepo2-experiment",
   "language": "python",
   "name": "python3"
  },
  "language_info": {
   "codemirror_mode": {
    "name": "ipython",
    "version": 3
   },
   "file_extension": ".py",
   "mimetype": "text/x-python",
   "name": "python",
   "nbconvert_exporter": "python",
   "pygments_lexer": "ipython3",
   "version": "3.11.0"
  },
  "orig_nbformat": 4,
  "vscode": {
   "interpreter": {
    "hash": "f3b28dd84c010413ea2595e24e09f662c7c1d21a1318532d11d1c0ed90e595d7"
   }
  }
 },
 "nbformat": 4,
 "nbformat_minor": 2
}
