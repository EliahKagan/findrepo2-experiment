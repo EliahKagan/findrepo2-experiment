{
 "cells": [
  {
   "cell_type": "code",
   "execution_count": 1,
   "metadata": {},
   "outputs": [],
   "source": [
    "import pathlib\n",
    "\n",
    "import fabric\n",
    "import msgpack\n",
    "import msgpack_numpy\n",
    "import numpy as np\n",
    "import openai\n",
    "import openai.embeddings_utils"
   ]
  },
  {
   "cell_type": "code",
   "execution_count": 2,
   "metadata": {},
   "outputs": [],
   "source": [
    "# Absolute path to the directory on the server where repos are kept.\n",
    "REPO_DIR = '/repos'\n",
    "\n",
    "# The extension that's expected, stripped from, and restored to repo pathnames.\n",
    "GIT_SUFFIX = '.git'"
   ]
  },
  {
   "cell_type": "code",
   "execution_count": 3,
   "metadata": {},
   "outputs": [],
   "source": [
    "def fetch_repo_names():\n",
    "    # Find out the hostname of the server has has the remote repositories.\n",
    "    config_path = pathlib.Path.home() / '.nrr-frr-server'\n",
    "    with open(config_path, encoding='utf-8') as file:\n",
    "        hostname = file.read().strip()\n",
    "    \n",
    "    # List the contents of the \"public\" repositories directory on that server.\n",
    "    with fabric.Connection(hostname) as connection:\n",
    "        entries = connection.sftp().listdir(REPO_DIR)\n",
    "\n",
    "    # Only return names that end in the appropriate suffix. Strip the suffix.\n",
    "    return sorted(entry.removesuffix(GIT_SUFFIX) for entry in entries\n",
    "                  if entry.endswith(GIT_SUFFIX))"
   ]
  },
  {
   "cell_type": "code",
   "execution_count": 4,
   "metadata": {},
   "outputs": [],
   "source": [
    "names = fetch_repo_names()"
   ]
  },
  {
   "cell_type": "code",
   "execution_count": null,
   "metadata": {},
   "outputs": [],
   "source": []
  }
 ],
 "metadata": {
  "kernelspec": {
   "display_name": "findrepo2-experiment",
   "language": "python",
   "name": "python3"
  },
  "language_info": {
   "codemirror_mode": {
    "name": "ipython",
    "version": 3
   },
   "file_extension": ".py",
   "mimetype": "text/x-python",
   "name": "python",
   "nbconvert_exporter": "python",
   "pygments_lexer": "ipython3",
   "version": "3.11.0"
  },
  "orig_nbformat": 4,
  "vscode": {
   "interpreter": {
    "hash": "f3b28dd84c010413ea2595e24e09f662c7c1d21a1318532d11d1c0ed90e595d7"
   }
  }
 },
 "nbformat": 4,
 "nbformat_minor": 2
}
