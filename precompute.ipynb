{
 "cells": [
  {
   "cell_type": "code",
   "execution_count": 1,
   "metadata": {},
   "outputs": [],
   "source": [
    "import os\n",
    "import pathlib\n",
    "\n",
    "import msgpack\n",
    "import msgpack_numpy\n",
    "import numpy as np\n",
    "import openai\n",
    "import openai.embeddings_utils\n",
    "import pysftp"
   ]
  },
  {
   "cell_type": "code",
   "execution_count": 7,
   "metadata": {},
   "outputs": [],
   "source": [
    "# Absolute path to the directory on the server where repos are kept.\n",
    "REPO_DIR = '/repos'\n",
    "\n",
    "# The extension that's expected, stripped from, and restored to repo pathnames.\n",
    "GIT_SUFFIX = '.git'"
   ]
  },
  {
   "cell_type": "code",
   "execution_count": 10,
   "metadata": {},
   "outputs": [],
   "source": [
    "def fetch_repo_names():\n",
    "    # Find out the hostname of the server has has the remote repositories.\n",
    "    config_path = pathlib.Path.home() / '.nrr-frr-server'\n",
    "    with open(config_path, encoding='utf-8') as file:\n",
    "        hostname = file.read().strip()\n",
    "    \n",
    "    # List the contents of the \"public\" repositories directory on that server.\n",
    "    with pysftp.Connection(host=hostname, username=os.getlogin()) as sftp:\n",
    "        entries = sftp.listdir(REPO_DIR)\n",
    "\n",
    "    # Only return names that end in the appropriate suffix. Strip the suffix.\n",
    "    return [entry.removesuffix(GIT_SUFFIX) for entry in entries\n",
    "            if entry.endswith(GIT_SUFFIX)]"
   ]
  },
  {
   "cell_type": "code",
   "execution_count": 11,
   "metadata": {},
   "outputs": [
    {
     "name": "stderr",
     "output_type": "stream",
     "text": [
      "Exception ignored in: <function Connection.__del__ at 0x000001A58C5544A0>\n",
      "Traceback (most recent call last):\n",
      "  File \"c:\\Users\\ek\\miniforge3\\envs\\findrepo2-experiment\\Lib\\site-packages\\pysftp\\__init__.py\", line 1013, in __del__\n",
      "    self.close()\n",
      "  File \"c:\\Users\\ek\\miniforge3\\envs\\findrepo2-experiment\\Lib\\site-packages\\pysftp\\__init__.py\", line 788, in close\n",
      "    if self._transport:\n",
      "       ^^^^^^^^^^^^^^^\n",
      "AttributeError: 'Connection' object has no attribute '_transport'\n"
     ]
    },
    {
     "ename": "PasswordRequiredException",
     "evalue": "private key file is encrypted",
     "output_type": "error",
     "traceback": [
      "\u001b[1;31m---------------------------------------------------------------------------\u001b[0m",
      "\u001b[1;31mPasswordRequiredException\u001b[0m                 Traceback (most recent call last)",
      "File \u001b[1;32mc:\\Users\\ek\\miniforge3\\envs\\findrepo2-experiment\\Lib\\site-packages\\pysftp\\__init__.py:166\u001b[0m, in \u001b[0;36mConnection._set_authentication\u001b[1;34m(self, password, private_key, private_key_pass)\u001b[0m\n\u001b[0;32m    165\u001b[0m \u001b[39mtry\u001b[39;00m:  \u001b[39m# try rsa\u001b[39;00m\n\u001b[1;32m--> 166\u001b[0m     \u001b[39mself\u001b[39m\u001b[39m.\u001b[39m_tconnect[\u001b[39m'\u001b[39m\u001b[39mpkey\u001b[39m\u001b[39m'\u001b[39m] \u001b[39m=\u001b[39m RSAKey\u001b[39m.\u001b[39;49mfrom_private_key_file(\n\u001b[0;32m    167\u001b[0m         private_key_file, private_key_pass)\n\u001b[0;32m    168\u001b[0m \u001b[39mexcept\u001b[39;00m paramiko\u001b[39m.\u001b[39mSSHException:   \u001b[39m# if it fails, try dss\u001b[39;00m\n\u001b[0;32m    169\u001b[0m     \u001b[39m# pylint:disable=r0204\u001b[39;00m\n",
      "File \u001b[1;32mc:\\Users\\ek\\miniforge3\\envs\\findrepo2-experiment\\Lib\\site-packages\\paramiko\\pkey.py:249\u001b[0m, in \u001b[0;36mPKey.from_private_key_file\u001b[1;34m(cls, filename, password)\u001b[0m\n\u001b[0;32m    230\u001b[0m \u001b[39m\"\"\"\u001b[39;00m\n\u001b[0;32m    231\u001b[0m \u001b[39mCreate a key object by reading a private key file.  If the private\u001b[39;00m\n\u001b[0;32m    232\u001b[0m \u001b[39mkey is encrypted and ``password`` is not ``None``, the given password\u001b[39;00m\n\u001b[1;32m   (...)\u001b[0m\n\u001b[0;32m    247\u001b[0m \u001b[39m:raises: `.SSHException` -- if the key file is invalid\u001b[39;00m\n\u001b[0;32m    248\u001b[0m \u001b[39m\"\"\"\u001b[39;00m\n\u001b[1;32m--> 249\u001b[0m key \u001b[39m=\u001b[39m \u001b[39mcls\u001b[39;49m(filename\u001b[39m=\u001b[39;49mfilename, password\u001b[39m=\u001b[39;49mpassword)\n\u001b[0;32m    250\u001b[0m \u001b[39mreturn\u001b[39;00m key\n",
      "File \u001b[1;32mc:\\Users\\ek\\miniforge3\\envs\\findrepo2-experiment\\Lib\\site-packages\\paramiko\\rsakey.py:64\u001b[0m, in \u001b[0;36mRSAKey.__init__\u001b[1;34m(self, msg, data, filename, password, key, file_obj)\u001b[0m\n\u001b[0;32m     63\u001b[0m \u001b[39mif\u001b[39;00m filename \u001b[39mis\u001b[39;00m \u001b[39mnot\u001b[39;00m \u001b[39mNone\u001b[39;00m:\n\u001b[1;32m---> 64\u001b[0m     \u001b[39mself\u001b[39;49m\u001b[39m.\u001b[39;49m_from_private_key_file(filename, password)\n\u001b[0;32m     65\u001b[0m     \u001b[39mreturn\u001b[39;00m\n",
      "File \u001b[1;32mc:\\Users\\ek\\miniforge3\\envs\\findrepo2-experiment\\Lib\\site-packages\\paramiko\\rsakey.py:194\u001b[0m, in \u001b[0;36mRSAKey._from_private_key_file\u001b[1;34m(self, filename, password)\u001b[0m\n\u001b[0;32m    193\u001b[0m \u001b[39mdef\u001b[39;00m \u001b[39m_from_private_key_file\u001b[39m(\u001b[39mself\u001b[39m, filename, password):\n\u001b[1;32m--> 194\u001b[0m     data \u001b[39m=\u001b[39m \u001b[39mself\u001b[39;49m\u001b[39m.\u001b[39;49m_read_private_key_file(\u001b[39m\"\u001b[39;49m\u001b[39mRSA\u001b[39;49m\u001b[39m\"\u001b[39;49m, filename, password)\n\u001b[0;32m    195\u001b[0m     \u001b[39mself\u001b[39m\u001b[39m.\u001b[39m_decode_key(data)\n",
      "File \u001b[1;32mc:\\Users\\ek\\miniforge3\\envs\\findrepo2-experiment\\Lib\\site-packages\\paramiko\\pkey.py:322\u001b[0m, in \u001b[0;36mPKey._read_private_key_file\u001b[1;34m(self, tag, filename, password)\u001b[0m\n\u001b[0;32m    321\u001b[0m \u001b[39mwith\u001b[39;00m \u001b[39mopen\u001b[39m(filename, \u001b[39m\"\u001b[39m\u001b[39mr\u001b[39m\u001b[39m\"\u001b[39m) \u001b[39mas\u001b[39;00m f:\n\u001b[1;32m--> 322\u001b[0m     data \u001b[39m=\u001b[39m \u001b[39mself\u001b[39;49m\u001b[39m.\u001b[39;49m_read_private_key(tag, f, password)\n\u001b[0;32m    323\u001b[0m \u001b[39mreturn\u001b[39;00m data\n",
      "File \u001b[1;32mc:\\Users\\ek\\miniforge3\\envs\\findrepo2-experiment\\Lib\\site-packages\\paramiko\\pkey.py:353\u001b[0m, in \u001b[0;36mPKey._read_private_key\u001b[1;34m(self, tag, f, password)\u001b[0m\n\u001b[0;32m    352\u001b[0m \u001b[39melif\u001b[39;00m keytype \u001b[39m==\u001b[39m \u001b[39m\"\u001b[39m\u001b[39mOPENSSH\u001b[39m\u001b[39m\"\u001b[39m:\n\u001b[1;32m--> 353\u001b[0m     data \u001b[39m=\u001b[39m \u001b[39mself\u001b[39;49m\u001b[39m.\u001b[39;49m_read_private_key_openssh(lines[start:end], password)\n\u001b[0;32m    354\u001b[0m     pkformat \u001b[39m=\u001b[39m \u001b[39mself\u001b[39m\u001b[39m.\u001b[39m_PRIVATE_KEY_FORMAT_OPENSSH\n",
      "File \u001b[1;32mc:\\Users\\ek\\miniforge3\\envs\\findrepo2-experiment\\Lib\\site-packages\\paramiko\\pkey.py:454\u001b[0m, in \u001b[0;36mPKey._read_private_key_openssh\u001b[1;34m(self, lines, password)\u001b[0m\n\u001b[0;32m    453\u001b[0m \u001b[39mif\u001b[39;00m password \u001b[39mis\u001b[39;00m \u001b[39mNone\u001b[39;00m:\n\u001b[1;32m--> 454\u001b[0m     \u001b[39mraise\u001b[39;00m PasswordRequiredException(\n\u001b[0;32m    455\u001b[0m         \u001b[39m\"\u001b[39m\u001b[39mprivate key file is encrypted\u001b[39m\u001b[39m\"\u001b[39m\n\u001b[0;32m    456\u001b[0m     )\n\u001b[0;32m    458\u001b[0m \u001b[39m# Unpack salt and rounds from kdfoptions\u001b[39;00m\n",
      "\u001b[1;31mPasswordRequiredException\u001b[0m: private key file is encrypted",
      "\nDuring handling of the above exception, another exception occurred:\n",
      "\u001b[1;31mPasswordRequiredException\u001b[0m                 Traceback (most recent call last)",
      "Cell \u001b[1;32mIn[11], line 1\u001b[0m\n\u001b[1;32m----> 1\u001b[0m fetch_repo_names()\n",
      "Cell \u001b[1;32mIn[10], line 8\u001b[0m, in \u001b[0;36mfetch_repo_names\u001b[1;34m()\u001b[0m\n\u001b[0;32m      5\u001b[0m     hostname \u001b[39m=\u001b[39m file\u001b[39m.\u001b[39mread()\u001b[39m.\u001b[39mstrip()\n\u001b[0;32m      7\u001b[0m \u001b[39m# List the contents of the \"public\" repositories directory on that server.\u001b[39;00m\n\u001b[1;32m----> 8\u001b[0m \u001b[39mwith\u001b[39;00m pysftp\u001b[39m.\u001b[39;49mConnection(host\u001b[39m=\u001b[39;49mhostname, username\u001b[39m=\u001b[39;49mos\u001b[39m.\u001b[39;49mgetlogin()) \u001b[39mas\u001b[39;00m sftp:\n\u001b[0;32m      9\u001b[0m     entries \u001b[39m=\u001b[39m sftp\u001b[39m.\u001b[39mlistdir(REPO_DIR)\n\u001b[0;32m     11\u001b[0m \u001b[39m# Only return names that end in the appropriate suffix. Strip the suffix.\u001b[39;00m\n",
      "File \u001b[1;32mc:\\Users\\ek\\miniforge3\\envs\\findrepo2-experiment\\Lib\\site-packages\\pysftp\\__init__.py:142\u001b[0m, in \u001b[0;36mConnection.__init__\u001b[1;34m(self, host, username, private_key, password, port, private_key_pass, ciphers, log, cnopts, default_path)\u001b[0m\n\u001b[0;32m    140\u001b[0m \u001b[39mself\u001b[39m\u001b[39m.\u001b[39m_start_transport(host, port)\n\u001b[0;32m    141\u001b[0m \u001b[39mself\u001b[39m\u001b[39m.\u001b[39m_transport\u001b[39m.\u001b[39muse_compression(\u001b[39mself\u001b[39m\u001b[39m.\u001b[39m_cnopts\u001b[39m.\u001b[39mcompression)\n\u001b[1;32m--> 142\u001b[0m \u001b[39mself\u001b[39;49m\u001b[39m.\u001b[39;49m_set_authentication(password, private_key, private_key_pass)\n\u001b[0;32m    143\u001b[0m \u001b[39mself\u001b[39m\u001b[39m.\u001b[39m_transport\u001b[39m.\u001b[39mconnect(\u001b[39m*\u001b[39m\u001b[39m*\u001b[39m\u001b[39mself\u001b[39m\u001b[39m.\u001b[39m_tconnect)\n",
      "File \u001b[1;32mc:\\Users\\ek\\miniforge3\\envs\\findrepo2-experiment\\Lib\\site-packages\\pysftp\\__init__.py:170\u001b[0m, in \u001b[0;36mConnection._set_authentication\u001b[1;34m(self, password, private_key, private_key_pass)\u001b[0m\n\u001b[0;32m    166\u001b[0m     \u001b[39mself\u001b[39m\u001b[39m.\u001b[39m_tconnect[\u001b[39m'\u001b[39m\u001b[39mpkey\u001b[39m\u001b[39m'\u001b[39m] \u001b[39m=\u001b[39m RSAKey\u001b[39m.\u001b[39mfrom_private_key_file(\n\u001b[0;32m    167\u001b[0m         private_key_file, private_key_pass)\n\u001b[0;32m    168\u001b[0m \u001b[39mexcept\u001b[39;00m paramiko\u001b[39m.\u001b[39mSSHException:   \u001b[39m# if it fails, try dss\u001b[39;00m\n\u001b[0;32m    169\u001b[0m     \u001b[39m# pylint:disable=r0204\u001b[39;00m\n\u001b[1;32m--> 170\u001b[0m     \u001b[39mself\u001b[39m\u001b[39m.\u001b[39m_tconnect[\u001b[39m'\u001b[39m\u001b[39mpkey\u001b[39m\u001b[39m'\u001b[39m] \u001b[39m=\u001b[39m DSSKey\u001b[39m.\u001b[39;49mfrom_private_key_file(\n\u001b[0;32m    171\u001b[0m         private_key_file, private_key_pass)\n",
      "File \u001b[1;32mc:\\Users\\ek\\miniforge3\\envs\\findrepo2-experiment\\Lib\\site-packages\\paramiko\\pkey.py:249\u001b[0m, in \u001b[0;36mPKey.from_private_key_file\u001b[1;34m(cls, filename, password)\u001b[0m\n\u001b[0;32m    228\u001b[0m \u001b[39m@classmethod\u001b[39m\n\u001b[0;32m    229\u001b[0m \u001b[39mdef\u001b[39;00m \u001b[39mfrom_private_key_file\u001b[39m(\u001b[39mcls\u001b[39m, filename, password\u001b[39m=\u001b[39m\u001b[39mNone\u001b[39;00m):\n\u001b[0;32m    230\u001b[0m     \u001b[39m\"\"\"\u001b[39;00m\n\u001b[0;32m    231\u001b[0m \u001b[39m    Create a key object by reading a private key file.  If the private\u001b[39;00m\n\u001b[0;32m    232\u001b[0m \u001b[39m    key is encrypted and ``password`` is not ``None``, the given password\u001b[39;00m\n\u001b[1;32m   (...)\u001b[0m\n\u001b[0;32m    247\u001b[0m \u001b[39m    :raises: `.SSHException` -- if the key file is invalid\u001b[39;00m\n\u001b[0;32m    248\u001b[0m \u001b[39m    \"\"\"\u001b[39;00m\n\u001b[1;32m--> 249\u001b[0m     key \u001b[39m=\u001b[39m \u001b[39mcls\u001b[39;49m(filename\u001b[39m=\u001b[39;49mfilename, password\u001b[39m=\u001b[39;49mpassword)\n\u001b[0;32m    250\u001b[0m     \u001b[39mreturn\u001b[39;00m key\n",
      "File \u001b[1;32mc:\\Users\\ek\\miniforge3\\envs\\findrepo2-experiment\\Lib\\site-packages\\paramiko\\dsskey.py:65\u001b[0m, in \u001b[0;36mDSSKey.__init__\u001b[1;34m(self, msg, data, filename, password, vals, file_obj)\u001b[0m\n\u001b[0;32m     63\u001b[0m     \u001b[39mreturn\u001b[39;00m\n\u001b[0;32m     64\u001b[0m \u001b[39mif\u001b[39;00m filename \u001b[39mis\u001b[39;00m \u001b[39mnot\u001b[39;00m \u001b[39mNone\u001b[39;00m:\n\u001b[1;32m---> 65\u001b[0m     \u001b[39mself\u001b[39;49m\u001b[39m.\u001b[39;49m_from_private_key_file(filename, password)\n\u001b[0;32m     66\u001b[0m     \u001b[39mreturn\u001b[39;00m\n\u001b[0;32m     67\u001b[0m \u001b[39mif\u001b[39;00m (msg \u001b[39mis\u001b[39;00m \u001b[39mNone\u001b[39;00m) \u001b[39mand\u001b[39;00m (data \u001b[39mis\u001b[39;00m \u001b[39mnot\u001b[39;00m \u001b[39mNone\u001b[39;00m):\n",
      "File \u001b[1;32mc:\\Users\\ek\\miniforge3\\envs\\findrepo2-experiment\\Lib\\site-packages\\paramiko\\dsskey.py:225\u001b[0m, in \u001b[0;36mDSSKey._from_private_key_file\u001b[1;34m(self, filename, password)\u001b[0m\n\u001b[0;32m    224\u001b[0m \u001b[39mdef\u001b[39;00m \u001b[39m_from_private_key_file\u001b[39m(\u001b[39mself\u001b[39m, filename, password):\n\u001b[1;32m--> 225\u001b[0m     data \u001b[39m=\u001b[39m \u001b[39mself\u001b[39;49m\u001b[39m.\u001b[39;49m_read_private_key_file(\u001b[39m\"\u001b[39;49m\u001b[39mDSA\u001b[39;49m\u001b[39m\"\u001b[39;49m, filename, password)\n\u001b[0;32m    226\u001b[0m     \u001b[39mself\u001b[39m\u001b[39m.\u001b[39m_decode_key(data)\n",
      "File \u001b[1;32mc:\\Users\\ek\\miniforge3\\envs\\findrepo2-experiment\\Lib\\site-packages\\paramiko\\pkey.py:322\u001b[0m, in \u001b[0;36mPKey._read_private_key_file\u001b[1;34m(self, tag, filename, password)\u001b[0m\n\u001b[0;32m    301\u001b[0m \u001b[39m\"\"\"\u001b[39;00m\n\u001b[0;32m    302\u001b[0m \u001b[39mRead an SSH2-format private key file, looking for a string of the type\u001b[39;00m\n\u001b[0;32m    303\u001b[0m \u001b[39m``\"BEGIN xxx PRIVATE KEY\"`` for some ``xxx``, base64-decode the text we\u001b[39;00m\n\u001b[1;32m   (...)\u001b[0m\n\u001b[0;32m    319\u001b[0m \u001b[39m:raises: `.SSHException` -- if the key file is invalid.\u001b[39;00m\n\u001b[0;32m    320\u001b[0m \u001b[39m\"\"\"\u001b[39;00m\n\u001b[0;32m    321\u001b[0m \u001b[39mwith\u001b[39;00m \u001b[39mopen\u001b[39m(filename, \u001b[39m\"\u001b[39m\u001b[39mr\u001b[39m\u001b[39m\"\u001b[39m) \u001b[39mas\u001b[39;00m f:\n\u001b[1;32m--> 322\u001b[0m     data \u001b[39m=\u001b[39m \u001b[39mself\u001b[39;49m\u001b[39m.\u001b[39;49m_read_private_key(tag, f, password)\n\u001b[0;32m    323\u001b[0m \u001b[39mreturn\u001b[39;00m data\n",
      "File \u001b[1;32mc:\\Users\\ek\\miniforge3\\envs\\findrepo2-experiment\\Lib\\site-packages\\paramiko\\pkey.py:353\u001b[0m, in \u001b[0;36mPKey._read_private_key\u001b[1;34m(self, tag, f, password)\u001b[0m\n\u001b[0;32m    351\u001b[0m     pkformat \u001b[39m=\u001b[39m \u001b[39mself\u001b[39m\u001b[39m.\u001b[39m_PRIVATE_KEY_FORMAT_ORIGINAL\n\u001b[0;32m    352\u001b[0m \u001b[39melif\u001b[39;00m keytype \u001b[39m==\u001b[39m \u001b[39m\"\u001b[39m\u001b[39mOPENSSH\u001b[39m\u001b[39m\"\u001b[39m:\n\u001b[1;32m--> 353\u001b[0m     data \u001b[39m=\u001b[39m \u001b[39mself\u001b[39;49m\u001b[39m.\u001b[39;49m_read_private_key_openssh(lines[start:end], password)\n\u001b[0;32m    354\u001b[0m     pkformat \u001b[39m=\u001b[39m \u001b[39mself\u001b[39m\u001b[39m.\u001b[39m_PRIVATE_KEY_FORMAT_OPENSSH\n\u001b[0;32m    355\u001b[0m \u001b[39melse\u001b[39;00m:\n",
      "File \u001b[1;32mc:\\Users\\ek\\miniforge3\\envs\\findrepo2-experiment\\Lib\\site-packages\\paramiko\\pkey.py:454\u001b[0m, in \u001b[0;36mPKey._read_private_key_openssh\u001b[1;34m(self, lines, password)\u001b[0m\n\u001b[0;32m    450\u001b[0m \u001b[39m# Encrypted private key.\u001b[39;00m\n\u001b[0;32m    451\u001b[0m \u001b[39m# If no password was passed in, raise an exception pointing\u001b[39;00m\n\u001b[0;32m    452\u001b[0m \u001b[39m# out that we need one\u001b[39;00m\n\u001b[0;32m    453\u001b[0m \u001b[39mif\u001b[39;00m password \u001b[39mis\u001b[39;00m \u001b[39mNone\u001b[39;00m:\n\u001b[1;32m--> 454\u001b[0m     \u001b[39mraise\u001b[39;00m PasswordRequiredException(\n\u001b[0;32m    455\u001b[0m         \u001b[39m\"\u001b[39m\u001b[39mprivate key file is encrypted\u001b[39m\u001b[39m\"\u001b[39m\n\u001b[0;32m    456\u001b[0m     )\n\u001b[0;32m    458\u001b[0m \u001b[39m# Unpack salt and rounds from kdfoptions\u001b[39;00m\n\u001b[0;32m    459\u001b[0m salt, rounds \u001b[39m=\u001b[39m \u001b[39mself\u001b[39m\u001b[39m.\u001b[39m_uint32_cstruct_unpack(kdf_options, \u001b[39m\"\u001b[39m\u001b[39msu\u001b[39m\u001b[39m\"\u001b[39m)\n",
      "\u001b[1;31mPasswordRequiredException\u001b[0m: private key file is encrypted"
     ]
    }
   ],
   "source": [
    "fetch_repo_names()"
   ]
  },
  {
   "cell_type": "code",
   "execution_count": null,
   "metadata": {},
   "outputs": [],
   "source": []
  }
 ],
 "metadata": {
  "kernelspec": {
   "display_name": "findrepo2-experiment",
   "language": "python",
   "name": "python3"
  },
  "language_info": {
   "codemirror_mode": {
    "name": "ipython",
    "version": 3
   },
   "file_extension": ".py",
   "mimetype": "text/x-python",
   "name": "python",
   "nbconvert_exporter": "python",
   "pygments_lexer": "ipython3",
   "version": "3.11.0"
  },
  "orig_nbformat": 4,
  "vscode": {
   "interpreter": {
    "hash": "f3b28dd84c010413ea2595e24e09f662c7c1d21a1318532d11d1c0ed90e595d7"
   }
  }
 },
 "nbformat": 4,
 "nbformat_minor": 2
}
