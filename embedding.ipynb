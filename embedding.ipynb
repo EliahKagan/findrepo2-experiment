{
 "cells": [
  {
   "attachments": {},
   "cell_type": "markdown",
   "metadata": {},
   "source": [
    "# `fr2ex.embedding.embed_many` demo\n",
    "\n",
    "For use on the actual data set of repository names, see `main.ipynb`."
   ]
  },
  {
   "cell_type": "code",
   "execution_count": 1,
   "metadata": {},
   "outputs": [],
   "source": [
    "import logging\n",
    "\n",
    "import numpy as np\n",
    "\n",
    "import fr2ex"
   ]
  },
  {
   "cell_type": "code",
   "execution_count": 2,
   "metadata": {},
   "outputs": [],
   "source": [
    "logging.basicConfig(level=logging.INFO)"
   ]
  },
  {
   "cell_type": "code",
   "execution_count": 3,
   "metadata": {},
   "outputs": [],
   "source": [
    "TEXTS = [\n",
    "    'Gee whiz!',\n",
    "    'Golly wow!',\n",
    "    'Well, shucks!',\n",
    "    'The meeting is this afternoon!',\n",
    "]"
   ]
  },
  {
   "attachments": {},
   "cell_type": "markdown",
   "metadata": {},
   "source": [
    "## With caching enabled\n",
    "\n",
    "This is the normal way to use it."
   ]
  },
  {
   "cell_type": "code",
   "execution_count": 4,
   "metadata": {},
   "outputs": [
    {
     "name": "stderr",
     "output_type": "stream",
     "text": [
      "INFO:root:Querying OpenAI embeddings endpoint.\n",
      "INFO:openai:message='Request to OpenAI API' method=post path=https://api.openai.com/v1/engines/text-embedding-ada-002/embeddings\n",
      "INFO:openai:message='OpenAI API response' path=https://api.openai.com/v1/engines/text-embedding-ada-002/embeddings processing_ms=331 request_id=bb640ab0b4aaaa62fe2d3a1ef7b406b7 response_code=200\n"
     ]
    }
   ],
   "source": [
    "embeddings = fr2ex.embedding.embed_many(TEXTS)"
   ]
  },
  {
   "cell_type": "code",
   "execution_count": 5,
   "metadata": {},
   "outputs": [
    {
     "data": {
      "text/plain": [
       "array([[0.99999996, 0.9225741 , 0.88094956, 0.78086158],\n",
       "       [0.9225741 , 0.99999993, 0.8698922 , 0.76907447],\n",
       "       [0.88094956, 0.8698922 , 0.99999995, 0.7570367 ],\n",
       "       [0.78086158, 0.76907447, 0.7570367 , 0.99999999]])"
      ]
     },
     "execution_count": 5,
     "metadata": {},
     "output_type": "execute_result"
    }
   ],
   "source": [
    "embeddings @ np.transpose(embeddings)"
   ]
  },
  {
   "attachments": {},
   "cell_type": "markdown",
   "metadata": {},
   "source": [
    "## Comparing separate serializations"
   ]
  },
  {
   "cell_type": "code",
   "execution_count": 6,
   "metadata": {},
   "outputs": [
    {
     "data": {
      "text/plain": [
       "False"
      ]
     },
     "execution_count": 6,
     "metadata": {},
     "output_type": "execute_result"
    }
   ],
   "source": [
    "import msgpack\n",
    "\n",
    "with open('embeddings-c5e7a088e88de307e7076d8e19ef5913-old.msgpack', 'rb') as file:\n",
    "    loaded1 = msgpack.load(file)\n",
    "\n",
    "with open('embeddings-c5e7a088e88de307e7076d8e19ef5913.msgpack', 'rb') as file:\n",
    "    loaded2 = msgpack.load(file)\n",
    "\n",
    "(loaded1 == loaded2).all()"
   ]
  },
  {
   "cell_type": "code",
   "execution_count": 7,
   "metadata": {},
   "outputs": [
    {
     "data": {
      "text/plain": [
       "array([[-3.67610715e-04,  1.46796799e-03,  5.27247787e-04, ...,\n",
       "        -6.94829971e-04, -9.71567351e-04, -2.23577023e-04],\n",
       "       [-2.65697017e-05, -3.48603353e-05,  2.75913626e-05, ...,\n",
       "        -2.74460763e-05,  8.53426754e-05, -6.71409070e-05],\n",
       "       [ 1.63228251e-05,  2.37338245e-05,  4.18960117e-05, ...,\n",
       "        -1.72853470e-06, -7.73686916e-05,  3.59173864e-05],\n",
       "       [-4.50620428e-06, -3.17757949e-05, -2.97678635e-05, ...,\n",
       "         3.03797424e-05, -3.18257371e-05, -2.09417194e-05]])"
      ]
     },
     "execution_count": 7,
     "metadata": {},
     "output_type": "execute_result"
    }
   ],
   "source": [
    "loaded2 - loaded1"
   ]
  },
  {
   "cell_type": "code",
   "execution_count": 8,
   "metadata": {},
   "outputs": [
    {
     "data": {
      "text/plain": [
       "False"
      ]
     },
     "execution_count": 8,
     "metadata": {},
     "output_type": "execute_result"
    }
   ],
   "source": [
    "(embeddings == loaded1).all()"
   ]
  },
  {
   "cell_type": "code",
   "execution_count": 9,
   "metadata": {},
   "outputs": [
    {
     "data": {
      "text/plain": [
       "True"
      ]
     },
     "execution_count": 9,
     "metadata": {},
     "output_type": "execute_result"
    }
   ],
   "source": [
    "(embeddings == loaded2).all()"
   ]
  },
  {
   "cell_type": "code",
   "execution_count": 11,
   "metadata": {},
   "outputs": [
    {
     "data": {
      "text/plain": [
       "0.003502288367599249"
      ]
     },
     "execution_count": 11,
     "metadata": {},
     "output_type": "execute_result"
    }
   ],
   "source": [
    "abs(loaded2 - loaded1).max()"
   ]
  },
  {
   "cell_type": "code",
   "execution_count": 20,
   "metadata": {},
   "outputs": [
    {
     "data": {
      "text/plain": [
       "[0.9993936427215655, 0.999998359704665, 0.9999980855722359, 0.9999982262121097]"
      ]
     },
     "execution_count": 20,
     "metadata": {},
     "output_type": "execute_result"
    }
   ],
   "source": [
    "[np.dot(row1, row2) for row1, row2 in zip(loaded1, loaded2)]"
   ]
  },
  {
   "cell_type": "code",
   "execution_count": 22,
   "metadata": {},
   "outputs": [
    {
     "data": {
      "text/plain": [
       "[0.9999999798377719,\n",
       " 1.0000000998125569,\n",
       " 0.9999999759877776,\n",
       " 1.0000000403818028]"
      ]
     },
     "execution_count": 22,
     "metadata": {},
     "output_type": "execute_result"
    }
   ],
   "source": [
    "[np.dot(row1, row1) for row1 in loaded1]"
   ]
  },
  {
   "attachments": {},
   "cell_type": "markdown",
   "metadata": {},
   "source": [
    "## With caching disabled\n",
    "\n",
    "This currently relies on implementation details of `fr2ex` and should only be\n",
    "done for investigating specific unexpected behavior. It's included in the\n",
    "notebook because saved `.msgpack` files for embeddings of the same texts were\n",
    "different binary files, so I wanted to make sure this was due to nondeterminism\n",
    "in the results from the model, rather than a problem with serialization."
   ]
  },
  {
   "cell_type": "code",
   "execution_count": 12,
   "metadata": {},
   "outputs": [],
   "source": [
    "fr2ex._task._ensure_api_key()"
   ]
  },
  {
   "cell_type": "code",
   "execution_count": 13,
   "metadata": {},
   "outputs": [
    {
     "name": "stderr",
     "output_type": "stream",
     "text": [
      "INFO:openai:message='Request to OpenAI API' method=post path=https://api.openai.com/v1/engines/text-embedding-ada-002/embeddings\n",
      "INFO:openai:message='OpenAI API response' path=https://api.openai.com/v1/engines/text-embedding-ada-002/embeddings processing_ms=451 request_id=8871eed37edfc878d8ee2239873407ce response_code=200\n"
     ]
    }
   ],
   "source": [
    "embeddings2 = fr2ex.embedding.embed_many.__wrapped__(TEXTS)"
   ]
  },
  {
   "cell_type": "code",
   "execution_count": 14,
   "metadata": {},
   "outputs": [
    {
     "data": {
      "text/plain": [
       "(4, 1536)"
      ]
     },
     "execution_count": 14,
     "metadata": {},
     "output_type": "execute_result"
    }
   ],
   "source": [
    "embeddings2.shape"
   ]
  },
  {
   "cell_type": "code",
   "execution_count": 15,
   "metadata": {},
   "outputs": [
    {
     "data": {
      "text/plain": [
       "array([[ 1.98085792e-04, -2.05242424e-04, -4.22066078e-04, ...,\n",
       "         5.24587929e-04,  2.92179175e-04,  9.69542190e-04],\n",
       "       [ 7.07395375e-05,  9.71162226e-05, -2.33948231e-05, ...,\n",
       "         3.66698951e-05, -1.03009865e-04,  6.16442412e-05],\n",
       "       [ 1.12317502e-06,  5.85597008e-05, -8.25151801e-06, ...,\n",
       "        -1.78534538e-05,  8.04308802e-05, -6.91041350e-06],\n",
       "       [-2.00229697e-05,  4.67174686e-06, -3.76319513e-05, ...,\n",
       "         1.15558505e-05,  2.03077216e-05,  1.14124268e-05]])"
      ]
     },
     "execution_count": 15,
     "metadata": {},
     "output_type": "execute_result"
    }
   ],
   "source": [
    "embeddings2 - embeddings"
   ]
  },
  {
   "cell_type": "code",
   "execution_count": 16,
   "metadata": {},
   "outputs": [
    {
     "data": {
      "text/plain": [
       "False"
      ]
     },
     "execution_count": 16,
     "metadata": {},
     "output_type": "execute_result"
    }
   ],
   "source": [
    "(embeddings2 == embeddings).all()"
   ]
  },
  {
   "cell_type": "code",
   "execution_count": 19,
   "metadata": {},
   "outputs": [
    {
     "data": {
      "text/plain": [
       "False"
      ]
     },
     "execution_count": 19,
     "metadata": {},
     "output_type": "execute_result"
    }
   ],
   "source": [
    "(embeddings2 == loaded1).all()"
   ]
  },
  {
   "cell_type": "code",
   "execution_count": null,
   "metadata": {},
   "outputs": [],
   "source": []
  }
 ],
 "metadata": {
  "kernelspec": {
   "display_name": "findrepo2-experiment",
   "language": "python",
   "name": "python3"
  },
  "language_info": {
   "codemirror_mode": {
    "name": "ipython",
    "version": 3
   },
   "file_extension": ".py",
   "mimetype": "text/x-python",
   "name": "python",
   "nbconvert_exporter": "python",
   "pygments_lexer": "ipython3",
   "version": "3.11.0"
  },
  "orig_nbformat": 4,
  "vscode": {
   "interpreter": {
    "hash": "f3b28dd84c010413ea2595e24e09f662c7c1d21a1318532d11d1c0ed90e595d7"
   }
  }
 },
 "nbformat": 4,
 "nbformat_minor": 2
}
