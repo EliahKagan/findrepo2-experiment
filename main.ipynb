{
 "cells": [
  {
   "cell_type": "code",
   "execution_count": 1,
   "metadata": {},
   "outputs": [],
   "source": [
    "import logging\n",
    "from types import SimpleNamespace\n",
    "\n",
    "import numpy as np\n",
    "from tabulate import tabulate\n",
    "\n",
    "import fr2ex"
   ]
  },
  {
   "cell_type": "code",
   "execution_count": 2,
   "metadata": {},
   "outputs": [],
   "source": [
    "logging.basicConfig(level=logging.INFO)"
   ]
  },
  {
   "cell_type": "code",
   "execution_count": 3,
   "metadata": {},
   "outputs": [
    {
     "name": "stderr",
     "output_type": "stream",
     "text": [
      "INFO:paramiko.transport:Connected (version 2.0, client OpenSSH_7.6p1)\n",
      "INFO:paramiko.transport:Authentication (publickey) successful!\n",
      "INFO:paramiko.transport.sftp:[chan 0] Opened sftp connection (server version 3)\n"
     ]
    }
   ],
   "source": [
    "names = fr2ex.remote.fetch_repo_names()"
   ]
  },
  {
   "cell_type": "code",
   "execution_count": 4,
   "metadata": {},
   "outputs": [
    {
     "data": {
      "text/plain": [
       "648"
      ]
     },
     "execution_count": 4,
     "metadata": {},
     "output_type": "execute_result"
    }
   ],
   "source": [
    "len(names)"
   ]
  },
  {
   "cell_type": "code",
   "execution_count": 5,
   "metadata": {},
   "outputs": [
    {
     "name": "stderr",
     "output_type": "stream",
     "text": [
      "INFO:root:Reading cached moderation.\n"
     ]
    }
   ],
   "source": [
    "moderation = fr2ex.moderation.get_moderation(names)"
   ]
  },
  {
   "cell_type": "code",
   "execution_count": 6,
   "metadata": {},
   "outputs": [
    {
     "data": {
      "text/plain": [
       "648"
      ]
     },
     "execution_count": 6,
     "metadata": {},
     "output_type": "execute_result"
    }
   ],
   "source": [
    "len(moderation)"
   ]
  },
  {
   "cell_type": "code",
   "execution_count": 7,
   "metadata": {},
   "outputs": [
    {
     "data": {
      "text/plain": [
       "False"
      ]
     },
     "execution_count": 7,
     "metadata": {},
     "output_type": "execute_result"
    }
   ],
   "source": [
    "any(result['flagged'] for result in moderation)"
   ]
  },
  {
   "cell_type": "code",
   "execution_count": 8,
   "metadata": {},
   "outputs": [
    {
     "name": "stdout",
     "output_type": "stream",
     "text": [
      "It looks like the rate is $0.0004 per 1000 tokens. If so, the cost to\n",
      "process 1796 tokens is about $0.0007184 (that is, 0.0718400 cents).\n"
     ]
    }
   ],
   "source": [
    "fr2ex.tokens.report_cost(names)"
   ]
  },
  {
   "cell_type": "code",
   "execution_count": 9,
   "metadata": {},
   "outputs": [
    {
     "name": "stderr",
     "output_type": "stream",
     "text": [
      "INFO:root:Reading cached embeddings.\n"
     ]
    }
   ],
   "source": [
    "embeddings = fr2ex.embedding.embed_many(names)"
   ]
  },
  {
   "cell_type": "code",
   "execution_count": 10,
   "metadata": {},
   "outputs": [],
   "source": [
    "def guess(name: str, count: int = 5) -> None:\n",
    "    \"\"\"Show top guesses for similarity of name to already embedded names.\"\"\"\n",
    "    scores = embeddings @ fr2ex.embedding.embed(name)\n",
    "    ordering = sorted(zip(scores, names), reverse=True)\n",
    "    table = [(name, score) for score, name in ordering]\n",
    "    return tabulate(table[:count], tablefmt='html', floatfmt='.6f')"
   ]
  },
  {
   "cell_type": "code",
   "execution_count": 11,
   "metadata": {},
   "outputs": [
    {
     "name": "stderr",
     "output_type": "stream",
     "text": [
      "INFO:openai:message='Request to OpenAI API' method=post path=https://api.openai.com/v1/engines/text-embedding-ada-002/embeddings\n",
      "INFO:openai:message='OpenAI API response' path=https://api.openai.com/v1/engines/text-embedding-ada-002/embeddings processing_ms=278 request_id=c01e0c9c4523d310a310483a0938cd14 response_code=200\n"
     ]
    },
    {
     "data": {
      "text/html": [
       "<table>\n",
       "<tbody>\n",
       "<tr><td>Calculator            </td><td style=\"text-align: right;\">0.868910</td></tr>\n",
       "<tr><td>Geometry              </td><td style=\"text-align: right;\">0.865473</td></tr>\n",
       "<tr><td>algorithms-suggestions</td><td style=\"text-align: right;\">0.860273</td></tr>\n",
       "<tr><td>Alias                 </td><td style=\"text-align: right;\">0.851760</td></tr>\n",
       "<tr><td>crystal-algo          </td><td style=\"text-align: right;\">0.849729</td></tr>\n",
       "</tbody>\n",
       "</table>"
      ],
      "text/plain": [
       "'<table>\\n<tbody>\\n<tr><td>Calculator            </td><td style=\"text-align: right;\">0.868910</td></tr>\\n<tr><td>Geometry              </td><td style=\"text-align: right;\">0.865473</td></tr>\\n<tr><td>algorithms-suggestions</td><td style=\"text-align: right;\">0.860273</td></tr>\\n<tr><td>Alias                 </td><td style=\"text-align: right;\">0.851760</td></tr>\\n<tr><td>crystal-algo          </td><td style=\"text-align: right;\">0.849729</td></tr>\\n</tbody>\\n</table>'"
      ]
     },
     "execution_count": 11,
     "metadata": {},
     "output_type": "execute_result"
    }
   ],
   "source": [
    "guess('algorithm')"
   ]
  },
  {
   "cell_type": "code",
   "execution_count": 12,
   "metadata": {},
   "outputs": [
    {
     "name": "stderr",
     "output_type": "stream",
     "text": [
      "INFO:openai:message='Request to OpenAI API' method=post path=https://api.openai.com/v1/engines/text-embedding-ada-002/embeddings\n",
      "INFO:openai:message='OpenAI API response' path=https://api.openai.com/v1/engines/text-embedding-ada-002/embeddings processing_ms=12 request_id=dd1bdd5980099333c7648a178abde5c7 response_code=200\n"
     ]
    },
    {
     "data": {
      "text/html": [
       "<table>\n",
       "<tbody>\n",
       "<tr><td>SortingRanges</td><td style=\"text-align: right;\">0.932602</td></tr>\n",
       "<tr><td>Sorts        </td><td style=\"text-align: right;\">0.909067</td></tr>\n",
       "<tr><td>sortkey      </td><td style=\"text-align: right;\">0.859571</td></tr>\n",
       "<tr><td>PartialSort  </td><td style=\"text-align: right;\">0.855028</td></tr>\n",
       "<tr><td>tsort        </td><td style=\"text-align: right;\">0.840264</td></tr>\n",
       "</tbody>\n",
       "</table>"
      ],
      "text/plain": [
       "'<table>\\n<tbody>\\n<tr><td>SortingRanges</td><td style=\"text-align: right;\">0.932602</td></tr>\\n<tr><td>Sorts        </td><td style=\"text-align: right;\">0.909067</td></tr>\\n<tr><td>sortkey      </td><td style=\"text-align: right;\">0.859571</td></tr>\\n<tr><td>PartialSort  </td><td style=\"text-align: right;\">0.855028</td></tr>\\n<tr><td>tsort        </td><td style=\"text-align: right;\">0.840264</td></tr>\\n</tbody>\\n</table>'"
      ]
     },
     "execution_count": 12,
     "metadata": {},
     "output_type": "execute_result"
    }
   ],
   "source": [
    "guess('sorting')"
   ]
  },
  {
   "cell_type": "code",
   "execution_count": 13,
   "metadata": {},
   "outputs": [
    {
     "name": "stderr",
     "output_type": "stream",
     "text": [
      "INFO:openai:message='Request to OpenAI API' method=post path=https://api.openai.com/v1/engines/text-embedding-ada-002/embeddings\n",
      "INFO:openai:message='OpenAI API response' path=https://api.openai.com/v1/engines/text-embedding-ada-002/embeddings processing_ms=13 request_id=51c2c2e79d62e714126183cda5f31e8a response_code=200\n"
     ]
    },
    {
     "data": {
      "text/html": [
       "<table>\n",
       "<tbody>\n",
       "<tr><td>algorithms-suggestions</td><td style=\"text-align: right;\">0.889052</td></tr>\n",
       "<tr><td>algorithms-python     </td><td style=\"text-align: right;\">0.859356</td></tr>\n",
       "<tr><td>crystal-algo          </td><td style=\"text-align: right;\">0.856027</td></tr>\n",
       "<tr><td>Graph-gist            </td><td style=\"text-align: right;\">0.842523</td></tr>\n",
       "<tr><td>codegraph             </td><td style=\"text-align: right;\">0.833195</td></tr>\n",
       "</tbody>\n",
       "</table>"
      ],
      "text/plain": [
       "'<table>\\n<tbody>\\n<tr><td>algorithms-suggestions</td><td style=\"text-align: right;\">0.889052</td></tr>\\n<tr><td>algorithms-python     </td><td style=\"text-align: right;\">0.859356</td></tr>\\n<tr><td>crystal-algo          </td><td style=\"text-align: right;\">0.856027</td></tr>\\n<tr><td>Graph-gist            </td><td style=\"text-align: right;\">0.842523</td></tr>\\n<tr><td>codegraph             </td><td style=\"text-align: right;\">0.833195</td></tr>\\n</tbody>\\n</table>'"
      ]
     },
     "execution_count": 13,
     "metadata": {},
     "output_type": "execute_result"
    }
   ],
   "source": [
    "guess('algorithm-visualization')"
   ]
  },
  {
   "cell_type": "code",
   "execution_count": 14,
   "metadata": {},
   "outputs": [
    {
     "name": "stderr",
     "output_type": "stream",
     "text": [
      "INFO:openai:message='Request to OpenAI API' method=post path=https://api.openai.com/v1/engines/text-embedding-ada-002/embeddings\n",
      "INFO:openai:message='OpenAI API response' path=https://api.openai.com/v1/engines/text-embedding-ada-002/embeddings processing_ms=13 request_id=9062f6edf94db85a0ba9be3f084d4476 response_code=200\n"
     ]
    },
    {
     "data": {
      "text/html": [
       "<table>\n",
       "<tbody>\n",
       "<tr><td>try-maven </td><td style=\"text-align: right;\">0.916256</td></tr>\n",
       "<tr><td>pimpl     </td><td style=\"text-align: right;\">0.836146</td></tr>\n",
       "<tr><td>try-gradle</td><td style=\"text-align: right;\">0.833636</td></tr>\n",
       "<tr><td>muntineer </td><td style=\"text-align: right;\">0.824914</td></tr>\n",
       "<tr><td>try-guava </td><td style=\"text-align: right;\">0.824732</td></tr>\n",
       "</tbody>\n",
       "</table>"
      ],
      "text/plain": [
       "'<table>\\n<tbody>\\n<tr><td>try-maven </td><td style=\"text-align: right;\">0.916256</td></tr>\\n<tr><td>pimpl     </td><td style=\"text-align: right;\">0.836146</td></tr>\\n<tr><td>try-gradle</td><td style=\"text-align: right;\">0.833636</td></tr>\\n<tr><td>muntineer </td><td style=\"text-align: right;\">0.824914</td></tr>\\n<tr><td>try-guava </td><td style=\"text-align: right;\">0.824732</td></tr>\\n</tbody>\\n</table>'"
      ]
     },
     "execution_count": 14,
     "metadata": {},
     "output_type": "execute_result"
    }
   ],
   "source": [
    "guess('maven')"
   ]
  },
  {
   "cell_type": "code",
   "execution_count": 15,
   "metadata": {},
   "outputs": [
    {
     "name": "stderr",
     "output_type": "stream",
     "text": [
      "INFO:openai:message='Request to OpenAI API' method=post path=https://api.openai.com/v1/engines/text-embedding-ada-002/embeddings\n",
      "INFO:openai:message='OpenAI API response' path=https://api.openai.com/v1/engines/text-embedding-ada-002/embeddings processing_ms=233 request_id=6332586f7b79e0e9e69c4c1ca83fff24 response_code=200\n"
     ]
    },
    {
     "data": {
      "text/html": [
       "<table>\n",
       "<tbody>\n",
       "<tr><td>newrepo-findrepo    </td><td style=\"text-align: right;\">0.916317</td></tr>\n",
       "<tr><td>findrepo2-experiment</td><td style=\"text-align: right;\">0.867252</td></tr>\n",
       "<tr><td>backup-repos        </td><td style=\"text-align: right;\">0.864986</td></tr>\n",
       "<tr><td>TestRepo            </td><td style=\"text-align: right;\">0.842144</td></tr>\n",
       "<tr><td>git-notes           </td><td style=\"text-align: right;\">0.828851</td></tr>\n",
       "</tbody>\n",
       "</table>"
      ],
      "text/plain": [
       "'<table>\\n<tbody>\\n<tr><td>newrepo-findrepo    </td><td style=\"text-align: right;\">0.916317</td></tr>\\n<tr><td>findrepo2-experiment</td><td style=\"text-align: right;\">0.867252</td></tr>\\n<tr><td>backup-repos        </td><td style=\"text-align: right;\">0.864986</td></tr>\\n<tr><td>TestRepo            </td><td style=\"text-align: right;\">0.842144</td></tr>\\n<tr><td>git-notes           </td><td style=\"text-align: right;\">0.828851</td></tr>\\n</tbody>\\n</table>'"
      ]
     },
     "execution_count": 15,
     "metadata": {},
     "output_type": "execute_result"
    }
   ],
   "source": [
    "guess('find-repo')"
   ]
  },
  {
   "cell_type": "code",
   "execution_count": 16,
   "metadata": {},
   "outputs": [
    {
     "name": "stderr",
     "output_type": "stream",
     "text": [
      "INFO:openai:message='Request to OpenAI API' method=post path=https://api.openai.com/v1/engines/text-embedding-ada-002/embeddings\n",
      "INFO:openai:message='OpenAI API response' path=https://api.openai.com/v1/engines/text-embedding-ada-002/embeddings processing_ms=262 request_id=b142c5b472aed389eaba51452ef93f01 response_code=200\n"
     ]
    },
    {
     "data": {
      "text/html": [
       "<table>\n",
       "<tbody>\n",
       "<tr><td>codegraph       </td><td style=\"text-align: right;\">0.881251</td></tr>\n",
       "<tr><td>Graph           </td><td style=\"text-align: right;\">0.879413</td></tr>\n",
       "<tr><td>Graph-gist      </td><td style=\"text-align: right;\">0.864631</td></tr>\n",
       "<tr><td>Geometry        </td><td style=\"text-align: right;\">0.839642</td></tr>\n",
       "<tr><td>wpf-graph       </td><td style=\"text-align: right;\">0.829404</td></tr>\n",
       "<tr><td>gh-profile      </td><td style=\"text-align: right;\">0.814760</td></tr>\n",
       "<tr><td>c-sketches      </td><td style=\"text-align: right;\">0.813890</td></tr>\n",
       "<tr><td>trig            </td><td style=\"text-align: right;\">0.809310</td></tr>\n",
       "<tr><td>Draw            </td><td style=\"text-align: right;\">0.808751</td></tr>\n",
       "<tr><td>crystal-sketches</td><td style=\"text-align: right;\">0.804857</td></tr>\n",
       "</tbody>\n",
       "</table>"
      ],
      "text/plain": [
       "'<table>\\n<tbody>\\n<tr><td>codegraph       </td><td style=\"text-align: right;\">0.881251</td></tr>\\n<tr><td>Graph           </td><td style=\"text-align: right;\">0.879413</td></tr>\\n<tr><td>Graph-gist      </td><td style=\"text-align: right;\">0.864631</td></tr>\\n<tr><td>Geometry        </td><td style=\"text-align: right;\">0.839642</td></tr>\\n<tr><td>wpf-graph       </td><td style=\"text-align: right;\">0.829404</td></tr>\\n<tr><td>gh-profile      </td><td style=\"text-align: right;\">0.814760</td></tr>\\n<tr><td>c-sketches      </td><td style=\"text-align: right;\">0.813890</td></tr>\\n<tr><td>trig            </td><td style=\"text-align: right;\">0.809310</td></tr>\\n<tr><td>Draw            </td><td style=\"text-align: right;\">0.808751</td></tr>\\n<tr><td>crystal-sketches</td><td style=\"text-align: right;\">0.804857</td></tr>\\n</tbody>\\n</table>'"
      ]
     },
     "execution_count": 16,
     "metadata": {},
     "output_type": "execute_result"
    }
   ],
   "source": [
    "guess('graph theory', count=10)"
   ]
  },
  {
   "cell_type": "code",
   "execution_count": 17,
   "metadata": {},
   "outputs": [
    {
     "name": "stderr",
     "output_type": "stream",
     "text": [
      "INFO:openai:message='Request to OpenAI API' method=post path=https://api.openai.com/v1/engines/text-embedding-ada-002/embeddings\n",
      "INFO:openai:message='OpenAI API response' path=https://api.openai.com/v1/engines/text-embedding-ada-002/embeddings processing_ms=18 request_id=bc8e8162a38fcad66b784eede9a32bd5 response_code=200\n"
     ]
    },
    {
     "data": {
      "text/html": [
       "<table>\n",
       "<tbody>\n",
       "<tr><td>Dijkstra              </td><td style=\"text-align: right;\">0.891512</td></tr>\n",
       "<tr><td>Paths                 </td><td style=\"text-align: right;\">0.838847</td></tr>\n",
       "<tr><td>TreeTraversal         </td><td style=\"text-align: right;\">0.830639</td></tr>\n",
       "<tr><td>Kruskal               </td><td style=\"text-align: right;\">0.816384</td></tr>\n",
       "<tr><td>algorithms-suggestions</td><td style=\"text-align: right;\">0.816244</td></tr>\n",
       "<tr><td>Traverse              </td><td style=\"text-align: right;\">0.812973</td></tr>\n",
       "<tr><td>Permutations          </td><td style=\"text-align: right;\">0.806550</td></tr>\n",
       "<tr><td>treejs                </td><td style=\"text-align: right;\">0.801292</td></tr>\n",
       "<tr><td>DFS                   </td><td style=\"text-align: right;\">0.800742</td></tr>\n",
       "<tr><td>kt-short              </td><td style=\"text-align: right;\">0.800324</td></tr>\n",
       "</tbody>\n",
       "</table>"
      ],
      "text/plain": [
       "'<table>\\n<tbody>\\n<tr><td>Dijkstra              </td><td style=\"text-align: right;\">0.891512</td></tr>\\n<tr><td>Paths                 </td><td style=\"text-align: right;\">0.838847</td></tr>\\n<tr><td>TreeTraversal         </td><td style=\"text-align: right;\">0.830639</td></tr>\\n<tr><td>Kruskal               </td><td style=\"text-align: right;\">0.816384</td></tr>\\n<tr><td>algorithms-suggestions</td><td style=\"text-align: right;\">0.816244</td></tr>\\n<tr><td>Traverse              </td><td style=\"text-align: right;\">0.812973</td></tr>\\n<tr><td>Permutations          </td><td style=\"text-align: right;\">0.806550</td></tr>\\n<tr><td>treejs                </td><td style=\"text-align: right;\">0.801292</td></tr>\\n<tr><td>DFS                   </td><td style=\"text-align: right;\">0.800742</td></tr>\\n<tr><td>kt-short              </td><td style=\"text-align: right;\">0.800324</td></tr>\\n</tbody>\\n</table>'"
      ]
     },
     "execution_count": 17,
     "metadata": {},
     "output_type": "execute_result"
    }
   ],
   "source": [
    "guess('shortest paths', count=10)"
   ]
  },
  {
   "cell_type": "code",
   "execution_count": 18,
   "metadata": {},
   "outputs": [
    {
     "name": "stderr",
     "output_type": "stream",
     "text": [
      "INFO:openai:message='Request to OpenAI API' method=post path=https://api.openai.com/v1/engines/text-embedding-ada-002/embeddings\n",
      "INFO:openai:message='OpenAI API response' path=https://api.openai.com/v1/engines/text-embedding-ada-002/embeddings processing_ms=15 request_id=4b5199fbd7a3a0b497a433538fd616df response_code=200\n"
     ]
    },
    {
     "data": {
      "text/html": [
       "<table>\n",
       "<tbody>\n",
       "<tr><td>TreeTraversal          </td><td style=\"text-align: right;\">0.897567</td></tr>\n",
       "<tr><td>Traverse               </td><td style=\"text-align: right;\">0.870028</td></tr>\n",
       "<tr><td>Graph                  </td><td style=\"text-align: right;\">0.868410</td></tr>\n",
       "<tr><td>codegraph              </td><td style=\"text-align: right;\">0.857106</td></tr>\n",
       "<tr><td>Graph-gist             </td><td style=\"text-align: right;\">0.851075</td></tr>\n",
       "<tr><td>TraverseTree           </td><td style=\"text-align: right;\">0.850152</td></tr>\n",
       "<tr><td>TreeTraversalAnimations</td><td style=\"text-align: right;\">0.845057</td></tr>\n",
       "<tr><td>Dijkstra               </td><td style=\"text-align: right;\">0.825850</td></tr>\n",
       "<tr><td>DFS                    </td><td style=\"text-align: right;\">0.823766</td></tr>\n",
       "<tr><td>sequence-dag           </td><td style=\"text-align: right;\">0.819746</td></tr>\n",
       "</tbody>\n",
       "</table>"
      ],
      "text/plain": [
       "'<table>\\n<tbody>\\n<tr><td>TreeTraversal          </td><td style=\"text-align: right;\">0.897567</td></tr>\\n<tr><td>Traverse               </td><td style=\"text-align: right;\">0.870028</td></tr>\\n<tr><td>Graph                  </td><td style=\"text-align: right;\">0.868410</td></tr>\\n<tr><td>codegraph              </td><td style=\"text-align: right;\">0.857106</td></tr>\\n<tr><td>Graph-gist             </td><td style=\"text-align: right;\">0.851075</td></tr>\\n<tr><td>TraverseTree           </td><td style=\"text-align: right;\">0.850152</td></tr>\\n<tr><td>TreeTraversalAnimations</td><td style=\"text-align: right;\">0.845057</td></tr>\\n<tr><td>Dijkstra               </td><td style=\"text-align: right;\">0.825850</td></tr>\\n<tr><td>DFS                    </td><td style=\"text-align: right;\">0.823766</td></tr>\\n<tr><td>sequence-dag           </td><td style=\"text-align: right;\">0.819746</td></tr>\\n</tbody>\\n</table>'"
      ]
     },
     "execution_count": 18,
     "metadata": {},
     "output_type": "execute_result"
    }
   ],
   "source": [
    "guess('graph traversal', count=10)"
   ]
  },
  {
   "cell_type": "code",
   "execution_count": 19,
   "metadata": {},
   "outputs": [
    {
     "name": "stderr",
     "output_type": "stream",
     "text": [
      "INFO:openai:message='Request to OpenAI API' method=post path=https://api.openai.com/v1/engines/text-embedding-ada-002/embeddings\n",
      "INFO:openai:message='OpenAI API response' path=https://api.openai.com/v1/engines/text-embedding-ada-002/embeddings processing_ms=260 request_id=4c89de0991f3c4ab0ee21930221038de response_code=200\n"
     ]
    },
    {
     "data": {
      "text/html": [
       "<table>\n",
       "<tbody>\n",
       "<tr><td>Graph      </td><td style=\"text-align: right;\">0.892145</td></tr>\n",
       "<tr><td>Geometry   </td><td style=\"text-align: right;\">0.883770</td></tr>\n",
       "<tr><td>printing   </td><td style=\"text-align: right;\">0.882554</td></tr>\n",
       "<tr><td>Draw       </td><td style=\"text-align: right;\">0.876174</td></tr>\n",
       "<tr><td>fps        </td><td style=\"text-align: right;\">0.859789</td></tr>\n",
       "<tr><td>works      </td><td style=\"text-align: right;\">0.848869</td></tr>\n",
       "<tr><td>coordinates</td><td style=\"text-align: right;\">0.845280</td></tr>\n",
       "<tr><td>Components </td><td style=\"text-align: right;\">0.842014</td></tr>\n",
       "<tr><td>filesystem </td><td style=\"text-align: right;\">0.839757</td></tr>\n",
       "<tr><td>Benchmark  </td><td style=\"text-align: right;\">0.839321</td></tr>\n",
       "</tbody>\n",
       "</table>"
      ],
      "text/plain": [
       "'<table>\\n<tbody>\\n<tr><td>Graph      </td><td style=\"text-align: right;\">0.892145</td></tr>\\n<tr><td>Geometry   </td><td style=\"text-align: right;\">0.883770</td></tr>\\n<tr><td>printing   </td><td style=\"text-align: right;\">0.882554</td></tr>\\n<tr><td>Draw       </td><td style=\"text-align: right;\">0.876174</td></tr>\\n<tr><td>fps        </td><td style=\"text-align: right;\">0.859789</td></tr>\\n<tr><td>works      </td><td style=\"text-align: right;\">0.848869</td></tr>\\n<tr><td>coordinates</td><td style=\"text-align: right;\">0.845280</td></tr>\\n<tr><td>Components </td><td style=\"text-align: right;\">0.842014</td></tr>\\n<tr><td>filesystem </td><td style=\"text-align: right;\">0.839757</td></tr>\\n<tr><td>Benchmark  </td><td style=\"text-align: right;\">0.839321</td></tr>\\n</tbody>\\n</table>'"
      ]
     },
     "execution_count": 19,
     "metadata": {},
     "output_type": "execute_result"
    }
   ],
   "source": [
    "guess('graphics', count=10)"
   ]
  },
  {
   "cell_type": "code",
   "execution_count": 20,
   "metadata": {},
   "outputs": [
    {
     "name": "stderr",
     "output_type": "stream",
     "text": [
      "INFO:openai:message='Request to OpenAI API' method=post path=https://api.openai.com/v1/engines/text-embedding-ada-002/embeddings\n",
      "INFO:openai:message='OpenAI API response' path=https://api.openai.com/v1/engines/text-embedding-ada-002/embeddings processing_ms=13 request_id=b7b15a45a522037b2340ab42e298536f response_code=200\n"
     ]
    },
    {
     "data": {
      "text/html": [
       "<table>\n",
       "<tbody>\n",
       "<tr><td>Flood      </td><td style=\"text-align: right;\">0.865050</td></tr>\n",
       "<tr><td>foobar     </td><td style=\"text-align: right;\">0.825881</td></tr>\n",
       "<tr><td>lambda-demo</td><td style=\"text-align: right;\">0.819231</td></tr>\n",
       "<tr><td>Dynamo     </td><td style=\"text-align: right;\">0.816925</td></tr>\n",
       "<tr><td>yule       </td><td style=\"text-align: right;\">0.814027</td></tr>\n",
       "</tbody>\n",
       "</table>"
      ],
      "text/plain": [
       "'<table>\\n<tbody>\\n<tr><td>Flood      </td><td style=\"text-align: right;\">0.865050</td></tr>\\n<tr><td>foobar     </td><td style=\"text-align: right;\">0.825881</td></tr>\\n<tr><td>lambda-demo</td><td style=\"text-align: right;\">0.819231</td></tr>\\n<tr><td>Dynamo     </td><td style=\"text-align: right;\">0.816925</td></tr>\\n<tr><td>yule       </td><td style=\"text-align: right;\">0.814027</td></tr>\\n</tbody>\\n</table>'"
      ]
     },
     "execution_count": 20,
     "metadata": {},
     "output_type": "execute_result"
    }
   ],
   "source": [
    "guess('deluge')"
   ]
  },
  {
   "cell_type": "code",
   "execution_count": null,
   "metadata": {},
   "outputs": [],
   "source": []
  }
 ],
 "metadata": {
  "kernelspec": {
   "display_name": "findrepo2-experiment",
   "language": "python",
   "name": "python3"
  },
  "language_info": {
   "codemirror_mode": {
    "name": "ipython",
    "version": 3
   },
   "file_extension": ".py",
   "mimetype": "text/x-python",
   "name": "python",
   "nbconvert_exporter": "python",
   "pygments_lexer": "ipython3",
   "version": "3.11.0"
  },
  "orig_nbformat": 4,
  "vscode": {
   "interpreter": {
    "hash": "f3b28dd84c010413ea2595e24e09f662c7c1d21a1318532d11d1c0ed90e595d7"
   }
  }
 },
 "nbformat": 4,
 "nbformat_minor": 2
}
