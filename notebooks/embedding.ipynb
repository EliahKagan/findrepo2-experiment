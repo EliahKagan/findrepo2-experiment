{
 "cells": [
  {
   "attachments": {},
   "cell_type": "markdown",
   "metadata": {},
   "source": [
    "# `fr2ex.embedding.embed_many` demo\n",
    "\n",
    "SPDX-License-Identifier: 0BSD\n",
    "\n",
    "For use on the actual data set of repository names, see `main.ipynb`."
   ]
  },
  {
   "cell_type": "code",
   "execution_count": 1,
   "metadata": {},
   "outputs": [],
   "source": [
    "import logging\n",
    "\n",
    "import msgpack\n",
    "import numpy as np\n",
    "\n",
    "import fr2ex"
   ]
  },
  {
   "cell_type": "code",
   "execution_count": 2,
   "metadata": {},
   "outputs": [],
   "source": [
    "logging.basicConfig(level=logging.INFO)"
   ]
  },
  {
   "cell_type": "code",
   "execution_count": 3,
   "metadata": {},
   "outputs": [],
   "source": [
    "TEXTS = [\n",
    "    'Gee whiz!',\n",
    "    'Golly wow!',\n",
    "    'Well, shucks!',\n",
    "    'The meeting is this afternoon!',\n",
    "]"
   ]
  },
  {
   "attachments": {},
   "cell_type": "markdown",
   "metadata": {},
   "source": [
    "## Loading or querying for an embedding\n",
    "\n",
    "This is the normal way to use it. The cache is used if possible."
   ]
  },
  {
   "cell_type": "code",
   "execution_count": 4,
   "metadata": {},
   "outputs": [
    {
     "name": "stderr",
     "output_type": "stream",
     "text": [
      "INFO:root:Reading cached embeddings.\n"
     ]
    }
   ],
   "source": [
    "embeddings = fr2ex.embedding.embed_many(TEXTS)"
   ]
  },
  {
   "cell_type": "code",
   "execution_count": 5,
   "metadata": {},
   "outputs": [
    {
     "data": {
      "text/plain": [
       "(4, 1536)"
      ]
     },
     "execution_count": 5,
     "metadata": {},
     "output_type": "execute_result"
    }
   ],
   "source": [
    "embeddings.shape"
   ]
  },
  {
   "cell_type": "code",
   "execution_count": 6,
   "metadata": {},
   "outputs": [
    {
     "data": {
      "text/plain": [
       "array([[1.0000001 , 0.923061  , 0.8808788 , 0.7803189 ],\n",
       "       [0.923061  , 1.0000001 , 0.86962664, 0.76911217],\n",
       "       [0.8808788 , 0.86962664, 1.        , 0.7566216 ],\n",
       "       [0.7803189 , 0.76911217, 0.7566216 , 1.        ]], dtype=float32)"
      ]
     },
     "execution_count": 6,
     "metadata": {},
     "output_type": "execute_result"
    }
   ],
   "source": [
    "embeddings @ np.transpose(embeddings)"
   ]
  },
  {
   "attachments": {},
   "cell_type": "markdown",
   "metadata": {},
   "source": [
    "## Comparing separate results\n",
    "\n",
    "The embedding model (`text-embedding-ada-002`) is nondeterministic. When called separate times to embed the same text, it often returns different results. The results are approximately equal, but the noise is greater than the error of the data type (i.e., the model really is nondeterministic)."
   ]
  },
  {
   "cell_type": "code",
   "execution_count": 7,
   "metadata": {},
   "outputs": [
    {
     "data": {
      "text/plain": [
       "True"
      ]
     },
     "execution_count": 7,
     "metadata": {},
     "output_type": "execute_result"
    }
   ],
   "source": [
    "data_dir = fr2ex.paths.data_dir\n",
    "old_save = data_dir / 'embeddings-c5e7a088e88de307e7076d8e19ef5913-old.msgpack'\n",
    "new_save = data_dir / 'embeddings-c5e7a088e88de307e7076d8e19ef5913.msgpack'\n",
    "\n",
    "with open(old_save, 'rb') as file:\n",
    "    loaded1 = msgpack.load(file)\n",
    "\n",
    "with open(new_save, 'rb') as file:\n",
    "    loaded2 = msgpack.load(file)\n",
    "\n",
    "(loaded1 == loaded2).all()"
   ]
  },
  {
   "cell_type": "code",
   "execution_count": 8,
   "metadata": {},
   "outputs": [
    {
     "data": {
      "text/plain": [
       "(0.0, 0.0, 0.0)"
      ]
     },
     "execution_count": 8,
     "metadata": {},
     "output_type": "execute_result"
    }
   ],
   "source": [
    "delta = loaded2 - loaded1\n",
    "delta.min(), delta.max(), abs(delta).mean()"
   ]
  },
  {
   "cell_type": "code",
   "execution_count": 9,
   "metadata": {},
   "outputs": [
    {
     "data": {
      "text/plain": [
       "(1.0, 1.0, 1.0)"
      ]
     },
     "execution_count": 9,
     "metadata": {},
     "output_type": "execute_result"
    }
   ],
   "source": [
    "ratio = loaded2 / loaded1\n",
    "ratio.min(), ratio.max(), ratio.mean()"
   ]
  },
  {
   "cell_type": "code",
   "execution_count": 10,
   "metadata": {},
   "outputs": [
    {
     "data": {
      "text/plain": [
       "[1.0, 1.0000002, 1.0, 1.0000002]"
      ]
     },
     "execution_count": 10,
     "metadata": {},
     "output_type": "execute_result"
    }
   ],
   "source": [
    "[np.dot(row1, row2) for row1, row2 in zip(loaded1, loaded2)]"
   ]
  }
 ],
 "metadata": {
  "kernelspec": {
   "display_name": "findrepo2-experiment",
   "language": "python",
   "name": "python3"
  },
  "language_info": {
   "codemirror_mode": {
    "name": "ipython",
    "version": 3
   },
   "file_extension": ".py",
   "mimetype": "text/x-python",
   "name": "python",
   "nbconvert_exporter": "python",
   "pygments_lexer": "ipython3",
   "version": "3.11.0"
  },
  "orig_nbformat": 4,
  "vscode": {
   "interpreter": {
    "hash": "b6d3a31ea48078e8b7113ba660070f8d101b3a1999b1f3b4ff676205913c73c9"
   }
  }
 },
 "nbformat": 4,
 "nbformat_minor": 2
}
