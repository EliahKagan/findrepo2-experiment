{
 "cells": [
  {
   "attachments": {},
   "cell_type": "markdown",
   "metadata": {},
   "source": [
    "# Pricing for embeddings, from OpenAI website\n",
    "\n",
    "SPDX-License-Identifier: 0BSD"
   ]
  },
  {
   "cell_type": "code",
   "execution_count": 1,
   "metadata": {},
   "outputs": [],
   "source": [
    "from tabulate import tabulate\n",
    "\n",
    "import fr2ex"
   ]
  },
  {
   "cell_type": "code",
   "execution_count": 2,
   "metadata": {},
   "outputs": [
    {
     "name": "stderr",
     "output_type": "stream",
     "text": [
      "/home/ek/repos-wsl/findrepo2-experiment/fr2ex/tokens.py:144: FutureWarning: Passing literal html to 'read_html' is deprecated and will be removed in a future version. To read from a literal string, wrap it in a 'StringIO' object.\n",
      "  frames = pandas.read_html(str(doc_row), displayed_only=displayed_only)\n"
     ]
    }
   ],
   "source": [
    "prices = fr2ex.tokens.find_embedding_model_prices(displayed_only=False)"
   ]
  },
  {
   "cell_type": "code",
   "execution_count": 3,
   "metadata": {},
   "outputs": [
    {
     "data": {
      "text/html": [
       "<table>\n",
       "<thead>\n",
       "<tr><th>Model  </th><th style=\"text-align: right;\">  $ / 1K tokens</th></tr>\n",
       "</thead>\n",
       "<tbody>\n",
       "<tr><td>Ada v2 </td><td style=\"text-align: right;\">         0.0001</td></tr>\n",
       "</tbody>\n",
       "</table>"
      ],
      "text/plain": [
       "'<table>\\n<thead>\\n<tr><th>Model  </th><th style=\"text-align: right;\">  $ / 1K tokens</th></tr>\\n</thead>\\n<tbody>\\n<tr><td>Ada v2 </td><td style=\"text-align: right;\">         0.0001</td></tr>\\n</tbody>\\n</table>'"
      ]
     },
     "execution_count": 3,
     "metadata": {},
     "output_type": "execute_result"
    }
   ],
   "source": [
    "table = ((model, rate.numerator) for model, rate in prices.items())\n",
    "\n",
    "tabulate(\n",
    "    tabular_data=table,\n",
    "    headers=['Model', '$ / 1K tokens'],\n",
    "    tablefmt='html',\n",
    "    floatfmt='.4f',\n",
    ")"
   ]
  }
 ],
 "metadata": {
  "kernelspec": {
   "display_name": "findrepo2-experiment-rOSEKeEQ-py3.11",
   "language": "python",
   "name": "python3"
  },
  "language_info": {
   "codemirror_mode": {
    "name": "ipython",
    "version": 3
   },
   "file_extension": ".py",
   "mimetype": "text/x-python",
   "name": "python",
   "nbconvert_exporter": "python",
   "pygments_lexer": "ipython3",
   "version": "3.11.5"
  },
  "orig_nbformat": 4,
  "vscode": {
   "interpreter": {
    "hash": "cc24d4d634694babf689af76e7bfbddcba5d411d378bfb432817051e7e6debb7"
   }
  }
 },
 "nbformat": 4,
 "nbformat_minor": 2
}
