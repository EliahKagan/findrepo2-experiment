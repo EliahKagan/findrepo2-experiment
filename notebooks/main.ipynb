{
 "cells": [
  {
   "attachments": {},
   "cell_type": "markdown",
   "metadata": {},
   "source": [
    "# Main notebook - experimenting with guesses\n",
    "\n",
    "This does semantic search based solely on repository name and user input.\n",
    "\n",
    "Compare to\n",
    "[`findrepo`](https://github.com/EliahKagan/newrepo-findrepo#using-findrepo)."
   ]
  },
  {
   "cell_type": "code",
   "execution_count": 1,
   "metadata": {},
   "outputs": [],
   "source": [
    "import logging\n",
    "from types import SimpleNamespace\n",
    "\n",
    "import numpy as np\n",
    "from tabulate import tabulate\n",
    "\n",
    "import fr2ex"
   ]
  },
  {
   "cell_type": "code",
   "execution_count": 2,
   "metadata": {},
   "outputs": [],
   "source": [
    "logging.basicConfig(level=logging.INFO)"
   ]
  },
  {
   "cell_type": "code",
   "execution_count": 3,
   "metadata": {},
   "outputs": [
    {
     "name": "stderr",
     "output_type": "stream",
     "text": [
      "INFO:paramiko.transport:Connected (version 2.0, client OpenSSH_7.6p1)\n",
      "INFO:paramiko.transport:Authentication (publickey) successful!\n",
      "INFO:paramiko.transport.sftp:[chan 0] Opened sftp connection (server version 3)\n",
      "INFO:paramiko.transport.sftp:[chan 0] sftp session closed.\n"
     ]
    }
   ],
   "source": [
    "names = fr2ex.remote.fetch_repo_names()"
   ]
  },
  {
   "cell_type": "code",
   "execution_count": 4,
   "metadata": {},
   "outputs": [
    {
     "data": {
      "text/plain": [
       "678"
      ]
     },
     "execution_count": 4,
     "metadata": {},
     "output_type": "execute_result"
    }
   ],
   "source": [
    "len(names)"
   ]
  },
  {
   "cell_type": "code",
   "execution_count": 5,
   "metadata": {},
   "outputs": [
    {
     "name": "stderr",
     "output_type": "stream",
     "text": [
      "INFO:root:Querying OpenAI moderation endpoint.\n"
     ]
    }
   ],
   "source": [
    "moderation = fr2ex.moderation.get_moderation(names)"
   ]
  },
  {
   "cell_type": "code",
   "execution_count": 6,
   "metadata": {},
   "outputs": [
    {
     "data": {
      "text/plain": [
       "678"
      ]
     },
     "execution_count": 6,
     "metadata": {},
     "output_type": "execute_result"
    }
   ],
   "source": [
    "len(moderation)"
   ]
  },
  {
   "cell_type": "code",
   "execution_count": 7,
   "metadata": {},
   "outputs": [
    {
     "data": {
      "text/plain": [
       "False"
      ]
     },
     "execution_count": 7,
     "metadata": {},
     "output_type": "execute_result"
    }
   ],
   "source": [
    "any(result['flagged'] for result in moderation)"
   ]
  },
  {
   "cell_type": "code",
   "execution_count": 8,
   "metadata": {},
   "outputs": [
    {
     "name": "stdout",
     "output_type": "stream",
     "text": [
      "It looks like the rate is $0.0004 per 1000 tokens. If so, the cost to\n",
      "process 1920 tokens is about $0.0007680 (that is, 0.0768000 cents).\n"
     ]
    }
   ],
   "source": [
    "fr2ex.tokens.report_cost(names)"
   ]
  },
  {
   "cell_type": "code",
   "execution_count": 9,
   "metadata": {},
   "outputs": [
    {
     "name": "stderr",
     "output_type": "stream",
     "text": [
      "INFO:root:Querying OpenAI embeddings endpoint.\n"
     ]
    }
   ],
   "source": [
    "embeddings = fr2ex.embedding.embed_many(names)"
   ]
  },
  {
   "cell_type": "code",
   "execution_count": 10,
   "metadata": {},
   "outputs": [],
   "source": [
    "def guess(name: str, count: int = 5) -> None:\n",
    "    \"\"\"Show top guesses for similarity of name to already embedded names.\"\"\"\n",
    "    scores = embeddings @ fr2ex.embedding.embed(name)\n",
    "    ordering = sorted(zip(scores, names), reverse=True)\n",
    "    table = [(name, score) for score, name in ordering]\n",
    "    return tabulate(table[:count], tablefmt='html', floatfmt='.6f')"
   ]
  },
  {
   "cell_type": "code",
   "execution_count": 11,
   "metadata": {},
   "outputs": [
    {
     "data": {
      "text/html": [
       "<table>\n",
       "<tbody>\n",
       "<tr><td>Calculator            </td><td style=\"text-align: right;\">0.868882</td></tr>\n",
       "<tr><td>Geometry              </td><td style=\"text-align: right;\">0.865520</td></tr>\n",
       "<tr><td>algorithms-suggestions</td><td style=\"text-align: right;\">0.860273</td></tr>\n",
       "<tr><td>Alias                 </td><td style=\"text-align: right;\">0.851841</td></tr>\n",
       "<tr><td>crystal-algo          </td><td style=\"text-align: right;\">0.849729</td></tr>\n",
       "</tbody>\n",
       "</table>"
      ],
      "text/plain": [
       "'<table>\\n<tbody>\\n<tr><td>Calculator            </td><td style=\"text-align: right;\">0.868882</td></tr>\\n<tr><td>Geometry              </td><td style=\"text-align: right;\">0.865520</td></tr>\\n<tr><td>algorithms-suggestions</td><td style=\"text-align: right;\">0.860273</td></tr>\\n<tr><td>Alias                 </td><td style=\"text-align: right;\">0.851841</td></tr>\\n<tr><td>crystal-algo          </td><td style=\"text-align: right;\">0.849729</td></tr>\\n</tbody>\\n</table>'"
      ]
     },
     "execution_count": 11,
     "metadata": {},
     "output_type": "execute_result"
    }
   ],
   "source": [
    "guess('algorithm')"
   ]
  },
  {
   "cell_type": "code",
   "execution_count": 12,
   "metadata": {},
   "outputs": [
    {
     "data": {
      "text/html": [
       "<table>\n",
       "<tbody>\n",
       "<tr><td>SortingRanges</td><td style=\"text-align: right;\">0.932602</td></tr>\n",
       "<tr><td>Sorts        </td><td style=\"text-align: right;\">0.909067</td></tr>\n",
       "<tr><td>sortkey      </td><td style=\"text-align: right;\">0.859544</td></tr>\n",
       "<tr><td>PartialSort  </td><td style=\"text-align: right;\">0.855028</td></tr>\n",
       "<tr><td>tsort        </td><td style=\"text-align: right;\">0.840354</td></tr>\n",
       "</tbody>\n",
       "</table>"
      ],
      "text/plain": [
       "'<table>\\n<tbody>\\n<tr><td>SortingRanges</td><td style=\"text-align: right;\">0.932602</td></tr>\\n<tr><td>Sorts        </td><td style=\"text-align: right;\">0.909067</td></tr>\\n<tr><td>sortkey      </td><td style=\"text-align: right;\">0.859544</td></tr>\\n<tr><td>PartialSort  </td><td style=\"text-align: right;\">0.855028</td></tr>\\n<tr><td>tsort        </td><td style=\"text-align: right;\">0.840354</td></tr>\\n</tbody>\\n</table>'"
      ]
     },
     "execution_count": 12,
     "metadata": {},
     "output_type": "execute_result"
    }
   ],
   "source": [
    "guess('sorting')"
   ]
  },
  {
   "cell_type": "code",
   "execution_count": 13,
   "metadata": {},
   "outputs": [
    {
     "data": {
      "text/html": [
       "<table>\n",
       "<tbody>\n",
       "<tr><td>algorithms-suggestions</td><td style=\"text-align: right;\">0.889052</td></tr>\n",
       "<tr><td>algorithms-python     </td><td style=\"text-align: right;\">0.859356</td></tr>\n",
       "<tr><td>crystal-algo          </td><td style=\"text-align: right;\">0.856027</td></tr>\n",
       "<tr><td>Graph-gist            </td><td style=\"text-align: right;\">0.842657</td></tr>\n",
       "<tr><td>codegraph             </td><td style=\"text-align: right;\">0.833195</td></tr>\n",
       "</tbody>\n",
       "</table>"
      ],
      "text/plain": [
       "'<table>\\n<tbody>\\n<tr><td>algorithms-suggestions</td><td style=\"text-align: right;\">0.889052</td></tr>\\n<tr><td>algorithms-python     </td><td style=\"text-align: right;\">0.859356</td></tr>\\n<tr><td>crystal-algo          </td><td style=\"text-align: right;\">0.856027</td></tr>\\n<tr><td>Graph-gist            </td><td style=\"text-align: right;\">0.842657</td></tr>\\n<tr><td>codegraph             </td><td style=\"text-align: right;\">0.833195</td></tr>\\n</tbody>\\n</table>'"
      ]
     },
     "execution_count": 13,
     "metadata": {},
     "output_type": "execute_result"
    }
   ],
   "source": [
    "guess('algorithm-visualization')"
   ]
  },
  {
   "cell_type": "code",
   "execution_count": 14,
   "metadata": {},
   "outputs": [
    {
     "data": {
      "text/html": [
       "<table>\n",
       "<tbody>\n",
       "<tr><td>try-maven  </td><td style=\"text-align: right;\">0.915987</td></tr>\n",
       "<tr><td>mavener    </td><td style=\"text-align: right;\">0.880060</td></tr>\n",
       "<tr><td>retry-maven</td><td style=\"text-align: right;\">0.868202</td></tr>\n",
       "<tr><td>pimpl      </td><td style=\"text-align: right;\">0.836270</td></tr>\n",
       "<tr><td>try-gradle </td><td style=\"text-align: right;\">0.833675</td></tr>\n",
       "</tbody>\n",
       "</table>"
      ],
      "text/plain": [
       "'<table>\\n<tbody>\\n<tr><td>try-maven  </td><td style=\"text-align: right;\">0.915987</td></tr>\\n<tr><td>mavener    </td><td style=\"text-align: right;\">0.880060</td></tr>\\n<tr><td>retry-maven</td><td style=\"text-align: right;\">0.868202</td></tr>\\n<tr><td>pimpl      </td><td style=\"text-align: right;\">0.836270</td></tr>\\n<tr><td>try-gradle </td><td style=\"text-align: right;\">0.833675</td></tr>\\n</tbody>\\n</table>'"
      ]
     },
     "execution_count": 14,
     "metadata": {},
     "output_type": "execute_result"
    }
   ],
   "source": [
    "guess('maven')"
   ]
  },
  {
   "cell_type": "code",
   "execution_count": 15,
   "metadata": {},
   "outputs": [
    {
     "data": {
      "text/html": [
       "<table>\n",
       "<tbody>\n",
       "<tr><td>newrepo-findrepo    </td><td style=\"text-align: right;\">0.916260</td></tr>\n",
       "<tr><td>findrepo2-experiment</td><td style=\"text-align: right;\">0.867309</td></tr>\n",
       "<tr><td>backup-repos        </td><td style=\"text-align: right;\">0.865014</td></tr>\n",
       "<tr><td>find-articles       </td><td style=\"text-align: right;\">0.857093</td></tr>\n",
       "<tr><td>TestRepo            </td><td style=\"text-align: right;\">0.842355</td></tr>\n",
       "</tbody>\n",
       "</table>"
      ],
      "text/plain": [
       "'<table>\\n<tbody>\\n<tr><td>newrepo-findrepo    </td><td style=\"text-align: right;\">0.916260</td></tr>\\n<tr><td>findrepo2-experiment</td><td style=\"text-align: right;\">0.867309</td></tr>\\n<tr><td>backup-repos        </td><td style=\"text-align: right;\">0.865014</td></tr>\\n<tr><td>find-articles       </td><td style=\"text-align: right;\">0.857093</td></tr>\\n<tr><td>TestRepo            </td><td style=\"text-align: right;\">0.842355</td></tr>\\n</tbody>\\n</table>'"
      ]
     },
     "execution_count": 15,
     "metadata": {},
     "output_type": "execute_result"
    }
   ],
   "source": [
    "guess('find-repo')"
   ]
  },
  {
   "cell_type": "code",
   "execution_count": 16,
   "metadata": {},
   "outputs": [
    {
     "data": {
      "text/html": [
       "<table>\n",
       "<tbody>\n",
       "<tr><td>codegraph       </td><td style=\"text-align: right;\">0.881156</td></tr>\n",
       "<tr><td>Graph           </td><td style=\"text-align: right;\">0.879349</td></tr>\n",
       "<tr><td>Graph-gist      </td><td style=\"text-align: right;\">0.864826</td></tr>\n",
       "<tr><td>Geometry        </td><td style=\"text-align: right;\">0.839664</td></tr>\n",
       "<tr><td>wpf-graph       </td><td style=\"text-align: right;\">0.829071</td></tr>\n",
       "<tr><td>gh-profile      </td><td style=\"text-align: right;\">0.814756</td></tr>\n",
       "<tr><td>c-sketches      </td><td style=\"text-align: right;\">0.813895</td></tr>\n",
       "<tr><td>trig            </td><td style=\"text-align: right;\">0.809151</td></tr>\n",
       "<tr><td>Draw            </td><td style=\"text-align: right;\">0.808799</td></tr>\n",
       "<tr><td>crystal-sketches</td><td style=\"text-align: right;\">0.804894</td></tr>\n",
       "</tbody>\n",
       "</table>"
      ],
      "text/plain": [
       "'<table>\\n<tbody>\\n<tr><td>codegraph       </td><td style=\"text-align: right;\">0.881156</td></tr>\\n<tr><td>Graph           </td><td style=\"text-align: right;\">0.879349</td></tr>\\n<tr><td>Graph-gist      </td><td style=\"text-align: right;\">0.864826</td></tr>\\n<tr><td>Geometry        </td><td style=\"text-align: right;\">0.839664</td></tr>\\n<tr><td>wpf-graph       </td><td style=\"text-align: right;\">0.829071</td></tr>\\n<tr><td>gh-profile      </td><td style=\"text-align: right;\">0.814756</td></tr>\\n<tr><td>c-sketches      </td><td style=\"text-align: right;\">0.813895</td></tr>\\n<tr><td>trig            </td><td style=\"text-align: right;\">0.809151</td></tr>\\n<tr><td>Draw            </td><td style=\"text-align: right;\">0.808799</td></tr>\\n<tr><td>crystal-sketches</td><td style=\"text-align: right;\">0.804894</td></tr>\\n</tbody>\\n</table>'"
      ]
     },
     "execution_count": 16,
     "metadata": {},
     "output_type": "execute_result"
    }
   ],
   "source": [
    "guess('graph theory', count=10)"
   ]
  },
  {
   "cell_type": "code",
   "execution_count": 17,
   "metadata": {},
   "outputs": [
    {
     "data": {
      "text/html": [
       "<table>\n",
       "<tbody>\n",
       "<tr><td>Dijkstra              </td><td style=\"text-align: right;\">0.891414</td></tr>\n",
       "<tr><td>Paths                 </td><td style=\"text-align: right;\">0.838885</td></tr>\n",
       "<tr><td>TreeTraversal         </td><td style=\"text-align: right;\">0.830637</td></tr>\n",
       "<tr><td>Kruskal               </td><td style=\"text-align: right;\">0.816358</td></tr>\n",
       "<tr><td>algorithms-suggestions</td><td style=\"text-align: right;\">0.816185</td></tr>\n",
       "<tr><td>Traverse              </td><td style=\"text-align: right;\">0.813017</td></tr>\n",
       "<tr><td>Permutations          </td><td style=\"text-align: right;\">0.806546</td></tr>\n",
       "<tr><td>treejs                </td><td style=\"text-align: right;\">0.801362</td></tr>\n",
       "<tr><td>DFS                   </td><td style=\"text-align: right;\">0.800804</td></tr>\n",
       "<tr><td>kt-short              </td><td style=\"text-align: right;\">0.800315</td></tr>\n",
       "</tbody>\n",
       "</table>"
      ],
      "text/plain": [
       "'<table>\\n<tbody>\\n<tr><td>Dijkstra              </td><td style=\"text-align: right;\">0.891414</td></tr>\\n<tr><td>Paths                 </td><td style=\"text-align: right;\">0.838885</td></tr>\\n<tr><td>TreeTraversal         </td><td style=\"text-align: right;\">0.830637</td></tr>\\n<tr><td>Kruskal               </td><td style=\"text-align: right;\">0.816358</td></tr>\\n<tr><td>algorithms-suggestions</td><td style=\"text-align: right;\">0.816185</td></tr>\\n<tr><td>Traverse              </td><td style=\"text-align: right;\">0.813017</td></tr>\\n<tr><td>Permutations          </td><td style=\"text-align: right;\">0.806546</td></tr>\\n<tr><td>treejs                </td><td style=\"text-align: right;\">0.801362</td></tr>\\n<tr><td>DFS                   </td><td style=\"text-align: right;\">0.800804</td></tr>\\n<tr><td>kt-short              </td><td style=\"text-align: right;\">0.800315</td></tr>\\n</tbody>\\n</table>'"
      ]
     },
     "execution_count": 17,
     "metadata": {},
     "output_type": "execute_result"
    }
   ],
   "source": [
    "guess('shortest paths', count=10)"
   ]
  },
  {
   "cell_type": "code",
   "execution_count": 18,
   "metadata": {},
   "outputs": [
    {
     "data": {
      "text/html": [
       "<table>\n",
       "<tbody>\n",
       "<tr><td>Dijkstra              </td><td style=\"text-align: right;\">0.892566</td></tr>\n",
       "<tr><td>Paths                 </td><td style=\"text-align: right;\">0.836328</td></tr>\n",
       "<tr><td>TreeTraversal         </td><td style=\"text-align: right;\">0.836267</td></tr>\n",
       "<tr><td>Traverse              </td><td style=\"text-align: right;\">0.819881</td></tr>\n",
       "<tr><td>algorithms-suggestions</td><td style=\"text-align: right;\">0.819237</td></tr>\n",
       "<tr><td>Kruskal               </td><td style=\"text-align: right;\">0.814068</td></tr>\n",
       "<tr><td>type-arrows           </td><td style=\"text-align: right;\">0.813011</td></tr>\n",
       "<tr><td>kt-short              </td><td style=\"text-align: right;\">0.811268</td></tr>\n",
       "<tr><td>sequence-dag          </td><td style=\"text-align: right;\">0.809361</td></tr>\n",
       "<tr><td>dot-and-cross         </td><td style=\"text-align: right;\">0.806405</td></tr>\n",
       "</tbody>\n",
       "</table>"
      ],
      "text/plain": [
       "'<table>\\n<tbody>\\n<tr><td>Dijkstra              </td><td style=\"text-align: right;\">0.892566</td></tr>\\n<tr><td>Paths                 </td><td style=\"text-align: right;\">0.836328</td></tr>\\n<tr><td>TreeTraversal         </td><td style=\"text-align: right;\">0.836267</td></tr>\\n<tr><td>Traverse              </td><td style=\"text-align: right;\">0.819881</td></tr>\\n<tr><td>algorithms-suggestions</td><td style=\"text-align: right;\">0.819237</td></tr>\\n<tr><td>Kruskal               </td><td style=\"text-align: right;\">0.814068</td></tr>\\n<tr><td>type-arrows           </td><td style=\"text-align: right;\">0.813011</td></tr>\\n<tr><td>kt-short              </td><td style=\"text-align: right;\">0.811268</td></tr>\\n<tr><td>sequence-dag          </td><td style=\"text-align: right;\">0.809361</td></tr>\\n<tr><td>dot-and-cross         </td><td style=\"text-align: right;\">0.806405</td></tr>\\n</tbody>\\n</table>'"
      ]
     },
     "execution_count": 18,
     "metadata": {},
     "output_type": "execute_result"
    }
   ],
   "source": [
    "guess('shortest-paths', count=10)"
   ]
  },
  {
   "cell_type": "code",
   "execution_count": 19,
   "metadata": {},
   "outputs": [
    {
     "data": {
      "text/html": [
       "<table>\n",
       "<tbody>\n",
       "<tr><td>TreeTraversal          </td><td style=\"text-align: right;\">0.897430</td></tr>\n",
       "<tr><td>Traverse               </td><td style=\"text-align: right;\">0.869958</td></tr>\n",
       "<tr><td>Graph                  </td><td style=\"text-align: right;\">0.868275</td></tr>\n",
       "<tr><td>codegraph              </td><td style=\"text-align: right;\">0.856913</td></tr>\n",
       "<tr><td>Graph-gist             </td><td style=\"text-align: right;\">0.851086</td></tr>\n",
       "<tr><td>TraverseTree           </td><td style=\"text-align: right;\">0.850041</td></tr>\n",
       "<tr><td>TreeTraversalAnimations</td><td style=\"text-align: right;\">0.844913</td></tr>\n",
       "<tr><td>Dijkstra               </td><td style=\"text-align: right;\">0.825562</td></tr>\n",
       "<tr><td>DFS                    </td><td style=\"text-align: right;\">0.823535</td></tr>\n",
       "<tr><td>sequence-dag           </td><td style=\"text-align: right;\">0.819539</td></tr>\n",
       "</tbody>\n",
       "</table>"
      ],
      "text/plain": [
       "'<table>\\n<tbody>\\n<tr><td>TreeTraversal          </td><td style=\"text-align: right;\">0.897430</td></tr>\\n<tr><td>Traverse               </td><td style=\"text-align: right;\">0.869958</td></tr>\\n<tr><td>Graph                  </td><td style=\"text-align: right;\">0.868275</td></tr>\\n<tr><td>codegraph              </td><td style=\"text-align: right;\">0.856913</td></tr>\\n<tr><td>Graph-gist             </td><td style=\"text-align: right;\">0.851086</td></tr>\\n<tr><td>TraverseTree           </td><td style=\"text-align: right;\">0.850041</td></tr>\\n<tr><td>TreeTraversalAnimations</td><td style=\"text-align: right;\">0.844913</td></tr>\\n<tr><td>Dijkstra               </td><td style=\"text-align: right;\">0.825562</td></tr>\\n<tr><td>DFS                    </td><td style=\"text-align: right;\">0.823535</td></tr>\\n<tr><td>sequence-dag           </td><td style=\"text-align: right;\">0.819539</td></tr>\\n</tbody>\\n</table>'"
      ]
     },
     "execution_count": 19,
     "metadata": {},
     "output_type": "execute_result"
    }
   ],
   "source": [
    "guess('graph traversal', count=10)"
   ]
  },
  {
   "cell_type": "code",
   "execution_count": 20,
   "metadata": {},
   "outputs": [
    {
     "data": {
      "text/html": [
       "<table>\n",
       "<tbody>\n",
       "<tr><td>TreeTraversal          </td><td style=\"text-align: right;\">0.904181</td></tr>\n",
       "<tr><td>Traverse               </td><td style=\"text-align: right;\">0.879860</td></tr>\n",
       "<tr><td>Graph                  </td><td style=\"text-align: right;\">0.878266</td></tr>\n",
       "<tr><td>Graph-gist             </td><td style=\"text-align: right;\">0.875246</td></tr>\n",
       "<tr><td>codegraph              </td><td style=\"text-align: right;\">0.872211</td></tr>\n",
       "<tr><td>TraverseTree           </td><td style=\"text-align: right;\">0.865436</td></tr>\n",
       "<tr><td>TreeTraversalAnimations</td><td style=\"text-align: right;\">0.851144</td></tr>\n",
       "<tr><td>Dijkstra               </td><td style=\"text-align: right;\">0.842906</td></tr>\n",
       "<tr><td>wpf-graph              </td><td style=\"text-align: right;\">0.840953</td></tr>\n",
       "<tr><td>sequence-dag           </td><td style=\"text-align: right;\">0.837051</td></tr>\n",
       "</tbody>\n",
       "</table>"
      ],
      "text/plain": [
       "'<table>\\n<tbody>\\n<tr><td>TreeTraversal          </td><td style=\"text-align: right;\">0.904181</td></tr>\\n<tr><td>Traverse               </td><td style=\"text-align: right;\">0.879860</td></tr>\\n<tr><td>Graph                  </td><td style=\"text-align: right;\">0.878266</td></tr>\\n<tr><td>Graph-gist             </td><td style=\"text-align: right;\">0.875246</td></tr>\\n<tr><td>codegraph              </td><td style=\"text-align: right;\">0.872211</td></tr>\\n<tr><td>TraverseTree           </td><td style=\"text-align: right;\">0.865436</td></tr>\\n<tr><td>TreeTraversalAnimations</td><td style=\"text-align: right;\">0.851144</td></tr>\\n<tr><td>Dijkstra               </td><td style=\"text-align: right;\">0.842906</td></tr>\\n<tr><td>wpf-graph              </td><td style=\"text-align: right;\">0.840953</td></tr>\\n<tr><td>sequence-dag           </td><td style=\"text-align: right;\">0.837051</td></tr>\\n</tbody>\\n</table>'"
      ]
     },
     "execution_count": 20,
     "metadata": {},
     "output_type": "execute_result"
    }
   ],
   "source": [
    "guess('graph-traversal', count=10)"
   ]
  },
  {
   "cell_type": "code",
   "execution_count": 21,
   "metadata": {},
   "outputs": [
    {
     "data": {
      "text/html": [
       "<table>\n",
       "<tbody>\n",
       "<tr><td>Graph      </td><td style=\"text-align: right;\">0.889289</td></tr>\n",
       "<tr><td>printing   </td><td style=\"text-align: right;\">0.882984</td></tr>\n",
       "<tr><td>Geometry   </td><td style=\"text-align: right;\">0.881471</td></tr>\n",
       "<tr><td>Draw       </td><td style=\"text-align: right;\">0.875394</td></tr>\n",
       "<tr><td>fps        </td><td style=\"text-align: right;\">0.859528</td></tr>\n",
       "<tr><td>works      </td><td style=\"text-align: right;\">0.848890</td></tr>\n",
       "<tr><td>coordinates</td><td style=\"text-align: right;\">0.845145</td></tr>\n",
       "<tr><td>Components </td><td style=\"text-align: right;\">0.842697</td></tr>\n",
       "<tr><td>interop    </td><td style=\"text-align: right;\">0.841286</td></tr>\n",
       "<tr><td>Benchmark  </td><td style=\"text-align: right;\">0.840062</td></tr>\n",
       "</tbody>\n",
       "</table>"
      ],
      "text/plain": [
       "'<table>\\n<tbody>\\n<tr><td>Graph      </td><td style=\"text-align: right;\">0.889289</td></tr>\\n<tr><td>printing   </td><td style=\"text-align: right;\">0.882984</td></tr>\\n<tr><td>Geometry   </td><td style=\"text-align: right;\">0.881471</td></tr>\\n<tr><td>Draw       </td><td style=\"text-align: right;\">0.875394</td></tr>\\n<tr><td>fps        </td><td style=\"text-align: right;\">0.859528</td></tr>\\n<tr><td>works      </td><td style=\"text-align: right;\">0.848890</td></tr>\\n<tr><td>coordinates</td><td style=\"text-align: right;\">0.845145</td></tr>\\n<tr><td>Components </td><td style=\"text-align: right;\">0.842697</td></tr>\\n<tr><td>interop    </td><td style=\"text-align: right;\">0.841286</td></tr>\\n<tr><td>Benchmark  </td><td style=\"text-align: right;\">0.840062</td></tr>\\n</tbody>\\n</table>'"
      ]
     },
     "execution_count": 21,
     "metadata": {},
     "output_type": "execute_result"
    }
   ],
   "source": [
    "guess('graphics', count=10)"
   ]
  },
  {
   "cell_type": "code",
   "execution_count": 22,
   "metadata": {},
   "outputs": [
    {
     "data": {
      "text/html": [
       "<table>\n",
       "<tbody>\n",
       "<tr><td>Flood      </td><td style=\"text-align: right;\">0.864917</td></tr>\n",
       "<tr><td>foobar     </td><td style=\"text-align: right;\">0.825785</td></tr>\n",
       "<tr><td>lambda-demo</td><td style=\"text-align: right;\">0.819114</td></tr>\n",
       "<tr><td>Dynamo     </td><td style=\"text-align: right;\">0.816751</td></tr>\n",
       "<tr><td>yule       </td><td style=\"text-align: right;\">0.813776</td></tr>\n",
       "</tbody>\n",
       "</table>"
      ],
      "text/plain": [
       "'<table>\\n<tbody>\\n<tr><td>Flood      </td><td style=\"text-align: right;\">0.864917</td></tr>\\n<tr><td>foobar     </td><td style=\"text-align: right;\">0.825785</td></tr>\\n<tr><td>lambda-demo</td><td style=\"text-align: right;\">0.819114</td></tr>\\n<tr><td>Dynamo     </td><td style=\"text-align: right;\">0.816751</td></tr>\\n<tr><td>yule       </td><td style=\"text-align: right;\">0.813776</td></tr>\\n</tbody>\\n</table>'"
      ]
     },
     "execution_count": 22,
     "metadata": {},
     "output_type": "execute_result"
    }
   ],
   "source": [
    "guess('deluge')"
   ]
  },
  {
   "cell_type": "code",
   "execution_count": 23,
   "metadata": {},
   "outputs": [
    {
     "data": {
      "text/html": [
       "<table>\n",
       "<tbody>\n",
       "<tr><td>git        </td><td style=\"text-align: right;\">0.822978</td></tr>\n",
       "<tr><td>Linkage    </td><td style=\"text-align: right;\">0.807195</td></tr>\n",
       "<tr><td>gitscripts </td><td style=\"text-align: right;\">0.806823</td></tr>\n",
       "<tr><td>capture.net</td><td style=\"text-align: right;\">0.803136</td></tr>\n",
       "<tr><td>test-site  </td><td style=\"text-align: right;\">0.801780</td></tr>\n",
       "</tbody>\n",
       "</table>"
      ],
      "text/plain": [
       "'<table>\\n<tbody>\\n<tr><td>git        </td><td style=\"text-align: right;\">0.822978</td></tr>\\n<tr><td>Linkage    </td><td style=\"text-align: right;\">0.807195</td></tr>\\n<tr><td>gitscripts </td><td style=\"text-align: right;\">0.806823</td></tr>\\n<tr><td>capture.net</td><td style=\"text-align: right;\">0.803136</td></tr>\\n<tr><td>test-site  </td><td style=\"text-align: right;\">0.801780</td></tr>\\n</tbody>\\n</table>'"
      ]
     },
     "execution_count": 23,
     "metadata": {},
     "output_type": "execute_result"
    }
   ],
   "source": [
    "guess('source control')"
   ]
  },
  {
   "cell_type": "code",
   "execution_count": 24,
   "metadata": {},
   "outputs": [
    {
     "data": {
      "text/html": [
       "<table>\n",
       "<tbody>\n",
       "<tr><td>git           </td><td style=\"text-align: right;\">0.831379</td></tr>\n",
       "<tr><td>git-notes     </td><td style=\"text-align: right;\">0.830440</td></tr>\n",
       "<tr><td>dot-imports   </td><td style=\"text-align: right;\">0.815820</td></tr>\n",
       "<tr><td>gitscripts    </td><td style=\"text-align: right;\">0.812936</td></tr>\n",
       "<tr><td>editor-configs</td><td style=\"text-align: right;\">0.812632</td></tr>\n",
       "</tbody>\n",
       "</table>"
      ],
      "text/plain": [
       "'<table>\\n<tbody>\\n<tr><td>git           </td><td style=\"text-align: right;\">0.831379</td></tr>\\n<tr><td>git-notes     </td><td style=\"text-align: right;\">0.830440</td></tr>\\n<tr><td>dot-imports   </td><td style=\"text-align: right;\">0.815820</td></tr>\\n<tr><td>gitscripts    </td><td style=\"text-align: right;\">0.812936</td></tr>\\n<tr><td>editor-configs</td><td style=\"text-align: right;\">0.812632</td></tr>\\n</tbody>\\n</table>'"
      ]
     },
     "execution_count": 24,
     "metadata": {},
     "output_type": "execute_result"
    }
   ],
   "source": [
    "guess('source-control')"
   ]
  },
  {
   "cell_type": "code",
   "execution_count": null,
   "metadata": {},
   "outputs": [],
   "source": []
  }
 ],
 "metadata": {
  "kernelspec": {
   "display_name": "findrepo2-experiment",
   "language": "python",
   "name": "python3"
  },
  "language_info": {
   "codemirror_mode": {
    "name": "ipython",
    "version": 3
   },
   "file_extension": ".py",
   "mimetype": "text/x-python",
   "name": "python",
   "nbconvert_exporter": "python",
   "pygments_lexer": "ipython3",
   "version": "3.11.0"
  },
  "orig_nbformat": 4,
  "vscode": {
   "interpreter": {
    "hash": "b6d3a31ea48078e8b7113ba660070f8d101b3a1999b1f3b4ff676205913c73c9"
   }
  }
 },
 "nbformat": 4,
 "nbformat_minor": 2
}
