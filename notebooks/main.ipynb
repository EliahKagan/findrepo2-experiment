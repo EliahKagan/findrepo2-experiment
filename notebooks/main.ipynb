{
 "cells": [
  {
   "attachments": {},
   "cell_type": "markdown",
   "metadata": {},
   "source": [
    "# Main notebook - experimenting with guesses\n",
    "\n",
    "SPDX-License-Identifier: 0BSD\n",
    "\n",
    "This does semantic search based solely on repository name and user input.\n",
    "\n",
    "Compare to\n",
    "[`findrepo`](https://github.com/EliahKagan/newrepo-findrepo#using-findrepo)."
   ]
  },
  {
   "cell_type": "code",
   "execution_count": 1,
   "metadata": {},
   "outputs": [],
   "source": [
    "import logging\n",
    "\n",
    "import numpy as np\n",
    "from tabulate import tabulate\n",
    "\n",
    "import fr2ex"
   ]
  },
  {
   "cell_type": "code",
   "execution_count": 2,
   "metadata": {},
   "outputs": [],
   "source": [
    "logging.basicConfig(level=logging.INFO)"
   ]
  },
  {
   "cell_type": "code",
   "execution_count": 3,
   "metadata": {},
   "outputs": [
    {
     "name": "stderr",
     "output_type": "stream",
     "text": [
      "INFO:paramiko.transport:Connected (version 2.0, client OpenSSH_7.6p1)\n",
      "INFO:paramiko.transport:Authentication (publickey) successful!\n",
      "INFO:paramiko.transport.sftp:[chan 0] Opened sftp connection (server version 3)\n",
      "INFO:paramiko.transport.sftp:[chan 0] sftp session closed.\n"
     ]
    }
   ],
   "source": [
    "names = fr2ex.remote.fetch_repo_names()"
   ]
  },
  {
   "cell_type": "code",
   "execution_count": 4,
   "metadata": {},
   "outputs": [
    {
     "data": {
      "text/plain": [
       "743"
      ]
     },
     "execution_count": 4,
     "metadata": {},
     "output_type": "execute_result"
    }
   ],
   "source": [
    "len(names)"
   ]
  },
  {
   "cell_type": "code",
   "execution_count": 5,
   "metadata": {},
   "outputs": [
    {
     "name": "stderr",
     "output_type": "stream",
     "text": [
      "INFO:root:Querying OpenAI moderation endpoint.\n"
     ]
    }
   ],
   "source": [
    "moderation = fr2ex.moderation.get_moderation(names)"
   ]
  },
  {
   "cell_type": "code",
   "execution_count": 6,
   "metadata": {},
   "outputs": [
    {
     "data": {
      "text/plain": [
       "743"
      ]
     },
     "execution_count": 6,
     "metadata": {},
     "output_type": "execute_result"
    }
   ],
   "source": [
    "len(moderation)"
   ]
  },
  {
   "cell_type": "code",
   "execution_count": 7,
   "metadata": {},
   "outputs": [
    {
     "data": {
      "text/plain": [
       "False"
      ]
     },
     "execution_count": 7,
     "metadata": {},
     "output_type": "execute_result"
    }
   ],
   "source": [
    "any(fr2ex.moderation.any_flagged(result) for result in moderation)"
   ]
  },
  {
   "cell_type": "code",
   "execution_count": 8,
   "metadata": {},
   "outputs": [
    {
     "name": "stdout",
     "output_type": "stream",
     "text": [
      "It looks like the rate is $0.00010 per 1000 tokens. If so, the cost to\n",
      "process 2123 tokens is about $0.0002123 (that is, 0.0212300 cents).\n"
     ]
    }
   ],
   "source": [
    "fr2ex.tokens.report_cost(names)"
   ]
  },
  {
   "cell_type": "code",
   "execution_count": 9,
   "metadata": {},
   "outputs": [
    {
     "name": "stderr",
     "output_type": "stream",
     "text": [
      "INFO:root:Querying OpenAI embeddings endpoint.\n"
     ]
    }
   ],
   "source": [
    "embeddings = fr2ex.embedding.embed_many(names)"
   ]
  },
  {
   "cell_type": "code",
   "execution_count": 10,
   "metadata": {},
   "outputs": [],
   "source": [
    "def guess(name: str, count: int = 5) -> None:\n",
    "    \"\"\"Show top guesses for similarity of name to already embedded names.\"\"\"\n",
    "    scores = embeddings @ fr2ex.embedding.embed(name)\n",
    "    ordering = sorted(zip(scores, names), reverse=True)\n",
    "    table = [(name, score) for score, name in ordering]\n",
    "    return tabulate(table[:count], tablefmt='html', floatfmt='.6f')"
   ]
  },
  {
   "cell_type": "code",
   "execution_count": 11,
   "metadata": {},
   "outputs": [
    {
     "data": {
      "text/html": [
       "<table>\n",
       "<tbody>\n",
       "<tr><td>Calculator            </td><td style=\"text-align: right;\">0.868892</td></tr>\n",
       "<tr><td>Geometry              </td><td style=\"text-align: right;\">0.865443</td></tr>\n",
       "<tr><td>algorithms-suggestions</td><td style=\"text-align: right;\">0.860237</td></tr>\n",
       "<tr><td>Alias                 </td><td style=\"text-align: right;\">0.851718</td></tr>\n",
       "<tr><td>crystal-algo          </td><td style=\"text-align: right;\">0.849856</td></tr>\n",
       "</tbody>\n",
       "</table>"
      ],
      "text/plain": [
       "'<table>\\n<tbody>\\n<tr><td>Calculator            </td><td style=\"text-align: right;\">0.868892</td></tr>\\n<tr><td>Geometry              </td><td style=\"text-align: right;\">0.865443</td></tr>\\n<tr><td>algorithms-suggestions</td><td style=\"text-align: right;\">0.860237</td></tr>\\n<tr><td>Alias                 </td><td style=\"text-align: right;\">0.851718</td></tr>\\n<tr><td>crystal-algo          </td><td style=\"text-align: right;\">0.849856</td></tr>\\n</tbody>\\n</table>'"
      ]
     },
     "execution_count": 11,
     "metadata": {},
     "output_type": "execute_result"
    }
   ],
   "source": [
    "guess('algorithm')"
   ]
  },
  {
   "cell_type": "code",
   "execution_count": 12,
   "metadata": {},
   "outputs": [
    {
     "data": {
      "text/html": [
       "<table>\n",
       "<tbody>\n",
       "<tr><td>SortingRanges</td><td style=\"text-align: right;\">0.932489</td></tr>\n",
       "<tr><td>Sorts        </td><td style=\"text-align: right;\">0.909088</td></tr>\n",
       "<tr><td>sortkey      </td><td style=\"text-align: right;\">0.859276</td></tr>\n",
       "<tr><td>PartialSort  </td><td style=\"text-align: right;\">0.854948</td></tr>\n",
       "<tr><td>tsort        </td><td style=\"text-align: right;\">0.840355</td></tr>\n",
       "</tbody>\n",
       "</table>"
      ],
      "text/plain": [
       "'<table>\\n<tbody>\\n<tr><td>SortingRanges</td><td style=\"text-align: right;\">0.932489</td></tr>\\n<tr><td>Sorts        </td><td style=\"text-align: right;\">0.909088</td></tr>\\n<tr><td>sortkey      </td><td style=\"text-align: right;\">0.859276</td></tr>\\n<tr><td>PartialSort  </td><td style=\"text-align: right;\">0.854948</td></tr>\\n<tr><td>tsort        </td><td style=\"text-align: right;\">0.840355</td></tr>\\n</tbody>\\n</table>'"
      ]
     },
     "execution_count": 12,
     "metadata": {},
     "output_type": "execute_result"
    }
   ],
   "source": [
    "guess('sorting')"
   ]
  },
  {
   "cell_type": "code",
   "execution_count": 13,
   "metadata": {},
   "outputs": [
    {
     "data": {
      "text/html": [
       "<table>\n",
       "<tbody>\n",
       "<tr><td>algorithms-suggestions</td><td style=\"text-align: right;\">0.889123</td></tr>\n",
       "<tr><td>algorithms-python     </td><td style=\"text-align: right;\">0.859457</td></tr>\n",
       "<tr><td>crystal-algo          </td><td style=\"text-align: right;\">0.856151</td></tr>\n",
       "<tr><td>Graph-gist            </td><td style=\"text-align: right;\">0.842437</td></tr>\n",
       "<tr><td>codegraph             </td><td style=\"text-align: right;\">0.832969</td></tr>\n",
       "</tbody>\n",
       "</table>"
      ],
      "text/plain": [
       "'<table>\\n<tbody>\\n<tr><td>algorithms-suggestions</td><td style=\"text-align: right;\">0.889123</td></tr>\\n<tr><td>algorithms-python     </td><td style=\"text-align: right;\">0.859457</td></tr>\\n<tr><td>crystal-algo          </td><td style=\"text-align: right;\">0.856151</td></tr>\\n<tr><td>Graph-gist            </td><td style=\"text-align: right;\">0.842437</td></tr>\\n<tr><td>codegraph             </td><td style=\"text-align: right;\">0.832969</td></tr>\\n</tbody>\\n</table>'"
      ]
     },
     "execution_count": 13,
     "metadata": {},
     "output_type": "execute_result"
    }
   ],
   "source": [
    "guess('algorithm-visualization')"
   ]
  },
  {
   "cell_type": "code",
   "execution_count": 14,
   "metadata": {},
   "outputs": [
    {
     "data": {
      "text/html": [
       "<table>\n",
       "<tbody>\n",
       "<tr><td>try-maven  </td><td style=\"text-align: right;\">0.916208</td></tr>\n",
       "<tr><td>mavener    </td><td style=\"text-align: right;\">0.880028</td></tr>\n",
       "<tr><td>retry-maven</td><td style=\"text-align: right;\">0.868239</td></tr>\n",
       "<tr><td>pimpl      </td><td style=\"text-align: right;\">0.836305</td></tr>\n",
       "<tr><td>try-gradle </td><td style=\"text-align: right;\">0.833471</td></tr>\n",
       "</tbody>\n",
       "</table>"
      ],
      "text/plain": [
       "'<table>\\n<tbody>\\n<tr><td>try-maven  </td><td style=\"text-align: right;\">0.916208</td></tr>\\n<tr><td>mavener    </td><td style=\"text-align: right;\">0.880028</td></tr>\\n<tr><td>retry-maven</td><td style=\"text-align: right;\">0.868239</td></tr>\\n<tr><td>pimpl      </td><td style=\"text-align: right;\">0.836305</td></tr>\\n<tr><td>try-gradle </td><td style=\"text-align: right;\">0.833471</td></tr>\\n</tbody>\\n</table>'"
      ]
     },
     "execution_count": 14,
     "metadata": {},
     "output_type": "execute_result"
    }
   ],
   "source": [
    "guess('maven')"
   ]
  },
  {
   "cell_type": "code",
   "execution_count": 15,
   "metadata": {},
   "outputs": [
    {
     "data": {
      "text/html": [
       "<table>\n",
       "<tbody>\n",
       "<tr><td>newrepo-findrepo    </td><td style=\"text-align: right;\">0.916371</td></tr>\n",
       "<tr><td>findrepo2-experiment</td><td style=\"text-align: right;\">0.867433</td></tr>\n",
       "<tr><td>backup-repos        </td><td style=\"text-align: right;\">0.865052</td></tr>\n",
       "<tr><td>find-articles       </td><td style=\"text-align: right;\">0.857055</td></tr>\n",
       "<tr><td>TestRepo            </td><td style=\"text-align: right;\">0.842136</td></tr>\n",
       "</tbody>\n",
       "</table>"
      ],
      "text/plain": [
       "'<table>\\n<tbody>\\n<tr><td>newrepo-findrepo    </td><td style=\"text-align: right;\">0.916371</td></tr>\\n<tr><td>findrepo2-experiment</td><td style=\"text-align: right;\">0.867433</td></tr>\\n<tr><td>backup-repos        </td><td style=\"text-align: right;\">0.865052</td></tr>\\n<tr><td>find-articles       </td><td style=\"text-align: right;\">0.857055</td></tr>\\n<tr><td>TestRepo            </td><td style=\"text-align: right;\">0.842136</td></tr>\\n</tbody>\\n</table>'"
      ]
     },
     "execution_count": 15,
     "metadata": {},
     "output_type": "execute_result"
    }
   ],
   "source": [
    "guess('find-repo')"
   ]
  },
  {
   "cell_type": "code",
   "execution_count": 16,
   "metadata": {},
   "outputs": [
    {
     "data": {
      "text/html": [
       "<table>\n",
       "<tbody>\n",
       "<tr><td>codegraph </td><td style=\"text-align: right;\">0.881131</td></tr>\n",
       "<tr><td>Graph     </td><td style=\"text-align: right;\">0.879394</td></tr>\n",
       "<tr><td>Graph-gist</td><td style=\"text-align: right;\">0.864719</td></tr>\n",
       "<tr><td>Geometry  </td><td style=\"text-align: right;\">0.839580</td></tr>\n",
       "<tr><td>wpf-graph </td><td style=\"text-align: right;\">0.829246</td></tr>\n",
       "<tr><td>graphyaml </td><td style=\"text-align: right;\">0.820538</td></tr>\n",
       "<tr><td>gh-profile</td><td style=\"text-align: right;\">0.814843</td></tr>\n",
       "<tr><td>c-sketches</td><td style=\"text-align: right;\">0.813834</td></tr>\n",
       "<tr><td>sig       </td><td style=\"text-align: right;\">0.810508</td></tr>\n",
       "<tr><td>trig      </td><td style=\"text-align: right;\">0.809272</td></tr>\n",
       "</tbody>\n",
       "</table>"
      ],
      "text/plain": [
       "'<table>\\n<tbody>\\n<tr><td>codegraph </td><td style=\"text-align: right;\">0.881131</td></tr>\\n<tr><td>Graph     </td><td style=\"text-align: right;\">0.879394</td></tr>\\n<tr><td>Graph-gist</td><td style=\"text-align: right;\">0.864719</td></tr>\\n<tr><td>Geometry  </td><td style=\"text-align: right;\">0.839580</td></tr>\\n<tr><td>wpf-graph </td><td style=\"text-align: right;\">0.829246</td></tr>\\n<tr><td>graphyaml </td><td style=\"text-align: right;\">0.820538</td></tr>\\n<tr><td>gh-profile</td><td style=\"text-align: right;\">0.814843</td></tr>\\n<tr><td>c-sketches</td><td style=\"text-align: right;\">0.813834</td></tr>\\n<tr><td>sig       </td><td style=\"text-align: right;\">0.810508</td></tr>\\n<tr><td>trig      </td><td style=\"text-align: right;\">0.809272</td></tr>\\n</tbody>\\n</table>'"
      ]
     },
     "execution_count": 16,
     "metadata": {},
     "output_type": "execute_result"
    }
   ],
   "source": [
    "guess('graph theory', count=10)"
   ]
  },
  {
   "cell_type": "code",
   "execution_count": 17,
   "metadata": {},
   "outputs": [
    {
     "data": {
      "text/html": [
       "<table>\n",
       "<tbody>\n",
       "<tr><td>Dijkstra              </td><td style=\"text-align: right;\">0.891523</td></tr>\n",
       "<tr><td>Paths                 </td><td style=\"text-align: right;\">0.838904</td></tr>\n",
       "<tr><td>TreeTraversal         </td><td style=\"text-align: right;\">0.830625</td></tr>\n",
       "<tr><td>Kruskal               </td><td style=\"text-align: right;\">0.816510</td></tr>\n",
       "<tr><td>algorithms-suggestions</td><td style=\"text-align: right;\">0.816332</td></tr>\n",
       "<tr><td>Traverse              </td><td style=\"text-align: right;\">0.813229</td></tr>\n",
       "<tr><td>Permutations          </td><td style=\"text-align: right;\">0.806625</td></tr>\n",
       "<tr><td>treejs                </td><td style=\"text-align: right;\">0.801387</td></tr>\n",
       "<tr><td>DFS                   </td><td style=\"text-align: right;\">0.801053</td></tr>\n",
       "<tr><td>kt-short              </td><td style=\"text-align: right;\">0.800336</td></tr>\n",
       "</tbody>\n",
       "</table>"
      ],
      "text/plain": [
       "'<table>\\n<tbody>\\n<tr><td>Dijkstra              </td><td style=\"text-align: right;\">0.891523</td></tr>\\n<tr><td>Paths                 </td><td style=\"text-align: right;\">0.838904</td></tr>\\n<tr><td>TreeTraversal         </td><td style=\"text-align: right;\">0.830625</td></tr>\\n<tr><td>Kruskal               </td><td style=\"text-align: right;\">0.816510</td></tr>\\n<tr><td>algorithms-suggestions</td><td style=\"text-align: right;\">0.816332</td></tr>\\n<tr><td>Traverse              </td><td style=\"text-align: right;\">0.813229</td></tr>\\n<tr><td>Permutations          </td><td style=\"text-align: right;\">0.806625</td></tr>\\n<tr><td>treejs                </td><td style=\"text-align: right;\">0.801387</td></tr>\\n<tr><td>DFS                   </td><td style=\"text-align: right;\">0.801053</td></tr>\\n<tr><td>kt-short              </td><td style=\"text-align: right;\">0.800336</td></tr>\\n</tbody>\\n</table>'"
      ]
     },
     "execution_count": 17,
     "metadata": {},
     "output_type": "execute_result"
    }
   ],
   "source": [
    "guess('shortest paths', count=10)"
   ]
  },
  {
   "cell_type": "code",
   "execution_count": 18,
   "metadata": {},
   "outputs": [
    {
     "data": {
      "text/html": [
       "<table>\n",
       "<tbody>\n",
       "<tr><td>Dijkstra              </td><td style=\"text-align: right;\">0.892585</td></tr>\n",
       "<tr><td>Paths                 </td><td style=\"text-align: right;\">0.836293</td></tr>\n",
       "<tr><td>TreeTraversal         </td><td style=\"text-align: right;\">0.836116</td></tr>\n",
       "<tr><td>Traverse              </td><td style=\"text-align: right;\">0.820015</td></tr>\n",
       "<tr><td>algorithms-suggestions</td><td style=\"text-align: right;\">0.819172</td></tr>\n",
       "<tr><td>Kruskal               </td><td style=\"text-align: right;\">0.814038</td></tr>\n",
       "<tr><td>type-arrows           </td><td style=\"text-align: right;\">0.812833</td></tr>\n",
       "<tr><td>kt-short              </td><td style=\"text-align: right;\">0.811081</td></tr>\n",
       "<tr><td>sequence-dag          </td><td style=\"text-align: right;\">0.809246</td></tr>\n",
       "<tr><td>bfsshortreach         </td><td style=\"text-align: right;\">0.806233</td></tr>\n",
       "</tbody>\n",
       "</table>"
      ],
      "text/plain": [
       "'<table>\\n<tbody>\\n<tr><td>Dijkstra              </td><td style=\"text-align: right;\">0.892585</td></tr>\\n<tr><td>Paths                 </td><td style=\"text-align: right;\">0.836293</td></tr>\\n<tr><td>TreeTraversal         </td><td style=\"text-align: right;\">0.836116</td></tr>\\n<tr><td>Traverse              </td><td style=\"text-align: right;\">0.820015</td></tr>\\n<tr><td>algorithms-suggestions</td><td style=\"text-align: right;\">0.819172</td></tr>\\n<tr><td>Kruskal               </td><td style=\"text-align: right;\">0.814038</td></tr>\\n<tr><td>type-arrows           </td><td style=\"text-align: right;\">0.812833</td></tr>\\n<tr><td>kt-short              </td><td style=\"text-align: right;\">0.811081</td></tr>\\n<tr><td>sequence-dag          </td><td style=\"text-align: right;\">0.809246</td></tr>\\n<tr><td>bfsshortreach         </td><td style=\"text-align: right;\">0.806233</td></tr>\\n</tbody>\\n</table>'"
      ]
     },
     "execution_count": 18,
     "metadata": {},
     "output_type": "execute_result"
    }
   ],
   "source": [
    "guess('shortest-paths', count=10)"
   ]
  },
  {
   "cell_type": "code",
   "execution_count": 19,
   "metadata": {},
   "outputs": [
    {
     "data": {
      "text/html": [
       "<table>\n",
       "<tbody>\n",
       "<tr><td>TreeTraversal          </td><td style=\"text-align: right;\">0.897433</td></tr>\n",
       "<tr><td>Traverse               </td><td style=\"text-align: right;\">0.870090</td></tr>\n",
       "<tr><td>Graph                  </td><td style=\"text-align: right;\">0.868436</td></tr>\n",
       "<tr><td>codegraph              </td><td style=\"text-align: right;\">0.856972</td></tr>\n",
       "<tr><td>Graph-gist             </td><td style=\"text-align: right;\">0.851107</td></tr>\n",
       "<tr><td>TraverseTree           </td><td style=\"text-align: right;\">0.850101</td></tr>\n",
       "<tr><td>TreeTraversalAnimations</td><td style=\"text-align: right;\">0.845119</td></tr>\n",
       "<tr><td>Dijkstra               </td><td style=\"text-align: right;\">0.825617</td></tr>\n",
       "<tr><td>DFS                    </td><td style=\"text-align: right;\">0.823700</td></tr>\n",
       "<tr><td>sequence-dag           </td><td style=\"text-align: right;\">0.819555</td></tr>\n",
       "</tbody>\n",
       "</table>"
      ],
      "text/plain": [
       "'<table>\\n<tbody>\\n<tr><td>TreeTraversal          </td><td style=\"text-align: right;\">0.897433</td></tr>\\n<tr><td>Traverse               </td><td style=\"text-align: right;\">0.870090</td></tr>\\n<tr><td>Graph                  </td><td style=\"text-align: right;\">0.868436</td></tr>\\n<tr><td>codegraph              </td><td style=\"text-align: right;\">0.856972</td></tr>\\n<tr><td>Graph-gist             </td><td style=\"text-align: right;\">0.851107</td></tr>\\n<tr><td>TraverseTree           </td><td style=\"text-align: right;\">0.850101</td></tr>\\n<tr><td>TreeTraversalAnimations</td><td style=\"text-align: right;\">0.845119</td></tr>\\n<tr><td>Dijkstra               </td><td style=\"text-align: right;\">0.825617</td></tr>\\n<tr><td>DFS                    </td><td style=\"text-align: right;\">0.823700</td></tr>\\n<tr><td>sequence-dag           </td><td style=\"text-align: right;\">0.819555</td></tr>\\n</tbody>\\n</table>'"
      ]
     },
     "execution_count": 19,
     "metadata": {},
     "output_type": "execute_result"
    }
   ],
   "source": [
    "guess('graph traversal', count=10)"
   ]
  },
  {
   "cell_type": "code",
   "execution_count": 20,
   "metadata": {},
   "outputs": [
    {
     "data": {
      "text/html": [
       "<table>\n",
       "<tbody>\n",
       "<tr><td>TreeTraversal          </td><td style=\"text-align: right;\">0.904162</td></tr>\n",
       "<tr><td>Traverse               </td><td style=\"text-align: right;\">0.880023</td></tr>\n",
       "<tr><td>Graph                  </td><td style=\"text-align: right;\">0.878427</td></tr>\n",
       "<tr><td>Graph-gist             </td><td style=\"text-align: right;\">0.875338</td></tr>\n",
       "<tr><td>codegraph              </td><td style=\"text-align: right;\">0.872349</td></tr>\n",
       "<tr><td>TraverseTree           </td><td style=\"text-align: right;\">0.865455</td></tr>\n",
       "<tr><td>TreeTraversalAnimations</td><td style=\"text-align: right;\">0.851364</td></tr>\n",
       "<tr><td>Dijkstra               </td><td style=\"text-align: right;\">0.842983</td></tr>\n",
       "<tr><td>wpf-graph              </td><td style=\"text-align: right;\">0.841249</td></tr>\n",
       "<tr><td>sequence-dag           </td><td style=\"text-align: right;\">0.837076</td></tr>\n",
       "</tbody>\n",
       "</table>"
      ],
      "text/plain": [
       "'<table>\\n<tbody>\\n<tr><td>TreeTraversal          </td><td style=\"text-align: right;\">0.904162</td></tr>\\n<tr><td>Traverse               </td><td style=\"text-align: right;\">0.880023</td></tr>\\n<tr><td>Graph                  </td><td style=\"text-align: right;\">0.878427</td></tr>\\n<tr><td>Graph-gist             </td><td style=\"text-align: right;\">0.875338</td></tr>\\n<tr><td>codegraph              </td><td style=\"text-align: right;\">0.872349</td></tr>\\n<tr><td>TraverseTree           </td><td style=\"text-align: right;\">0.865455</td></tr>\\n<tr><td>TreeTraversalAnimations</td><td style=\"text-align: right;\">0.851364</td></tr>\\n<tr><td>Dijkstra               </td><td style=\"text-align: right;\">0.842983</td></tr>\\n<tr><td>wpf-graph              </td><td style=\"text-align: right;\">0.841249</td></tr>\\n<tr><td>sequence-dag           </td><td style=\"text-align: right;\">0.837076</td></tr>\\n</tbody>\\n</table>'"
      ]
     },
     "execution_count": 20,
     "metadata": {},
     "output_type": "execute_result"
    }
   ],
   "source": [
    "guess('graph-traversal', count=10)"
   ]
  },
  {
   "cell_type": "code",
   "execution_count": 21,
   "metadata": {},
   "outputs": [
    {
     "data": {
      "text/html": [
       "<table>\n",
       "<tbody>\n",
       "<tr><td>Graph      </td><td style=\"text-align: right;\">0.892250</td></tr>\n",
       "<tr><td>Geometry   </td><td style=\"text-align: right;\">0.883731</td></tr>\n",
       "<tr><td>printing   </td><td style=\"text-align: right;\">0.882585</td></tr>\n",
       "<tr><td>Draw       </td><td style=\"text-align: right;\">0.876183</td></tr>\n",
       "<tr><td>fps        </td><td style=\"text-align: right;\">0.859684</td></tr>\n",
       "<tr><td>works      </td><td style=\"text-align: right;\">0.849026</td></tr>\n",
       "<tr><td>coordinates</td><td style=\"text-align: right;\">0.845500</td></tr>\n",
       "<tr><td>Components </td><td style=\"text-align: right;\">0.841960</td></tr>\n",
       "<tr><td>filesystem </td><td style=\"text-align: right;\">0.839882</td></tr>\n",
       "<tr><td>typevars   </td><td style=\"text-align: right;\">0.839816</td></tr>\n",
       "</tbody>\n",
       "</table>"
      ],
      "text/plain": [
       "'<table>\\n<tbody>\\n<tr><td>Graph      </td><td style=\"text-align: right;\">0.892250</td></tr>\\n<tr><td>Geometry   </td><td style=\"text-align: right;\">0.883731</td></tr>\\n<tr><td>printing   </td><td style=\"text-align: right;\">0.882585</td></tr>\\n<tr><td>Draw       </td><td style=\"text-align: right;\">0.876183</td></tr>\\n<tr><td>fps        </td><td style=\"text-align: right;\">0.859684</td></tr>\\n<tr><td>works      </td><td style=\"text-align: right;\">0.849026</td></tr>\\n<tr><td>coordinates</td><td style=\"text-align: right;\">0.845500</td></tr>\\n<tr><td>Components </td><td style=\"text-align: right;\">0.841960</td></tr>\\n<tr><td>filesystem </td><td style=\"text-align: right;\">0.839882</td></tr>\\n<tr><td>typevars   </td><td style=\"text-align: right;\">0.839816</td></tr>\\n</tbody>\\n</table>'"
      ]
     },
     "execution_count": 21,
     "metadata": {},
     "output_type": "execute_result"
    }
   ],
   "source": [
    "guess('graphics', count=10)"
   ]
  },
  {
   "cell_type": "code",
   "execution_count": 22,
   "metadata": {},
   "outputs": [
    {
     "data": {
      "text/html": [
       "<table>\n",
       "<tbody>\n",
       "<tr><td>Flood      </td><td style=\"text-align: right;\">0.865004</td></tr>\n",
       "<tr><td>foobar     </td><td style=\"text-align: right;\">0.825877</td></tr>\n",
       "<tr><td>deltall    </td><td style=\"text-align: right;\">0.819861</td></tr>\n",
       "<tr><td>lambda-demo</td><td style=\"text-align: right;\">0.819041</td></tr>\n",
       "<tr><td>runsleuthu </td><td style=\"text-align: right;\">0.817375</td></tr>\n",
       "</tbody>\n",
       "</table>"
      ],
      "text/plain": [
       "'<table>\\n<tbody>\\n<tr><td>Flood      </td><td style=\"text-align: right;\">0.865004</td></tr>\\n<tr><td>foobar     </td><td style=\"text-align: right;\">0.825877</td></tr>\\n<tr><td>deltall    </td><td style=\"text-align: right;\">0.819861</td></tr>\\n<tr><td>lambda-demo</td><td style=\"text-align: right;\">0.819041</td></tr>\\n<tr><td>runsleuthu </td><td style=\"text-align: right;\">0.817375</td></tr>\\n</tbody>\\n</table>'"
      ]
     },
     "execution_count": 22,
     "metadata": {},
     "output_type": "execute_result"
    }
   ],
   "source": [
    "guess('deluge')"
   ]
  },
  {
   "cell_type": "code",
   "execution_count": 23,
   "metadata": {},
   "outputs": [
    {
     "data": {
      "text/html": [
       "<table>\n",
       "<tbody>\n",
       "<tr><td>git       </td><td style=\"text-align: right;\">0.822995</td></tr>\n",
       "<tr><td>gitdb     </td><td style=\"text-align: right;\">0.807633</td></tr>\n",
       "<tr><td>Linkage   </td><td style=\"text-align: right;\">0.807274</td></tr>\n",
       "<tr><td>gitscripts</td><td style=\"text-align: right;\">0.806897</td></tr>\n",
       "<tr><td>edits     </td><td style=\"text-align: right;\">0.806733</td></tr>\n",
       "</tbody>\n",
       "</table>"
      ],
      "text/plain": [
       "'<table>\\n<tbody>\\n<tr><td>git       </td><td style=\"text-align: right;\">0.822995</td></tr>\\n<tr><td>gitdb     </td><td style=\"text-align: right;\">0.807633</td></tr>\\n<tr><td>Linkage   </td><td style=\"text-align: right;\">0.807274</td></tr>\\n<tr><td>gitscripts</td><td style=\"text-align: right;\">0.806897</td></tr>\\n<tr><td>edits     </td><td style=\"text-align: right;\">0.806733</td></tr>\\n</tbody>\\n</table>'"
      ]
     },
     "execution_count": 23,
     "metadata": {},
     "output_type": "execute_result"
    }
   ],
   "source": [
    "guess('source control')"
   ]
  },
  {
   "cell_type": "code",
   "execution_count": 24,
   "metadata": {},
   "outputs": [
    {
     "data": {
      "text/html": [
       "<table>\n",
       "<tbody>\n",
       "<tr><td>git              </td><td style=\"text-align: right;\">0.831427</td></tr>\n",
       "<tr><td>git-notes        </td><td style=\"text-align: right;\">0.830786</td></tr>\n",
       "<tr><td>gitdb            </td><td style=\"text-align: right;\">0.826958</td></tr>\n",
       "<tr><td>example-submodule</td><td style=\"text-align: right;\">0.818399</td></tr>\n",
       "<tr><td>dot-imports      </td><td style=\"text-align: right;\">0.815807</td></tr>\n",
       "</tbody>\n",
       "</table>"
      ],
      "text/plain": [
       "'<table>\\n<tbody>\\n<tr><td>git              </td><td style=\"text-align: right;\">0.831427</td></tr>\\n<tr><td>git-notes        </td><td style=\"text-align: right;\">0.830786</td></tr>\\n<tr><td>gitdb            </td><td style=\"text-align: right;\">0.826958</td></tr>\\n<tr><td>example-submodule</td><td style=\"text-align: right;\">0.818399</td></tr>\\n<tr><td>dot-imports      </td><td style=\"text-align: right;\">0.815807</td></tr>\\n</tbody>\\n</table>'"
      ]
     },
     "execution_count": 24,
     "metadata": {},
     "output_type": "execute_result"
    }
   ],
   "source": [
    "guess('source-control')"
   ]
  },
  {
   "cell_type": "code",
   "execution_count": null,
   "metadata": {},
   "outputs": [],
   "source": []
  }
 ],
 "metadata": {
  "kernelspec": {
   "display_name": "findrepo2-experiment-rOSEKeEQ-py3.11",
   "language": "python",
   "name": "python3"
  },
  "language_info": {
   "codemirror_mode": {
    "name": "ipython",
    "version": 3
   },
   "file_extension": ".py",
   "mimetype": "text/x-python",
   "name": "python",
   "nbconvert_exporter": "python",
   "pygments_lexer": "ipython3",
   "version": "3.11.7"
  },
  "orig_nbformat": 4,
  "vscode": {
   "interpreter": {
    "hash": "cc24d4d634694babf689af76e7bfbddcba5d411d378bfb432817051e7e6debb7"
   }
  }
 },
 "nbformat": 4,
 "nbformat_minor": 2
}
