{
 "cells": [
  {
   "attachments": {},
   "cell_type": "markdown",
   "metadata": {},
   "source": [
    "# Main notebook - experimenting with guesses\n",
    "\n",
    "SPDX-License-Identifier: 0BSD\n",
    "\n",
    "This does semantic search based solely on repository name and user input.\n",
    "\n",
    "Compare to\n",
    "[`findrepo`](https://github.com/EliahKagan/newrepo-findrepo#using-findrepo)."
   ]
  },
  {
   "cell_type": "code",
   "execution_count": 1,
   "metadata": {},
   "outputs": [],
   "source": [
    "import logging\n",
    "\n",
    "import numpy as np\n",
    "from tabulate import tabulate\n",
    "\n",
    "import fr2ex"
   ]
  },
  {
   "cell_type": "code",
   "execution_count": 2,
   "metadata": {},
   "outputs": [],
   "source": [
    "logging.basicConfig(level=logging.INFO)"
   ]
  },
  {
   "cell_type": "code",
   "execution_count": 3,
   "metadata": {},
   "outputs": [
    {
     "name": "stderr",
     "output_type": "stream",
     "text": [
      "INFO:paramiko.transport:Connected (version 2.0, client OpenSSH_7.6p1)\n",
      "INFO:paramiko.transport:Authentication (publickey) successful!\n",
      "INFO:paramiko.transport.sftp:[chan 0] Opened sftp connection (server version 3)\n",
      "INFO:paramiko.transport.sftp:[chan 0] sftp session closed.\n"
     ]
    }
   ],
   "source": [
    "names = fr2ex.remote.fetch_repo_names()"
   ]
  },
  {
   "cell_type": "code",
   "execution_count": 4,
   "metadata": {},
   "outputs": [
    {
     "data": {
      "text/plain": [
       "685"
      ]
     },
     "execution_count": 4,
     "metadata": {},
     "output_type": "execute_result"
    }
   ],
   "source": [
    "len(names)"
   ]
  },
  {
   "cell_type": "code",
   "execution_count": 5,
   "metadata": {},
   "outputs": [
    {
     "name": "stderr",
     "output_type": "stream",
     "text": [
      "INFO:root:Reading cached moderation.\n"
     ]
    }
   ],
   "source": [
    "moderation = fr2ex.moderation.get_moderation(names)"
   ]
  },
  {
   "cell_type": "code",
   "execution_count": 6,
   "metadata": {},
   "outputs": [
    {
     "data": {
      "text/plain": [
       "685"
      ]
     },
     "execution_count": 6,
     "metadata": {},
     "output_type": "execute_result"
    }
   ],
   "source": [
    "len(moderation)"
   ]
  },
  {
   "cell_type": "code",
   "execution_count": 7,
   "metadata": {},
   "outputs": [
    {
     "data": {
      "text/plain": [
       "False"
      ]
     },
     "execution_count": 7,
     "metadata": {},
     "output_type": "execute_result"
    }
   ],
   "source": [
    "any(result['flagged'] for result in moderation)"
   ]
  },
  {
   "cell_type": "code",
   "execution_count": 8,
   "metadata": {},
   "outputs": [
    {
     "name": "stdout",
     "output_type": "stream",
     "text": [
      "It looks like the rate is $0.0004 per 1000 tokens. If so, the cost to\n",
      "process 1944 tokens is about $0.0007776 (that is, 0.0777600 cents).\n"
     ]
    }
   ],
   "source": [
    "fr2ex.tokens.report_cost(names)"
   ]
  },
  {
   "cell_type": "code",
   "execution_count": 9,
   "metadata": {},
   "outputs": [
    {
     "name": "stderr",
     "output_type": "stream",
     "text": [
      "INFO:root:Reading cached embeddings.\n"
     ]
    }
   ],
   "source": [
    "embeddings = fr2ex.embedding.embed_many(names)"
   ]
  },
  {
   "cell_type": "code",
   "execution_count": 10,
   "metadata": {},
   "outputs": [],
   "source": [
    "def guess(name: str, count: int = 5) -> None:\n",
    "    \"\"\"Show top guesses for similarity of name to already embedded names.\"\"\"\n",
    "    scores = embeddings @ fr2ex.embedding.embed(name)\n",
    "    ordering = sorted(zip(scores, names), reverse=True)\n",
    "    table = [(name, score) for score, name in ordering]\n",
    "    return tabulate(table[:count], tablefmt='html', floatfmt='.6f')"
   ]
  },
  {
   "cell_type": "code",
   "execution_count": 11,
   "metadata": {},
   "outputs": [
    {
     "data": {
      "text/html": [
       "<table>\n",
       "<tbody>\n",
       "<tr><td>Calculator            </td><td style=\"text-align: right;\">0.868882</td></tr>\n",
       "<tr><td>Geometry              </td><td style=\"text-align: right;\">0.865473</td></tr>\n",
       "<tr><td>algorithms-suggestions</td><td style=\"text-align: right;\">0.860272</td></tr>\n",
       "<tr><td>Alias                 </td><td style=\"text-align: right;\">0.851841</td></tr>\n",
       "<tr><td>crystal-algo          </td><td style=\"text-align: right;\">0.849729</td></tr>\n",
       "</tbody>\n",
       "</table>"
      ],
      "text/plain": [
       "'<table>\\n<tbody>\\n<tr><td>Calculator            </td><td style=\"text-align: right;\">0.868882</td></tr>\\n<tr><td>Geometry              </td><td style=\"text-align: right;\">0.865473</td></tr>\\n<tr><td>algorithms-suggestions</td><td style=\"text-align: right;\">0.860272</td></tr>\\n<tr><td>Alias                 </td><td style=\"text-align: right;\">0.851841</td></tr>\\n<tr><td>crystal-algo          </td><td style=\"text-align: right;\">0.849729</td></tr>\\n</tbody>\\n</table>'"
      ]
     },
     "execution_count": 11,
     "metadata": {},
     "output_type": "execute_result"
    }
   ],
   "source": [
    "guess('algorithm')"
   ]
  },
  {
   "cell_type": "code",
   "execution_count": 12,
   "metadata": {},
   "outputs": [
    {
     "data": {
      "text/html": [
       "<table>\n",
       "<tbody>\n",
       "<tr><td>SortingRanges</td><td style=\"text-align: right;\">0.932602</td></tr>\n",
       "<tr><td>Sorts        </td><td style=\"text-align: right;\">0.909067</td></tr>\n",
       "<tr><td>sortkey      </td><td style=\"text-align: right;\">0.859544</td></tr>\n",
       "<tr><td>PartialSort  </td><td style=\"text-align: right;\">0.855028</td></tr>\n",
       "<tr><td>tsort        </td><td style=\"text-align: right;\">0.840354</td></tr>\n",
       "</tbody>\n",
       "</table>"
      ],
      "text/plain": [
       "'<table>\\n<tbody>\\n<tr><td>SortingRanges</td><td style=\"text-align: right;\">0.932602</td></tr>\\n<tr><td>Sorts        </td><td style=\"text-align: right;\">0.909067</td></tr>\\n<tr><td>sortkey      </td><td style=\"text-align: right;\">0.859544</td></tr>\\n<tr><td>PartialSort  </td><td style=\"text-align: right;\">0.855028</td></tr>\\n<tr><td>tsort        </td><td style=\"text-align: right;\">0.840354</td></tr>\\n</tbody>\\n</table>'"
      ]
     },
     "execution_count": 12,
     "metadata": {},
     "output_type": "execute_result"
    }
   ],
   "source": [
    "guess('sorting')"
   ]
  },
  {
   "cell_type": "code",
   "execution_count": 13,
   "metadata": {},
   "outputs": [
    {
     "data": {
      "text/html": [
       "<table>\n",
       "<tbody>\n",
       "<tr><td>algorithms-suggestions</td><td style=\"text-align: right;\">0.888990</td></tr>\n",
       "<tr><td>algorithms-python     </td><td style=\"text-align: right;\">0.859365</td></tr>\n",
       "<tr><td>crystal-algo          </td><td style=\"text-align: right;\">0.855845</td></tr>\n",
       "<tr><td>Graph-gist            </td><td style=\"text-align: right;\">0.842326</td></tr>\n",
       "<tr><td>codegraph             </td><td style=\"text-align: right;\">0.833072</td></tr>\n",
       "</tbody>\n",
       "</table>"
      ],
      "text/plain": [
       "'<table>\\n<tbody>\\n<tr><td>algorithms-suggestions</td><td style=\"text-align: right;\">0.888990</td></tr>\\n<tr><td>algorithms-python     </td><td style=\"text-align: right;\">0.859365</td></tr>\\n<tr><td>crystal-algo          </td><td style=\"text-align: right;\">0.855845</td></tr>\\n<tr><td>Graph-gist            </td><td style=\"text-align: right;\">0.842326</td></tr>\\n<tr><td>codegraph             </td><td style=\"text-align: right;\">0.833072</td></tr>\\n</tbody>\\n</table>'"
      ]
     },
     "execution_count": 13,
     "metadata": {},
     "output_type": "execute_result"
    }
   ],
   "source": [
    "guess('algorithm-visualization')"
   ]
  },
  {
   "cell_type": "code",
   "execution_count": 14,
   "metadata": {},
   "outputs": [
    {
     "data": {
      "text/html": [
       "<table>\n",
       "<tbody>\n",
       "<tr><td>try-maven  </td><td style=\"text-align: right;\">0.915958</td></tr>\n",
       "<tr><td>mavener    </td><td style=\"text-align: right;\">0.879977</td></tr>\n",
       "<tr><td>retry-maven</td><td style=\"text-align: right;\">0.868165</td></tr>\n",
       "<tr><td>pimpl      </td><td style=\"text-align: right;\">0.836187</td></tr>\n",
       "<tr><td>try-gradle </td><td style=\"text-align: right;\">0.833603</td></tr>\n",
       "</tbody>\n",
       "</table>"
      ],
      "text/plain": [
       "'<table>\\n<tbody>\\n<tr><td>try-maven  </td><td style=\"text-align: right;\">0.915958</td></tr>\\n<tr><td>mavener    </td><td style=\"text-align: right;\">0.879977</td></tr>\\n<tr><td>retry-maven</td><td style=\"text-align: right;\">0.868165</td></tr>\\n<tr><td>pimpl      </td><td style=\"text-align: right;\">0.836187</td></tr>\\n<tr><td>try-gradle </td><td style=\"text-align: right;\">0.833603</td></tr>\\n</tbody>\\n</table>'"
      ]
     },
     "execution_count": 14,
     "metadata": {},
     "output_type": "execute_result"
    }
   ],
   "source": [
    "guess('maven')"
   ]
  },
  {
   "cell_type": "code",
   "execution_count": 15,
   "metadata": {},
   "outputs": [
    {
     "data": {
      "text/html": [
       "<table>\n",
       "<tbody>\n",
       "<tr><td>newrepo-findrepo    </td><td style=\"text-align: right;\">0.916212</td></tr>\n",
       "<tr><td>findrepo2-experiment</td><td style=\"text-align: right;\">0.867252</td></tr>\n",
       "<tr><td>backup-repos        </td><td style=\"text-align: right;\">0.864985</td></tr>\n",
       "<tr><td>find-articles       </td><td style=\"text-align: right;\">0.857056</td></tr>\n",
       "<tr><td>TestRepo            </td><td style=\"text-align: right;\">0.842144</td></tr>\n",
       "</tbody>\n",
       "</table>"
      ],
      "text/plain": [
       "'<table>\\n<tbody>\\n<tr><td>newrepo-findrepo    </td><td style=\"text-align: right;\">0.916212</td></tr>\\n<tr><td>findrepo2-experiment</td><td style=\"text-align: right;\">0.867252</td></tr>\\n<tr><td>backup-repos        </td><td style=\"text-align: right;\">0.864985</td></tr>\\n<tr><td>find-articles       </td><td style=\"text-align: right;\">0.857056</td></tr>\\n<tr><td>TestRepo            </td><td style=\"text-align: right;\">0.842144</td></tr>\\n</tbody>\\n</table>'"
      ]
     },
     "execution_count": 15,
     "metadata": {},
     "output_type": "execute_result"
    }
   ],
   "source": [
    "guess('find-repo')"
   ]
  },
  {
   "cell_type": "code",
   "execution_count": 16,
   "metadata": {},
   "outputs": [
    {
     "data": {
      "text/html": [
       "<table>\n",
       "<tbody>\n",
       "<tr><td>codegraph </td><td style=\"text-align: right;\">0.881251</td></tr>\n",
       "<tr><td>Graph     </td><td style=\"text-align: right;\">0.879413</td></tr>\n",
       "<tr><td>Graph-gist</td><td style=\"text-align: right;\">0.864631</td></tr>\n",
       "<tr><td>Geometry  </td><td style=\"text-align: right;\">0.839642</td></tr>\n",
       "<tr><td>wpf-graph </td><td style=\"text-align: right;\">0.829149</td></tr>\n",
       "<tr><td>graphyaml </td><td style=\"text-align: right;\">0.820673</td></tr>\n",
       "<tr><td>gh-profile</td><td style=\"text-align: right;\">0.814760</td></tr>\n",
       "<tr><td>c-sketches</td><td style=\"text-align: right;\">0.813890</td></tr>\n",
       "<tr><td>trig      </td><td style=\"text-align: right;\">0.809229</td></tr>\n",
       "<tr><td>Draw      </td><td style=\"text-align: right;\">0.808868</td></tr>\n",
       "</tbody>\n",
       "</table>"
      ],
      "text/plain": [
       "'<table>\\n<tbody>\\n<tr><td>codegraph </td><td style=\"text-align: right;\">0.881251</td></tr>\\n<tr><td>Graph     </td><td style=\"text-align: right;\">0.879413</td></tr>\\n<tr><td>Graph-gist</td><td style=\"text-align: right;\">0.864631</td></tr>\\n<tr><td>Geometry  </td><td style=\"text-align: right;\">0.839642</td></tr>\\n<tr><td>wpf-graph </td><td style=\"text-align: right;\">0.829149</td></tr>\\n<tr><td>graphyaml </td><td style=\"text-align: right;\">0.820673</td></tr>\\n<tr><td>gh-profile</td><td style=\"text-align: right;\">0.814760</td></tr>\\n<tr><td>c-sketches</td><td style=\"text-align: right;\">0.813890</td></tr>\\n<tr><td>trig      </td><td style=\"text-align: right;\">0.809229</td></tr>\\n<tr><td>Draw      </td><td style=\"text-align: right;\">0.808868</td></tr>\\n</tbody>\\n</table>'"
      ]
     },
     "execution_count": 16,
     "metadata": {},
     "output_type": "execute_result"
    }
   ],
   "source": [
    "guess('graph theory', count=10)"
   ]
  },
  {
   "cell_type": "code",
   "execution_count": 17,
   "metadata": {},
   "outputs": [
    {
     "data": {
      "text/html": [
       "<table>\n",
       "<tbody>\n",
       "<tr><td>Dijkstra              </td><td style=\"text-align: right;\">0.891401</td></tr>\n",
       "<tr><td>Paths                 </td><td style=\"text-align: right;\">0.838847</td></tr>\n",
       "<tr><td>TreeTraversal         </td><td style=\"text-align: right;\">0.830639</td></tr>\n",
       "<tr><td>Kruskal               </td><td style=\"text-align: right;\">0.816384</td></tr>\n",
       "<tr><td>algorithms-suggestions</td><td style=\"text-align: right;\">0.816244</td></tr>\n",
       "<tr><td>Traverse              </td><td style=\"text-align: right;\">0.812973</td></tr>\n",
       "<tr><td>Permutations          </td><td style=\"text-align: right;\">0.806550</td></tr>\n",
       "<tr><td>treejs                </td><td style=\"text-align: right;\">0.801372</td></tr>\n",
       "<tr><td>DFS                   </td><td style=\"text-align: right;\">0.800755</td></tr>\n",
       "<tr><td>kt-short              </td><td style=\"text-align: right;\">0.800324</td></tr>\n",
       "</tbody>\n",
       "</table>"
      ],
      "text/plain": [
       "'<table>\\n<tbody>\\n<tr><td>Dijkstra              </td><td style=\"text-align: right;\">0.891401</td></tr>\\n<tr><td>Paths                 </td><td style=\"text-align: right;\">0.838847</td></tr>\\n<tr><td>TreeTraversal         </td><td style=\"text-align: right;\">0.830639</td></tr>\\n<tr><td>Kruskal               </td><td style=\"text-align: right;\">0.816384</td></tr>\\n<tr><td>algorithms-suggestions</td><td style=\"text-align: right;\">0.816244</td></tr>\\n<tr><td>Traverse              </td><td style=\"text-align: right;\">0.812973</td></tr>\\n<tr><td>Permutations          </td><td style=\"text-align: right;\">0.806550</td></tr>\\n<tr><td>treejs                </td><td style=\"text-align: right;\">0.801372</td></tr>\\n<tr><td>DFS                   </td><td style=\"text-align: right;\">0.800755</td></tr>\\n<tr><td>kt-short              </td><td style=\"text-align: right;\">0.800324</td></tr>\\n</tbody>\\n</table>'"
      ]
     },
     "execution_count": 17,
     "metadata": {},
     "output_type": "execute_result"
    }
   ],
   "source": [
    "guess('shortest paths', count=10)"
   ]
  },
  {
   "cell_type": "code",
   "execution_count": 18,
   "metadata": {},
   "outputs": [
    {
     "data": {
      "text/html": [
       "<table>\n",
       "<tbody>\n",
       "<tr><td>Dijkstra              </td><td style=\"text-align: right;\">0.892509</td></tr>\n",
       "<tr><td>Paths                 </td><td style=\"text-align: right;\">0.836362</td></tr>\n",
       "<tr><td>TreeTraversal         </td><td style=\"text-align: right;\">0.836242</td></tr>\n",
       "<tr><td>Traverse              </td><td style=\"text-align: right;\">0.819864</td></tr>\n",
       "<tr><td>algorithms-suggestions</td><td style=\"text-align: right;\">0.819231</td></tr>\n",
       "<tr><td>Kruskal               </td><td style=\"text-align: right;\">0.814028</td></tr>\n",
       "<tr><td>type-arrows           </td><td style=\"text-align: right;\">0.812961</td></tr>\n",
       "<tr><td>kt-short              </td><td style=\"text-align: right;\">0.811223</td></tr>\n",
       "<tr><td>sequence-dag          </td><td style=\"text-align: right;\">0.809324</td></tr>\n",
       "<tr><td>dot-and-cross         </td><td style=\"text-align: right;\">0.806385</td></tr>\n",
       "</tbody>\n",
       "</table>"
      ],
      "text/plain": [
       "'<table>\\n<tbody>\\n<tr><td>Dijkstra              </td><td style=\"text-align: right;\">0.892509</td></tr>\\n<tr><td>Paths                 </td><td style=\"text-align: right;\">0.836362</td></tr>\\n<tr><td>TreeTraversal         </td><td style=\"text-align: right;\">0.836242</td></tr>\\n<tr><td>Traverse              </td><td style=\"text-align: right;\">0.819864</td></tr>\\n<tr><td>algorithms-suggestions</td><td style=\"text-align: right;\">0.819231</td></tr>\\n<tr><td>Kruskal               </td><td style=\"text-align: right;\">0.814028</td></tr>\\n<tr><td>type-arrows           </td><td style=\"text-align: right;\">0.812961</td></tr>\\n<tr><td>kt-short              </td><td style=\"text-align: right;\">0.811223</td></tr>\\n<tr><td>sequence-dag          </td><td style=\"text-align: right;\">0.809324</td></tr>\\n<tr><td>dot-and-cross         </td><td style=\"text-align: right;\">0.806385</td></tr>\\n</tbody>\\n</table>'"
      ]
     },
     "execution_count": 18,
     "metadata": {},
     "output_type": "execute_result"
    }
   ],
   "source": [
    "guess('shortest-paths', count=10)"
   ]
  },
  {
   "cell_type": "code",
   "execution_count": 19,
   "metadata": {},
   "outputs": [
    {
     "data": {
      "text/html": [
       "<table>\n",
       "<tbody>\n",
       "<tr><td>TreeTraversal          </td><td style=\"text-align: right;\">0.897529</td></tr>\n",
       "<tr><td>Traverse               </td><td style=\"text-align: right;\">0.870076</td></tr>\n",
       "<tr><td>Graph                  </td><td style=\"text-align: right;\">0.868311</td></tr>\n",
       "<tr><td>codegraph              </td><td style=\"text-align: right;\">0.857008</td></tr>\n",
       "<tr><td>Graph-gist             </td><td style=\"text-align: right;\">0.850946</td></tr>\n",
       "<tr><td>TraverseTree           </td><td style=\"text-align: right;\">0.850142</td></tr>\n",
       "<tr><td>TreeTraversalAnimations</td><td style=\"text-align: right;\">0.844988</td></tr>\n",
       "<tr><td>Dijkstra               </td><td style=\"text-align: right;\">0.825586</td></tr>\n",
       "<tr><td>DFS                    </td><td style=\"text-align: right;\">0.823728</td></tr>\n",
       "<tr><td>sequence-dag           </td><td style=\"text-align: right;\">0.819648</td></tr>\n",
       "</tbody>\n",
       "</table>"
      ],
      "text/plain": [
       "'<table>\\n<tbody>\\n<tr><td>TreeTraversal          </td><td style=\"text-align: right;\">0.897529</td></tr>\\n<tr><td>Traverse               </td><td style=\"text-align: right;\">0.870076</td></tr>\\n<tr><td>Graph                  </td><td style=\"text-align: right;\">0.868311</td></tr>\\n<tr><td>codegraph              </td><td style=\"text-align: right;\">0.857008</td></tr>\\n<tr><td>Graph-gist             </td><td style=\"text-align: right;\">0.850946</td></tr>\\n<tr><td>TraverseTree           </td><td style=\"text-align: right;\">0.850142</td></tr>\\n<tr><td>TreeTraversalAnimations</td><td style=\"text-align: right;\">0.844988</td></tr>\\n<tr><td>Dijkstra               </td><td style=\"text-align: right;\">0.825586</td></tr>\\n<tr><td>DFS                    </td><td style=\"text-align: right;\">0.823728</td></tr>\\n<tr><td>sequence-dag           </td><td style=\"text-align: right;\">0.819648</td></tr>\\n</tbody>\\n</table>'"
      ]
     },
     "execution_count": 19,
     "metadata": {},
     "output_type": "execute_result"
    }
   ],
   "source": [
    "guess('graph traversal', count=10)"
   ]
  },
  {
   "cell_type": "code",
   "execution_count": 20,
   "metadata": {},
   "outputs": [
    {
     "data": {
      "text/html": [
       "<table>\n",
       "<tbody>\n",
       "<tr><td>TreeTraversal          </td><td style=\"text-align: right;\">0.904181</td></tr>\n",
       "<tr><td>Traverse               </td><td style=\"text-align: right;\">0.879860</td></tr>\n",
       "<tr><td>Graph                  </td><td style=\"text-align: right;\">0.878250</td></tr>\n",
       "<tr><td>Graph-gist             </td><td style=\"text-align: right;\">0.875091</td></tr>\n",
       "<tr><td>codegraph              </td><td style=\"text-align: right;\">0.872212</td></tr>\n",
       "<tr><td>TraverseTree           </td><td style=\"text-align: right;\">0.865436</td></tr>\n",
       "<tr><td>TreeTraversalAnimations</td><td style=\"text-align: right;\">0.851144</td></tr>\n",
       "<tr><td>Dijkstra               </td><td style=\"text-align: right;\">0.842851</td></tr>\n",
       "<tr><td>wpf-graph              </td><td style=\"text-align: right;\">0.840953</td></tr>\n",
       "<tr><td>sequence-dag           </td><td style=\"text-align: right;\">0.837051</td></tr>\n",
       "</tbody>\n",
       "</table>"
      ],
      "text/plain": [
       "'<table>\\n<tbody>\\n<tr><td>TreeTraversal          </td><td style=\"text-align: right;\">0.904181</td></tr>\\n<tr><td>Traverse               </td><td style=\"text-align: right;\">0.879860</td></tr>\\n<tr><td>Graph                  </td><td style=\"text-align: right;\">0.878250</td></tr>\\n<tr><td>Graph-gist             </td><td style=\"text-align: right;\">0.875091</td></tr>\\n<tr><td>codegraph              </td><td style=\"text-align: right;\">0.872212</td></tr>\\n<tr><td>TraverseTree           </td><td style=\"text-align: right;\">0.865436</td></tr>\\n<tr><td>TreeTraversalAnimations</td><td style=\"text-align: right;\">0.851144</td></tr>\\n<tr><td>Dijkstra               </td><td style=\"text-align: right;\">0.842851</td></tr>\\n<tr><td>wpf-graph              </td><td style=\"text-align: right;\">0.840953</td></tr>\\n<tr><td>sequence-dag           </td><td style=\"text-align: right;\">0.837051</td></tr>\\n</tbody>\\n</table>'"
      ]
     },
     "execution_count": 20,
     "metadata": {},
     "output_type": "execute_result"
    }
   ],
   "source": [
    "guess('graph-traversal', count=10)"
   ]
  },
  {
   "cell_type": "code",
   "execution_count": 21,
   "metadata": {},
   "outputs": [
    {
     "data": {
      "text/html": [
       "<table>\n",
       "<tbody>\n",
       "<tr><td>Graph      </td><td style=\"text-align: right;\">0.889238</td></tr>\n",
       "<tr><td>printing   </td><td style=\"text-align: right;\">0.882980</td></tr>\n",
       "<tr><td>Geometry   </td><td style=\"text-align: right;\">0.881459</td></tr>\n",
       "<tr><td>Draw       </td><td style=\"text-align: right;\">0.875436</td></tr>\n",
       "<tr><td>fps        </td><td style=\"text-align: right;\">0.859542</td></tr>\n",
       "<tr><td>works      </td><td style=\"text-align: right;\">0.848875</td></tr>\n",
       "<tr><td>coordinates</td><td style=\"text-align: right;\">0.845141</td></tr>\n",
       "<tr><td>Components </td><td style=\"text-align: right;\">0.842674</td></tr>\n",
       "<tr><td>interop    </td><td style=\"text-align: right;\">0.841272</td></tr>\n",
       "<tr><td>Benchmark  </td><td style=\"text-align: right;\">0.840054</td></tr>\n",
       "</tbody>\n",
       "</table>"
      ],
      "text/plain": [
       "'<table>\\n<tbody>\\n<tr><td>Graph      </td><td style=\"text-align: right;\">0.889238</td></tr>\\n<tr><td>printing   </td><td style=\"text-align: right;\">0.882980</td></tr>\\n<tr><td>Geometry   </td><td style=\"text-align: right;\">0.881459</td></tr>\\n<tr><td>Draw       </td><td style=\"text-align: right;\">0.875436</td></tr>\\n<tr><td>fps        </td><td style=\"text-align: right;\">0.859542</td></tr>\\n<tr><td>works      </td><td style=\"text-align: right;\">0.848875</td></tr>\\n<tr><td>coordinates</td><td style=\"text-align: right;\">0.845141</td></tr>\\n<tr><td>Components </td><td style=\"text-align: right;\">0.842674</td></tr>\\n<tr><td>interop    </td><td style=\"text-align: right;\">0.841272</td></tr>\\n<tr><td>Benchmark  </td><td style=\"text-align: right;\">0.840054</td></tr>\\n</tbody>\\n</table>'"
      ]
     },
     "execution_count": 21,
     "metadata": {},
     "output_type": "execute_result"
    }
   ],
   "source": [
    "guess('graphics', count=10)"
   ]
  },
  {
   "cell_type": "code",
   "execution_count": 22,
   "metadata": {},
   "outputs": [
    {
     "data": {
      "text/html": [
       "<table>\n",
       "<tbody>\n",
       "<tr><td>Flood      </td><td style=\"text-align: right;\">0.864981</td></tr>\n",
       "<tr><td>foobar     </td><td style=\"text-align: right;\">0.825881</td></tr>\n",
       "<tr><td>lambda-demo</td><td style=\"text-align: right;\">0.819231</td></tr>\n",
       "<tr><td>Dynamo     </td><td style=\"text-align: right;\">0.816781</td></tr>\n",
       "<tr><td>yule       </td><td style=\"text-align: right;\">0.813927</td></tr>\n",
       "</tbody>\n",
       "</table>"
      ],
      "text/plain": [
       "'<table>\\n<tbody>\\n<tr><td>Flood      </td><td style=\"text-align: right;\">0.864981</td></tr>\\n<tr><td>foobar     </td><td style=\"text-align: right;\">0.825881</td></tr>\\n<tr><td>lambda-demo</td><td style=\"text-align: right;\">0.819231</td></tr>\\n<tr><td>Dynamo     </td><td style=\"text-align: right;\">0.816781</td></tr>\\n<tr><td>yule       </td><td style=\"text-align: right;\">0.813927</td></tr>\\n</tbody>\\n</table>'"
      ]
     },
     "execution_count": 22,
     "metadata": {},
     "output_type": "execute_result"
    }
   ],
   "source": [
    "guess('deluge')"
   ]
  },
  {
   "cell_type": "code",
   "execution_count": 23,
   "metadata": {},
   "outputs": [
    {
     "data": {
      "text/html": [
       "<table>\n",
       "<tbody>\n",
       "<tr><td>git        </td><td style=\"text-align: right;\">0.822978</td></tr>\n",
       "<tr><td>Linkage    </td><td style=\"text-align: right;\">0.807133</td></tr>\n",
       "<tr><td>gitscripts </td><td style=\"text-align: right;\">0.806824</td></tr>\n",
       "<tr><td>capture.net</td><td style=\"text-align: right;\">0.803136</td></tr>\n",
       "<tr><td>test-site  </td><td style=\"text-align: right;\">0.801779</td></tr>\n",
       "</tbody>\n",
       "</table>"
      ],
      "text/plain": [
       "'<table>\\n<tbody>\\n<tr><td>git        </td><td style=\"text-align: right;\">0.822978</td></tr>\\n<tr><td>Linkage    </td><td style=\"text-align: right;\">0.807133</td></tr>\\n<tr><td>gitscripts </td><td style=\"text-align: right;\">0.806824</td></tr>\\n<tr><td>capture.net</td><td style=\"text-align: right;\">0.803136</td></tr>\\n<tr><td>test-site  </td><td style=\"text-align: right;\">0.801779</td></tr>\\n</tbody>\\n</table>'"
      ]
     },
     "execution_count": 23,
     "metadata": {},
     "output_type": "execute_result"
    }
   ],
   "source": [
    "guess('source control')"
   ]
  },
  {
   "cell_type": "code",
   "execution_count": 24,
   "metadata": {},
   "outputs": [
    {
     "data": {
      "text/html": [
       "<table>\n",
       "<tbody>\n",
       "<tr><td>git           </td><td style=\"text-align: right;\">0.831379</td></tr>\n",
       "<tr><td>git-notes     </td><td style=\"text-align: right;\">0.830440</td></tr>\n",
       "<tr><td>dot-imports   </td><td style=\"text-align: right;\">0.815820</td></tr>\n",
       "<tr><td>gitscripts    </td><td style=\"text-align: right;\">0.812936</td></tr>\n",
       "<tr><td>editor-configs</td><td style=\"text-align: right;\">0.812632</td></tr>\n",
       "</tbody>\n",
       "</table>"
      ],
      "text/plain": [
       "'<table>\\n<tbody>\\n<tr><td>git           </td><td style=\"text-align: right;\">0.831379</td></tr>\\n<tr><td>git-notes     </td><td style=\"text-align: right;\">0.830440</td></tr>\\n<tr><td>dot-imports   </td><td style=\"text-align: right;\">0.815820</td></tr>\\n<tr><td>gitscripts    </td><td style=\"text-align: right;\">0.812936</td></tr>\\n<tr><td>editor-configs</td><td style=\"text-align: right;\">0.812632</td></tr>\\n</tbody>\\n</table>'"
      ]
     },
     "execution_count": 24,
     "metadata": {},
     "output_type": "execute_result"
    }
   ],
   "source": [
    "guess('source-control')"
   ]
  },
  {
   "cell_type": "code",
   "execution_count": null,
   "metadata": {},
   "outputs": [],
   "source": []
  }
 ],
 "metadata": {
  "kernelspec": {
   "display_name": "findrepo2-experiment-rOSEKeEQ-py3.11",
   "language": "python",
   "name": "python3"
  },
  "language_info": {
   "codemirror_mode": {
    "name": "ipython",
    "version": 3
   },
   "file_extension": ".py",
   "mimetype": "text/x-python",
   "name": "python",
   "nbconvert_exporter": "python",
   "pygments_lexer": "ipython3",
   "version": "3.11.2"
  },
  "orig_nbformat": 4,
  "vscode": {
   "interpreter": {
    "hash": "cc24d4d634694babf689af76e7bfbddcba5d411d378bfb432817051e7e6debb7"
   }
  }
 },
 "nbformat": 4,
 "nbformat_minor": 2
}
