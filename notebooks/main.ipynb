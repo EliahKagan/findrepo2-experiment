{
 "cells": [
  {
   "attachments": {},
   "cell_type": "markdown",
   "metadata": {},
   "source": [
    "# Main notebook - experimenting with guesses\n",
    "\n",
    "SPDX-License-Identifier: 0BSD\n",
    "\n",
    "This does semantic search based solely on repository name and user input.\n",
    "\n",
    "Compare to\n",
    "[`findrepo`](https://github.com/EliahKagan/newrepo-findrepo#using-findrepo)."
   ]
  },
  {
   "cell_type": "code",
   "execution_count": 1,
   "metadata": {},
   "outputs": [],
   "source": [
    "import logging\n",
    "\n",
    "import numpy as np\n",
    "from tabulate import tabulate\n",
    "\n",
    "import fr2ex"
   ]
  },
  {
   "cell_type": "code",
   "execution_count": 2,
   "metadata": {},
   "outputs": [],
   "source": [
    "logging.basicConfig(level=logging.INFO)"
   ]
  },
  {
   "cell_type": "code",
   "execution_count": 3,
   "metadata": {},
   "outputs": [
    {
     "name": "stderr",
     "output_type": "stream",
     "text": [
      "INFO:paramiko.transport:Connected (version 2.0, client OpenSSH_7.6p1)\n",
      "INFO:paramiko.transport:Authentication (publickey) successful!\n",
      "INFO:paramiko.transport.sftp:[chan 0] Opened sftp connection (server version 3)\n",
      "INFO:paramiko.transport.sftp:[chan 0] sftp session closed.\n"
     ]
    }
   ],
   "source": [
    "names = fr2ex.remote.fetch_repo_names()"
   ]
  },
  {
   "cell_type": "code",
   "execution_count": 4,
   "metadata": {},
   "outputs": [
    {
     "data": {
      "text/plain": [
       "685"
      ]
     },
     "execution_count": 4,
     "metadata": {},
     "output_type": "execute_result"
    }
   ],
   "source": [
    "len(names)"
   ]
  },
  {
   "cell_type": "code",
   "execution_count": 5,
   "metadata": {},
   "outputs": [
    {
     "name": "stderr",
     "output_type": "stream",
     "text": [
      "INFO:root:Querying OpenAI moderation endpoint.\n"
     ]
    }
   ],
   "source": [
    "moderation = fr2ex.moderation.get_moderation(names)"
   ]
  },
  {
   "cell_type": "code",
   "execution_count": 6,
   "metadata": {},
   "outputs": [
    {
     "data": {
      "text/plain": [
       "685"
      ]
     },
     "execution_count": 6,
     "metadata": {},
     "output_type": "execute_result"
    }
   ],
   "source": [
    "len(moderation)"
   ]
  },
  {
   "cell_type": "code",
   "execution_count": 7,
   "metadata": {},
   "outputs": [
    {
     "data": {
      "text/plain": [
       "False"
      ]
     },
     "execution_count": 7,
     "metadata": {},
     "output_type": "execute_result"
    }
   ],
   "source": [
    "any(result['flagged'] for result in moderation)"
   ]
  },
  {
   "cell_type": "code",
   "execution_count": 8,
   "metadata": {},
   "outputs": [
    {
     "ename": "FeatureNotFound",
     "evalue": "Couldn't find a tree builder with the features you requested: lxml. Do you need to install a parser library?",
     "output_type": "error",
     "traceback": [
      "\u001b[0;31m---------------------------------------------------------------------------\u001b[0m",
      "\u001b[0;31mFeatureNotFound\u001b[0m                           Traceback (most recent call last)",
      "Cell \u001b[0;32mIn[8], line 1\u001b[0m\n\u001b[0;32m----> 1\u001b[0m fr2ex\u001b[39m.\u001b[39;49mtokens\u001b[39m.\u001b[39;49mreport_cost(names)\n",
      "File \u001b[0;32m~/repos-wsl/findrepo2-experiment/fr2ex/tokens.py:150\u001b[0m, in \u001b[0;36mreport_cost\u001b[0;34m(texts)\u001b[0m\n\u001b[1;32m    148\u001b[0m \u001b[39mdef\u001b[39;00m \u001b[39mreport_cost\u001b[39m(texts: \u001b[39mlist\u001b[39m[\u001b[39mstr\u001b[39m]) \u001b[39m-\u001b[39m\u001b[39m>\u001b[39m \u001b[39mNone\u001b[39;00m:\n\u001b[1;32m    149\u001b[0m \u001b[39m    \u001b[39m\u001b[39m\"\"\"Report a cost estimate for calling text-embedding-ada-002 on texts.\"\"\"\u001b[39;00m\n\u001b[0;32m--> 150\u001b[0m     rate \u001b[39m=\u001b[39m find_embedding_model_prices()[\u001b[39m'\u001b[39m\u001b[39mAda\u001b[39m\u001b[39m'\u001b[39m]\n\u001b[1;32m    151\u001b[0m     token_count \u001b[39m=\u001b[39m count(texts)\n\u001b[1;32m    152\u001b[0m     total_cost \u001b[39m=\u001b[39m token_count \u001b[39m*\u001b[39m rate\u001b[39m.\u001b[39mvalue\n",
      "File \u001b[0;32m~/repos-wsl/findrepo2-experiment/fr2ex/tokens.py:130\u001b[0m, in \u001b[0;36mfind_embedding_model_prices\u001b[0;34m(displayed_only)\u001b[0m\n\u001b[1;32m    126\u001b[0m \u001b[39mdef\u001b[39;00m \u001b[39mfind_embedding_model_prices\u001b[39m(\n\u001b[1;32m    127\u001b[0m     \u001b[39m*\u001b[39m, displayed_only: \u001b[39mbool\u001b[39m \u001b[39m=\u001b[39m \u001b[39mTrue\u001b[39;00m,\n\u001b[1;32m    128\u001b[0m ) \u001b[39m-\u001b[39m\u001b[39m>\u001b[39m \u001b[39mdict\u001b[39m[\u001b[39mstr\u001b[39m, Rate]:\n\u001b[1;32m    129\u001b[0m \u001b[39m    \u001b[39m\u001b[39m\"\"\"Retrieve the prices of embedding models.\"\"\"\u001b[39;00m\n\u001b[0;32m--> 130\u001b[0m     doc \u001b[39m=\u001b[39m bs4\u001b[39m.\u001b[39;49mBeautifulSoup(_get_pricing_page(), features\u001b[39m=\u001b[39;49m\u001b[39m'\u001b[39;49m\u001b[39mlxml\u001b[39;49m\u001b[39m'\u001b[39;49m)\n\u001b[1;32m    132\u001b[0m     headings \u001b[39m=\u001b[39m doc\u001b[39m.\u001b[39mfind_all(\u001b[39m'\u001b[39m\u001b[39mh3\u001b[39m\u001b[39m'\u001b[39m, text\u001b[39m=\u001b[39m\u001b[39m'\u001b[39m\u001b[39mEmbedding models\u001b[39m\u001b[39m'\u001b[39m)\n\u001b[1;32m    133\u001b[0m     _need(\u001b[39mlen\u001b[39m(headings) \u001b[39m==\u001b[39m \u001b[39m1\u001b[39m)\n",
      "File \u001b[0;32m~/.cache/pypoetry/virtualenvs/findrepo2-experiment-lQvBFiG4-py3.11/lib/python3.11/site-packages/bs4/__init__.py:248\u001b[0m, in \u001b[0;36mBeautifulSoup.__init__\u001b[0;34m(self, markup, features, builder, parse_only, from_encoding, exclude_encodings, element_classes, **kwargs)\u001b[0m\n\u001b[1;32m    246\u001b[0m     builder_class \u001b[39m=\u001b[39m builder_registry\u001b[39m.\u001b[39mlookup(\u001b[39m*\u001b[39mfeatures)\n\u001b[1;32m    247\u001b[0m     \u001b[39mif\u001b[39;00m builder_class \u001b[39mis\u001b[39;00m \u001b[39mNone\u001b[39;00m:\n\u001b[0;32m--> 248\u001b[0m         \u001b[39mraise\u001b[39;00m FeatureNotFound(\n\u001b[1;32m    249\u001b[0m             \u001b[39m\"\u001b[39m\u001b[39mCouldn\u001b[39m\u001b[39m'\u001b[39m\u001b[39mt find a tree builder with the features you \u001b[39m\u001b[39m\"\u001b[39m\n\u001b[1;32m    250\u001b[0m             \u001b[39m\"\u001b[39m\u001b[39mrequested: \u001b[39m\u001b[39m%s\u001b[39;00m\u001b[39m. Do you need to install a parser library?\u001b[39m\u001b[39m\"\u001b[39m\n\u001b[1;32m    251\u001b[0m             \u001b[39m%\u001b[39m \u001b[39m\"\u001b[39m\u001b[39m,\u001b[39m\u001b[39m\"\u001b[39m\u001b[39m.\u001b[39mjoin(features))\n\u001b[1;32m    253\u001b[0m \u001b[39m# At this point either we have a TreeBuilder instance in\u001b[39;00m\n\u001b[1;32m    254\u001b[0m \u001b[39m# builder, or we have a builder_class that we can instantiate\u001b[39;00m\n\u001b[1;32m    255\u001b[0m \u001b[39m# with the remaining **kwargs.\u001b[39;00m\n\u001b[1;32m    256\u001b[0m \u001b[39mif\u001b[39;00m builder \u001b[39mis\u001b[39;00m \u001b[39mNone\u001b[39;00m:\n",
      "\u001b[0;31mFeatureNotFound\u001b[0m: Couldn't find a tree builder with the features you requested: lxml. Do you need to install a parser library?"
     ]
    }
   ],
   "source": [
    "fr2ex.tokens.report_cost(names)"
   ]
  },
  {
   "cell_type": "code",
   "execution_count": 9,
   "metadata": {},
   "outputs": [
    {
     "name": "stderr",
     "output_type": "stream",
     "text": [
      "INFO:root:Querying OpenAI embeddings endpoint.\n"
     ]
    }
   ],
   "source": [
    "embeddings = fr2ex.embedding.embed_many(names)"
   ]
  },
  {
   "cell_type": "code",
   "execution_count": 10,
   "metadata": {},
   "outputs": [],
   "source": [
    "def guess(name: str, count: int = 5) -> None:\n",
    "    \"\"\"Show top guesses for similarity of name to already embedded names.\"\"\"\n",
    "    scores = embeddings @ fr2ex.embedding.embed(name)\n",
    "    ordering = sorted(zip(scores, names), reverse=True)\n",
    "    table = [(name, score) for score, name in ordering]\n",
    "    return tabulate(table[:count], tablefmt='html', floatfmt='.6f')"
   ]
  },
  {
   "cell_type": "code",
   "execution_count": 11,
   "metadata": {},
   "outputs": [
    {
     "data": {
      "text/html": [
       "<table>\n",
       "<tbody>\n",
       "<tr><td>Calculator            </td><td style=\"text-align: right;\">0.868787</td></tr>\n",
       "<tr><td>Geometry              </td><td style=\"text-align: right;\">0.865275</td></tr>\n",
       "<tr><td>algorithms-suggestions</td><td style=\"text-align: right;\">0.860121</td></tr>\n",
       "<tr><td>Alias                 </td><td style=\"text-align: right;\">0.851815</td></tr>\n",
       "<tr><td>crystal-algo          </td><td style=\"text-align: right;\">0.849683</td></tr>\n",
       "</tbody>\n",
       "</table>"
      ],
      "text/plain": [
       "'<table>\\n<tbody>\\n<tr><td>Calculator            </td><td style=\"text-align: right;\">0.868787</td></tr>\\n<tr><td>Geometry              </td><td style=\"text-align: right;\">0.865275</td></tr>\\n<tr><td>algorithms-suggestions</td><td style=\"text-align: right;\">0.860121</td></tr>\\n<tr><td>Alias                 </td><td style=\"text-align: right;\">0.851815</td></tr>\\n<tr><td>crystal-algo          </td><td style=\"text-align: right;\">0.849683</td></tr>\\n</tbody>\\n</table>'"
      ]
     },
     "execution_count": 11,
     "metadata": {},
     "output_type": "execute_result"
    }
   ],
   "source": [
    "guess('algorithm')"
   ]
  },
  {
   "cell_type": "code",
   "execution_count": 12,
   "metadata": {},
   "outputs": [
    {
     "data": {
      "text/html": [
       "<table>\n",
       "<tbody>\n",
       "<tr><td>SortingRanges</td><td style=\"text-align: right;\">0.932602</td></tr>\n",
       "<tr><td>Sorts        </td><td style=\"text-align: right;\">0.909067</td></tr>\n",
       "<tr><td>sortkey      </td><td style=\"text-align: right;\">0.859544</td></tr>\n",
       "<tr><td>PartialSort  </td><td style=\"text-align: right;\">0.855028</td></tr>\n",
       "<tr><td>tsort        </td><td style=\"text-align: right;\">0.840354</td></tr>\n",
       "</tbody>\n",
       "</table>"
      ],
      "text/plain": [
       "'<table>\\n<tbody>\\n<tr><td>SortingRanges</td><td style=\"text-align: right;\">0.932602</td></tr>\\n<tr><td>Sorts        </td><td style=\"text-align: right;\">0.909067</td></tr>\\n<tr><td>sortkey      </td><td style=\"text-align: right;\">0.859544</td></tr>\\n<tr><td>PartialSort  </td><td style=\"text-align: right;\">0.855028</td></tr>\\n<tr><td>tsort        </td><td style=\"text-align: right;\">0.840354</td></tr>\\n</tbody>\\n</table>'"
      ]
     },
     "execution_count": 12,
     "metadata": {},
     "output_type": "execute_result"
    }
   ],
   "source": [
    "guess('sorting')"
   ]
  },
  {
   "cell_type": "code",
   "execution_count": 13,
   "metadata": {},
   "outputs": [
    {
     "data": {
      "text/html": [
       "<table>\n",
       "<tbody>\n",
       "<tr><td>algorithms-suggestions</td><td style=\"text-align: right;\">0.889060</td></tr>\n",
       "<tr><td>algorithms-python     </td><td style=\"text-align: right;\">0.859355</td></tr>\n",
       "<tr><td>crystal-algo          </td><td style=\"text-align: right;\">0.855942</td></tr>\n",
       "<tr><td>Graph-gist            </td><td style=\"text-align: right;\">0.842337</td></tr>\n",
       "<tr><td>codegraph             </td><td style=\"text-align: right;\">0.833022</td></tr>\n",
       "</tbody>\n",
       "</table>"
      ],
      "text/plain": [
       "'<table>\\n<tbody>\\n<tr><td>algorithms-suggestions</td><td style=\"text-align: right;\">0.889060</td></tr>\\n<tr><td>algorithms-python     </td><td style=\"text-align: right;\">0.859355</td></tr>\\n<tr><td>crystal-algo          </td><td style=\"text-align: right;\">0.855942</td></tr>\\n<tr><td>Graph-gist            </td><td style=\"text-align: right;\">0.842337</td></tr>\\n<tr><td>codegraph             </td><td style=\"text-align: right;\">0.833022</td></tr>\\n</tbody>\\n</table>'"
      ]
     },
     "execution_count": 13,
     "metadata": {},
     "output_type": "execute_result"
    }
   ],
   "source": [
    "guess('algorithm-visualization')"
   ]
  },
  {
   "cell_type": "code",
   "execution_count": 14,
   "metadata": {},
   "outputs": [
    {
     "data": {
      "text/html": [
       "<table>\n",
       "<tbody>\n",
       "<tr><td>try-maven  </td><td style=\"text-align: right;\">0.915987</td></tr>\n",
       "<tr><td>mavener    </td><td style=\"text-align: right;\">0.880060</td></tr>\n",
       "<tr><td>retry-maven</td><td style=\"text-align: right;\">0.868202</td></tr>\n",
       "<tr><td>pimpl      </td><td style=\"text-align: right;\">0.836270</td></tr>\n",
       "<tr><td>try-gradle </td><td style=\"text-align: right;\">0.833675</td></tr>\n",
       "</tbody>\n",
       "</table>"
      ],
      "text/plain": [
       "'<table>\\n<tbody>\\n<tr><td>try-maven  </td><td style=\"text-align: right;\">0.915987</td></tr>\\n<tr><td>mavener    </td><td style=\"text-align: right;\">0.880060</td></tr>\\n<tr><td>retry-maven</td><td style=\"text-align: right;\">0.868202</td></tr>\\n<tr><td>pimpl      </td><td style=\"text-align: right;\">0.836270</td></tr>\\n<tr><td>try-gradle </td><td style=\"text-align: right;\">0.833675</td></tr>\\n</tbody>\\n</table>'"
      ]
     },
     "execution_count": 14,
     "metadata": {},
     "output_type": "execute_result"
    }
   ],
   "source": [
    "guess('maven')"
   ]
  },
  {
   "cell_type": "code",
   "execution_count": 15,
   "metadata": {},
   "outputs": [
    {
     "data": {
      "text/html": [
       "<table>\n",
       "<tbody>\n",
       "<tr><td>newrepo-findrepo    </td><td style=\"text-align: right;\">0.916212</td></tr>\n",
       "<tr><td>findrepo2-experiment</td><td style=\"text-align: right;\">0.867252</td></tr>\n",
       "<tr><td>backup-repos        </td><td style=\"text-align: right;\">0.864985</td></tr>\n",
       "<tr><td>find-articles       </td><td style=\"text-align: right;\">0.857056</td></tr>\n",
       "<tr><td>TestRepo            </td><td style=\"text-align: right;\">0.842144</td></tr>\n",
       "</tbody>\n",
       "</table>"
      ],
      "text/plain": [
       "'<table>\\n<tbody>\\n<tr><td>newrepo-findrepo    </td><td style=\"text-align: right;\">0.916212</td></tr>\\n<tr><td>findrepo2-experiment</td><td style=\"text-align: right;\">0.867252</td></tr>\\n<tr><td>backup-repos        </td><td style=\"text-align: right;\">0.864985</td></tr>\\n<tr><td>find-articles       </td><td style=\"text-align: right;\">0.857056</td></tr>\\n<tr><td>TestRepo            </td><td style=\"text-align: right;\">0.842144</td></tr>\\n</tbody>\\n</table>'"
      ]
     },
     "execution_count": 15,
     "metadata": {},
     "output_type": "execute_result"
    }
   ],
   "source": [
    "guess('find-repo')"
   ]
  },
  {
   "cell_type": "code",
   "execution_count": 16,
   "metadata": {},
   "outputs": [
    {
     "data": {
      "text/html": [
       "<table>\n",
       "<tbody>\n",
       "<tr><td>codegraph </td><td style=\"text-align: right;\">0.881069</td></tr>\n",
       "<tr><td>Graph     </td><td style=\"text-align: right;\">0.879222</td></tr>\n",
       "<tr><td>Graph-gist</td><td style=\"text-align: right;\">0.864456</td></tr>\n",
       "<tr><td>Geometry  </td><td style=\"text-align: right;\">0.839541</td></tr>\n",
       "<tr><td>wpf-graph </td><td style=\"text-align: right;\">0.828969</td></tr>\n",
       "<tr><td>graphyaml </td><td style=\"text-align: right;\">0.820539</td></tr>\n",
       "<tr><td>gh-profile</td><td style=\"text-align: right;\">0.814654</td></tr>\n",
       "<tr><td>c-sketches</td><td style=\"text-align: right;\">0.813810</td></tr>\n",
       "<tr><td>trig      </td><td style=\"text-align: right;\">0.809082</td></tr>\n",
       "<tr><td>Draw      </td><td style=\"text-align: right;\">0.808666</td></tr>\n",
       "</tbody>\n",
       "</table>"
      ],
      "text/plain": [
       "'<table>\\n<tbody>\\n<tr><td>codegraph </td><td style=\"text-align: right;\">0.881069</td></tr>\\n<tr><td>Graph     </td><td style=\"text-align: right;\">0.879222</td></tr>\\n<tr><td>Graph-gist</td><td style=\"text-align: right;\">0.864456</td></tr>\\n<tr><td>Geometry  </td><td style=\"text-align: right;\">0.839541</td></tr>\\n<tr><td>wpf-graph </td><td style=\"text-align: right;\">0.828969</td></tr>\\n<tr><td>graphyaml </td><td style=\"text-align: right;\">0.820539</td></tr>\\n<tr><td>gh-profile</td><td style=\"text-align: right;\">0.814654</td></tr>\\n<tr><td>c-sketches</td><td style=\"text-align: right;\">0.813810</td></tr>\\n<tr><td>trig      </td><td style=\"text-align: right;\">0.809082</td></tr>\\n<tr><td>Draw      </td><td style=\"text-align: right;\">0.808666</td></tr>\\n</tbody>\\n</table>'"
      ]
     },
     "execution_count": 16,
     "metadata": {},
     "output_type": "execute_result"
    }
   ],
   "source": [
    "guess('graph theory', count=10)"
   ]
  },
  {
   "cell_type": "code",
   "execution_count": 17,
   "metadata": {},
   "outputs": [
    {
     "data": {
      "text/html": [
       "<table>\n",
       "<tbody>\n",
       "<tr><td>Dijkstra              </td><td style=\"text-align: right;\">0.891401</td></tr>\n",
       "<tr><td>Paths                 </td><td style=\"text-align: right;\">0.838847</td></tr>\n",
       "<tr><td>TreeTraversal         </td><td style=\"text-align: right;\">0.830639</td></tr>\n",
       "<tr><td>Kruskal               </td><td style=\"text-align: right;\">0.816384</td></tr>\n",
       "<tr><td>algorithms-suggestions</td><td style=\"text-align: right;\">0.816244</td></tr>\n",
       "<tr><td>Traverse              </td><td style=\"text-align: right;\">0.812973</td></tr>\n",
       "<tr><td>Permutations          </td><td style=\"text-align: right;\">0.806550</td></tr>\n",
       "<tr><td>treejs                </td><td style=\"text-align: right;\">0.801372</td></tr>\n",
       "<tr><td>DFS                   </td><td style=\"text-align: right;\">0.800755</td></tr>\n",
       "<tr><td>kt-short              </td><td style=\"text-align: right;\">0.800324</td></tr>\n",
       "</tbody>\n",
       "</table>"
      ],
      "text/plain": [
       "'<table>\\n<tbody>\\n<tr><td>Dijkstra              </td><td style=\"text-align: right;\">0.891401</td></tr>\\n<tr><td>Paths                 </td><td style=\"text-align: right;\">0.838847</td></tr>\\n<tr><td>TreeTraversal         </td><td style=\"text-align: right;\">0.830639</td></tr>\\n<tr><td>Kruskal               </td><td style=\"text-align: right;\">0.816384</td></tr>\\n<tr><td>algorithms-suggestions</td><td style=\"text-align: right;\">0.816244</td></tr>\\n<tr><td>Traverse              </td><td style=\"text-align: right;\">0.812973</td></tr>\\n<tr><td>Permutations          </td><td style=\"text-align: right;\">0.806550</td></tr>\\n<tr><td>treejs                </td><td style=\"text-align: right;\">0.801372</td></tr>\\n<tr><td>DFS                   </td><td style=\"text-align: right;\">0.800755</td></tr>\\n<tr><td>kt-short              </td><td style=\"text-align: right;\">0.800324</td></tr>\\n</tbody>\\n</table>'"
      ]
     },
     "execution_count": 17,
     "metadata": {},
     "output_type": "execute_result"
    }
   ],
   "source": [
    "guess('shortest paths', count=10)"
   ]
  },
  {
   "cell_type": "code",
   "execution_count": 18,
   "metadata": {},
   "outputs": [
    {
     "data": {
      "text/html": [
       "<table>\n",
       "<tbody>\n",
       "<tr><td>Dijkstra              </td><td style=\"text-align: right;\">0.892456</td></tr>\n",
       "<tr><td>Paths                 </td><td style=\"text-align: right;\">0.836227</td></tr>\n",
       "<tr><td>TreeTraversal         </td><td style=\"text-align: right;\">0.836187</td></tr>\n",
       "<tr><td>Traverse              </td><td style=\"text-align: right;\">0.819768</td></tr>\n",
       "<tr><td>algorithms-suggestions</td><td style=\"text-align: right;\">0.819171</td></tr>\n",
       "<tr><td>Kruskal               </td><td style=\"text-align: right;\">0.813988</td></tr>\n",
       "<tr><td>type-arrows           </td><td style=\"text-align: right;\">0.812901</td></tr>\n",
       "<tr><td>kt-short              </td><td style=\"text-align: right;\">0.811216</td></tr>\n",
       "<tr><td>sequence-dag          </td><td style=\"text-align: right;\">0.809271</td></tr>\n",
       "<tr><td>dot-and-cross         </td><td style=\"text-align: right;\">0.806270</td></tr>\n",
       "</tbody>\n",
       "</table>"
      ],
      "text/plain": [
       "'<table>\\n<tbody>\\n<tr><td>Dijkstra              </td><td style=\"text-align: right;\">0.892456</td></tr>\\n<tr><td>Paths                 </td><td style=\"text-align: right;\">0.836227</td></tr>\\n<tr><td>TreeTraversal         </td><td style=\"text-align: right;\">0.836187</td></tr>\\n<tr><td>Traverse              </td><td style=\"text-align: right;\">0.819768</td></tr>\\n<tr><td>algorithms-suggestions</td><td style=\"text-align: right;\">0.819171</td></tr>\\n<tr><td>Kruskal               </td><td style=\"text-align: right;\">0.813988</td></tr>\\n<tr><td>type-arrows           </td><td style=\"text-align: right;\">0.812901</td></tr>\\n<tr><td>kt-short              </td><td style=\"text-align: right;\">0.811216</td></tr>\\n<tr><td>sequence-dag          </td><td style=\"text-align: right;\">0.809271</td></tr>\\n<tr><td>dot-and-cross         </td><td style=\"text-align: right;\">0.806270</td></tr>\\n</tbody>\\n</table>'"
      ]
     },
     "execution_count": 18,
     "metadata": {},
     "output_type": "execute_result"
    }
   ],
   "source": [
    "guess('shortest-paths', count=10)"
   ]
  },
  {
   "cell_type": "code",
   "execution_count": 19,
   "metadata": {},
   "outputs": [
    {
     "data": {
      "text/html": [
       "<table>\n",
       "<tbody>\n",
       "<tr><td>TreeTraversal          </td><td style=\"text-align: right;\">0.897567</td></tr>\n",
       "<tr><td>Traverse               </td><td style=\"text-align: right;\">0.870028</td></tr>\n",
       "<tr><td>Graph                  </td><td style=\"text-align: right;\">0.868410</td></tr>\n",
       "<tr><td>codegraph              </td><td style=\"text-align: right;\">0.857106</td></tr>\n",
       "<tr><td>Graph-gist             </td><td style=\"text-align: right;\">0.851075</td></tr>\n",
       "<tr><td>TraverseTree           </td><td style=\"text-align: right;\">0.850152</td></tr>\n",
       "<tr><td>TreeTraversalAnimations</td><td style=\"text-align: right;\">0.845057</td></tr>\n",
       "<tr><td>Dijkstra               </td><td style=\"text-align: right;\">0.825758</td></tr>\n",
       "<tr><td>DFS                    </td><td style=\"text-align: right;\">0.823796</td></tr>\n",
       "<tr><td>sequence-dag           </td><td style=\"text-align: right;\">0.819781</td></tr>\n",
       "</tbody>\n",
       "</table>"
      ],
      "text/plain": [
       "'<table>\\n<tbody>\\n<tr><td>TreeTraversal          </td><td style=\"text-align: right;\">0.897567</td></tr>\\n<tr><td>Traverse               </td><td style=\"text-align: right;\">0.870028</td></tr>\\n<tr><td>Graph                  </td><td style=\"text-align: right;\">0.868410</td></tr>\\n<tr><td>codegraph              </td><td style=\"text-align: right;\">0.857106</td></tr>\\n<tr><td>Graph-gist             </td><td style=\"text-align: right;\">0.851075</td></tr>\\n<tr><td>TraverseTree           </td><td style=\"text-align: right;\">0.850152</td></tr>\\n<tr><td>TreeTraversalAnimations</td><td style=\"text-align: right;\">0.845057</td></tr>\\n<tr><td>Dijkstra               </td><td style=\"text-align: right;\">0.825758</td></tr>\\n<tr><td>DFS                    </td><td style=\"text-align: right;\">0.823796</td></tr>\\n<tr><td>sequence-dag           </td><td style=\"text-align: right;\">0.819781</td></tr>\\n</tbody>\\n</table>'"
      ]
     },
     "execution_count": 19,
     "metadata": {},
     "output_type": "execute_result"
    }
   ],
   "source": [
    "guess('graph traversal', count=10)"
   ]
  },
  {
   "cell_type": "code",
   "execution_count": 20,
   "metadata": {},
   "outputs": [
    {
     "data": {
      "text/html": [
       "<table>\n",
       "<tbody>\n",
       "<tr><td>TreeTraversal          </td><td style=\"text-align: right;\">0.904069</td></tr>\n",
       "<tr><td>Traverse               </td><td style=\"text-align: right;\">0.879727</td></tr>\n",
       "<tr><td>Graph                  </td><td style=\"text-align: right;\">0.878255</td></tr>\n",
       "<tr><td>Graph-gist             </td><td style=\"text-align: right;\">0.875115</td></tr>\n",
       "<tr><td>codegraph              </td><td style=\"text-align: right;\">0.872213</td></tr>\n",
       "<tr><td>TraverseTree           </td><td style=\"text-align: right;\">0.865307</td></tr>\n",
       "<tr><td>TreeTraversalAnimations</td><td style=\"text-align: right;\">0.850956</td></tr>\n",
       "<tr><td>Dijkstra               </td><td style=\"text-align: right;\">0.842878</td></tr>\n",
       "<tr><td>wpf-graph              </td><td style=\"text-align: right;\">0.840927</td></tr>\n",
       "<tr><td>sequence-dag           </td><td style=\"text-align: right;\">0.837005</td></tr>\n",
       "</tbody>\n",
       "</table>"
      ],
      "text/plain": [
       "'<table>\\n<tbody>\\n<tr><td>TreeTraversal          </td><td style=\"text-align: right;\">0.904069</td></tr>\\n<tr><td>Traverse               </td><td style=\"text-align: right;\">0.879727</td></tr>\\n<tr><td>Graph                  </td><td style=\"text-align: right;\">0.878255</td></tr>\\n<tr><td>Graph-gist             </td><td style=\"text-align: right;\">0.875115</td></tr>\\n<tr><td>codegraph              </td><td style=\"text-align: right;\">0.872213</td></tr>\\n<tr><td>TraverseTree           </td><td style=\"text-align: right;\">0.865307</td></tr>\\n<tr><td>TreeTraversalAnimations</td><td style=\"text-align: right;\">0.850956</td></tr>\\n<tr><td>Dijkstra               </td><td style=\"text-align: right;\">0.842878</td></tr>\\n<tr><td>wpf-graph              </td><td style=\"text-align: right;\">0.840927</td></tr>\\n<tr><td>sequence-dag           </td><td style=\"text-align: right;\">0.837005</td></tr>\\n</tbody>\\n</table>'"
      ]
     },
     "execution_count": 20,
     "metadata": {},
     "output_type": "execute_result"
    }
   ],
   "source": [
    "guess('graph-traversal', count=10)"
   ]
  },
  {
   "cell_type": "code",
   "execution_count": 21,
   "metadata": {},
   "outputs": [
    {
     "data": {
      "text/html": [
       "<table>\n",
       "<tbody>\n",
       "<tr><td>Graph      </td><td style=\"text-align: right;\">0.892145</td></tr>\n",
       "<tr><td>Geometry   </td><td style=\"text-align: right;\">0.883770</td></tr>\n",
       "<tr><td>printing   </td><td style=\"text-align: right;\">0.882537</td></tr>\n",
       "<tr><td>Draw       </td><td style=\"text-align: right;\">0.876314</td></tr>\n",
       "<tr><td>fps        </td><td style=\"text-align: right;\">0.859790</td></tr>\n",
       "<tr><td>works      </td><td style=\"text-align: right;\">0.848993</td></tr>\n",
       "<tr><td>coordinates</td><td style=\"text-align: right;\">0.845280</td></tr>\n",
       "<tr><td>Components </td><td style=\"text-align: right;\">0.842020</td></tr>\n",
       "<tr><td>filesystem </td><td style=\"text-align: right;\">0.839757</td></tr>\n",
       "<tr><td>Benchmark  </td><td style=\"text-align: right;\">0.839163</td></tr>\n",
       "</tbody>\n",
       "</table>"
      ],
      "text/plain": [
       "'<table>\\n<tbody>\\n<tr><td>Graph      </td><td style=\"text-align: right;\">0.892145</td></tr>\\n<tr><td>Geometry   </td><td style=\"text-align: right;\">0.883770</td></tr>\\n<tr><td>printing   </td><td style=\"text-align: right;\">0.882537</td></tr>\\n<tr><td>Draw       </td><td style=\"text-align: right;\">0.876314</td></tr>\\n<tr><td>fps        </td><td style=\"text-align: right;\">0.859790</td></tr>\\n<tr><td>works      </td><td style=\"text-align: right;\">0.848993</td></tr>\\n<tr><td>coordinates</td><td style=\"text-align: right;\">0.845280</td></tr>\\n<tr><td>Components </td><td style=\"text-align: right;\">0.842020</td></tr>\\n<tr><td>filesystem </td><td style=\"text-align: right;\">0.839757</td></tr>\\n<tr><td>Benchmark  </td><td style=\"text-align: right;\">0.839163</td></tr>\\n</tbody>\\n</table>'"
      ]
     },
     "execution_count": 21,
     "metadata": {},
     "output_type": "execute_result"
    }
   ],
   "source": [
    "guess('graphics', count=10)"
   ]
  },
  {
   "cell_type": "code",
   "execution_count": 22,
   "metadata": {},
   "outputs": [
    {
     "data": {
      "text/html": [
       "<table>\n",
       "<tbody>\n",
       "<tr><td>Flood      </td><td style=\"text-align: right;\">0.864981</td></tr>\n",
       "<tr><td>foobar     </td><td style=\"text-align: right;\">0.825881</td></tr>\n",
       "<tr><td>lambda-demo</td><td style=\"text-align: right;\">0.819231</td></tr>\n",
       "<tr><td>Dynamo     </td><td style=\"text-align: right;\">0.816781</td></tr>\n",
       "<tr><td>yule       </td><td style=\"text-align: right;\">0.813927</td></tr>\n",
       "</tbody>\n",
       "</table>"
      ],
      "text/plain": [
       "'<table>\\n<tbody>\\n<tr><td>Flood      </td><td style=\"text-align: right;\">0.864981</td></tr>\\n<tr><td>foobar     </td><td style=\"text-align: right;\">0.825881</td></tr>\\n<tr><td>lambda-demo</td><td style=\"text-align: right;\">0.819231</td></tr>\\n<tr><td>Dynamo     </td><td style=\"text-align: right;\">0.816781</td></tr>\\n<tr><td>yule       </td><td style=\"text-align: right;\">0.813927</td></tr>\\n</tbody>\\n</table>'"
      ]
     },
     "execution_count": 22,
     "metadata": {},
     "output_type": "execute_result"
    }
   ],
   "source": [
    "guess('deluge')"
   ]
  },
  {
   "cell_type": "code",
   "execution_count": 23,
   "metadata": {},
   "outputs": [
    {
     "data": {
      "text/html": [
       "<table>\n",
       "<tbody>\n",
       "<tr><td>git        </td><td style=\"text-align: right;\">0.823033</td></tr>\n",
       "<tr><td>Linkage    </td><td style=\"text-align: right;\">0.807258</td></tr>\n",
       "<tr><td>gitscripts </td><td style=\"text-align: right;\">0.806840</td></tr>\n",
       "<tr><td>capture.net</td><td style=\"text-align: right;\">0.803207</td></tr>\n",
       "<tr><td>test-site  </td><td style=\"text-align: right;\">0.801885</td></tr>\n",
       "</tbody>\n",
       "</table>"
      ],
      "text/plain": [
       "'<table>\\n<tbody>\\n<tr><td>git        </td><td style=\"text-align: right;\">0.823033</td></tr>\\n<tr><td>Linkage    </td><td style=\"text-align: right;\">0.807258</td></tr>\\n<tr><td>gitscripts </td><td style=\"text-align: right;\">0.806840</td></tr>\\n<tr><td>capture.net</td><td style=\"text-align: right;\">0.803207</td></tr>\\n<tr><td>test-site  </td><td style=\"text-align: right;\">0.801885</td></tr>\\n</tbody>\\n</table>'"
      ]
     },
     "execution_count": 23,
     "metadata": {},
     "output_type": "execute_result"
    }
   ],
   "source": [
    "guess('source control')"
   ]
  },
  {
   "cell_type": "code",
   "execution_count": 24,
   "metadata": {},
   "outputs": [
    {
     "data": {
      "text/html": [
       "<table>\n",
       "<tbody>\n",
       "<tr><td>git           </td><td style=\"text-align: right;\">0.831379</td></tr>\n",
       "<tr><td>git-notes     </td><td style=\"text-align: right;\">0.830440</td></tr>\n",
       "<tr><td>dot-imports   </td><td style=\"text-align: right;\">0.815820</td></tr>\n",
       "<tr><td>gitscripts    </td><td style=\"text-align: right;\">0.812936</td></tr>\n",
       "<tr><td>editor-configs</td><td style=\"text-align: right;\">0.812632</td></tr>\n",
       "</tbody>\n",
       "</table>"
      ],
      "text/plain": [
       "'<table>\\n<tbody>\\n<tr><td>git           </td><td style=\"text-align: right;\">0.831379</td></tr>\\n<tr><td>git-notes     </td><td style=\"text-align: right;\">0.830440</td></tr>\\n<tr><td>dot-imports   </td><td style=\"text-align: right;\">0.815820</td></tr>\\n<tr><td>gitscripts    </td><td style=\"text-align: right;\">0.812936</td></tr>\\n<tr><td>editor-configs</td><td style=\"text-align: right;\">0.812632</td></tr>\\n</tbody>\\n</table>'"
      ]
     },
     "execution_count": 24,
     "metadata": {},
     "output_type": "execute_result"
    }
   ],
   "source": [
    "guess('source-control')"
   ]
  },
  {
   "cell_type": "code",
   "execution_count": null,
   "metadata": {},
   "outputs": [],
   "source": []
  }
 ],
 "metadata": {
  "kernelspec": {
   "display_name": "findrepo2-experiment-rOSEKeEQ-py3.11",
   "language": "python",
   "name": "python3"
  },
  "language_info": {
   "codemirror_mode": {
    "name": "ipython",
    "version": 3
   },
   "file_extension": ".py",
   "mimetype": "text/x-python",
   "name": "python",
   "nbconvert_exporter": "python",
   "pygments_lexer": "ipython3",
   "version": "3.11.2"
  },
  "orig_nbformat": 4,
  "vscode": {
   "interpreter": {
    "hash": "cc24d4d634694babf689af76e7bfbddcba5d411d378bfb432817051e7e6debb7"
   }
  }
 },
 "nbformat": 4,
 "nbformat_minor": 2
}
