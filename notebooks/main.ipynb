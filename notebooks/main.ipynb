{
 "cells": [
  {
   "attachments": {},
   "cell_type": "markdown",
   "metadata": {},
   "source": [
    "# Main notebook - experimenting with guesses\n",
    "\n",
    "SPDX-License-Identifier: 0BSD\n",
    "\n",
    "This does semantic search based solely on repository name and user input.\n",
    "\n",
    "Compare to\n",
    "[`findrepo`](https://github.com/EliahKagan/newrepo-findrepo#using-findrepo)."
   ]
  },
  {
   "cell_type": "code",
   "execution_count": 1,
   "metadata": {},
   "outputs": [],
   "source": [
    "import logging\n",
    "\n",
    "import numpy as np\n",
    "from tabulate import tabulate\n",
    "\n",
    "import fr2ex"
   ]
  },
  {
   "cell_type": "code",
   "execution_count": 2,
   "metadata": {},
   "outputs": [],
   "source": [
    "logging.basicConfig(level=logging.INFO)"
   ]
  },
  {
   "cell_type": "code",
   "execution_count": 3,
   "metadata": {},
   "outputs": [
    {
     "name": "stderr",
     "output_type": "stream",
     "text": [
      "INFO:paramiko.transport:Connected (version 2.0, client OpenSSH_7.6p1)\n",
      "INFO:paramiko.transport:Authentication (publickey) successful!\n",
      "INFO:paramiko.transport.sftp:[chan 0] Opened sftp connection (server version 3)\n",
      "INFO:paramiko.transport.sftp:[chan 0] sftp session closed.\n"
     ]
    }
   ],
   "source": [
    "names = fr2ex.remote.fetch_repo_names()"
   ]
  },
  {
   "cell_type": "code",
   "execution_count": 4,
   "metadata": {},
   "outputs": [
    {
     "data": {
      "text/plain": [
       "721"
      ]
     },
     "execution_count": 4,
     "metadata": {},
     "output_type": "execute_result"
    }
   ],
   "source": [
    "len(names)"
   ]
  },
  {
   "cell_type": "code",
   "execution_count": 5,
   "metadata": {},
   "outputs": [
    {
     "name": "stderr",
     "output_type": "stream",
     "text": [
      "INFO:root:Querying OpenAI moderation endpoint.\n"
     ]
    }
   ],
   "source": [
    "moderation = fr2ex.moderation.get_moderation(names)"
   ]
  },
  {
   "cell_type": "code",
   "execution_count": 6,
   "metadata": {},
   "outputs": [
    {
     "data": {
      "text/plain": [
       "721"
      ]
     },
     "execution_count": 6,
     "metadata": {},
     "output_type": "execute_result"
    }
   ],
   "source": [
    "len(moderation)"
   ]
  },
  {
   "cell_type": "code",
   "execution_count": 7,
   "metadata": {},
   "outputs": [
    {
     "data": {
      "text/plain": [
       "False"
      ]
     },
     "execution_count": 7,
     "metadata": {},
     "output_type": "execute_result"
    }
   ],
   "source": [
    "any(fr2ex.moderation.any_flagged(result) for result in moderation)"
   ]
  },
  {
   "cell_type": "code",
   "execution_count": 8,
   "metadata": {},
   "outputs": [
    {
     "name": "stdout",
     "output_type": "stream",
     "text": [
      "It looks like the rate is $0.0001 per 1000 tokens. If so, the cost to\n",
      "process 2053 tokens is about $0.0002053 (that is, 0.0205300 cents).\n"
     ]
    }
   ],
   "source": [
    "fr2ex.tokens.report_cost(names)"
   ]
  },
  {
   "cell_type": "code",
   "execution_count": 9,
   "metadata": {},
   "outputs": [
    {
     "name": "stderr",
     "output_type": "stream",
     "text": [
      "INFO:root:Querying OpenAI embeddings endpoint.\n"
     ]
    }
   ],
   "source": [
    "embeddings = fr2ex.embedding.embed_many(names)"
   ]
  },
  {
   "cell_type": "code",
   "execution_count": 10,
   "metadata": {},
   "outputs": [],
   "source": [
    "def guess(name: str, count: int = 5) -> None:\n",
    "    \"\"\"Show top guesses for similarity of name to already embedded names.\"\"\"\n",
    "    scores = embeddings @ fr2ex.embedding.embed(name)\n",
    "    ordering = sorted(zip(scores, names), reverse=True)\n",
    "    table = [(name, score) for score, name in ordering]\n",
    "    return tabulate(table[:count], tablefmt='html', floatfmt='.6f')"
   ]
  },
  {
   "cell_type": "code",
   "execution_count": 11,
   "metadata": {},
   "outputs": [
    {
     "data": {
      "text/html": [
       "<table>\n",
       "<tbody>\n",
       "<tr><td>Calculator            </td><td style=\"text-align: right;\">0.868892</td></tr>\n",
       "<tr><td>Geometry              </td><td style=\"text-align: right;\">0.865471</td></tr>\n",
       "<tr><td>algorithms-suggestions</td><td style=\"text-align: right;\">0.860213</td></tr>\n",
       "<tr><td>Alias                 </td><td style=\"text-align: right;\">0.851718</td></tr>\n",
       "<tr><td>Benchmark             </td><td style=\"text-align: right;\">0.849351</td></tr>\n",
       "</tbody>\n",
       "</table>"
      ],
      "text/plain": [
       "'<table>\\n<tbody>\\n<tr><td>Calculator            </td><td style=\"text-align: right;\">0.868892</td></tr>\\n<tr><td>Geometry              </td><td style=\"text-align: right;\">0.865471</td></tr>\\n<tr><td>algorithms-suggestions</td><td style=\"text-align: right;\">0.860213</td></tr>\\n<tr><td>Alias                 </td><td style=\"text-align: right;\">0.851718</td></tr>\\n<tr><td>Benchmark             </td><td style=\"text-align: right;\">0.849351</td></tr>\\n</tbody>\\n</table>'"
      ]
     },
     "execution_count": 11,
     "metadata": {},
     "output_type": "execute_result"
    }
   ],
   "source": [
    "guess('algorithm')"
   ]
  },
  {
   "cell_type": "code",
   "execution_count": 12,
   "metadata": {},
   "outputs": [
    {
     "data": {
      "text/html": [
       "<table>\n",
       "<tbody>\n",
       "<tr><td>SortingRanges</td><td style=\"text-align: right;\">0.932455</td></tr>\n",
       "<tr><td>Sorts        </td><td style=\"text-align: right;\">0.909035</td></tr>\n",
       "<tr><td>sortkey      </td><td style=\"text-align: right;\">0.859505</td></tr>\n",
       "<tr><td>PartialSort  </td><td style=\"text-align: right;\">0.854997</td></tr>\n",
       "<tr><td>tsort        </td><td style=\"text-align: right;\">0.840392</td></tr>\n",
       "</tbody>\n",
       "</table>"
      ],
      "text/plain": [
       "'<table>\\n<tbody>\\n<tr><td>SortingRanges</td><td style=\"text-align: right;\">0.932455</td></tr>\\n<tr><td>Sorts        </td><td style=\"text-align: right;\">0.909035</td></tr>\\n<tr><td>sortkey      </td><td style=\"text-align: right;\">0.859505</td></tr>\\n<tr><td>PartialSort  </td><td style=\"text-align: right;\">0.854997</td></tr>\\n<tr><td>tsort        </td><td style=\"text-align: right;\">0.840392</td></tr>\\n</tbody>\\n</table>'"
      ]
     },
     "execution_count": 12,
     "metadata": {},
     "output_type": "execute_result"
    }
   ],
   "source": [
    "guess('sorting')"
   ]
  },
  {
   "cell_type": "code",
   "execution_count": 13,
   "metadata": {},
   "outputs": [
    {
     "data": {
      "text/html": [
       "<table>\n",
       "<tbody>\n",
       "<tr><td>algorithms-suggestions</td><td style=\"text-align: right;\">0.889127</td></tr>\n",
       "<tr><td>algorithms-python     </td><td style=\"text-align: right;\">0.859428</td></tr>\n",
       "<tr><td>crystal-algo          </td><td style=\"text-align: right;\">0.855611</td></tr>\n",
       "<tr><td>Graph-gist            </td><td style=\"text-align: right;\">0.842344</td></tr>\n",
       "<tr><td>codegraph             </td><td style=\"text-align: right;\">0.832857</td></tr>\n",
       "</tbody>\n",
       "</table>"
      ],
      "text/plain": [
       "'<table>\\n<tbody>\\n<tr><td>algorithms-suggestions</td><td style=\"text-align: right;\">0.889127</td></tr>\\n<tr><td>algorithms-python     </td><td style=\"text-align: right;\">0.859428</td></tr>\\n<tr><td>crystal-algo          </td><td style=\"text-align: right;\">0.855611</td></tr>\\n<tr><td>Graph-gist            </td><td style=\"text-align: right;\">0.842344</td></tr>\\n<tr><td>codegraph             </td><td style=\"text-align: right;\">0.832857</td></tr>\\n</tbody>\\n</table>'"
      ]
     },
     "execution_count": 13,
     "metadata": {},
     "output_type": "execute_result"
    }
   ],
   "source": [
    "guess('algorithm-visualization')"
   ]
  },
  {
   "cell_type": "code",
   "execution_count": 14,
   "metadata": {},
   "outputs": [
    {
     "data": {
      "text/html": [
       "<table>\n",
       "<tbody>\n",
       "<tr><td>try-maven  </td><td style=\"text-align: right;\">0.916256</td></tr>\n",
       "<tr><td>mavener    </td><td style=\"text-align: right;\">0.880057</td></tr>\n",
       "<tr><td>retry-maven</td><td style=\"text-align: right;\">0.868163</td></tr>\n",
       "<tr><td>pimpl      </td><td style=\"text-align: right;\">0.836303</td></tr>\n",
       "<tr><td>try-gradle </td><td style=\"text-align: right;\">0.833540</td></tr>\n",
       "</tbody>\n",
       "</table>"
      ],
      "text/plain": [
       "'<table>\\n<tbody>\\n<tr><td>try-maven  </td><td style=\"text-align: right;\">0.916256</td></tr>\\n<tr><td>mavener    </td><td style=\"text-align: right;\">0.880057</td></tr>\\n<tr><td>retry-maven</td><td style=\"text-align: right;\">0.868163</td></tr>\\n<tr><td>pimpl      </td><td style=\"text-align: right;\">0.836303</td></tr>\\n<tr><td>try-gradle </td><td style=\"text-align: right;\">0.833540</td></tr>\\n</tbody>\\n</table>'"
      ]
     },
     "execution_count": 14,
     "metadata": {},
     "output_type": "execute_result"
    }
   ],
   "source": [
    "guess('maven')"
   ]
  },
  {
   "cell_type": "code",
   "execution_count": 15,
   "metadata": {},
   "outputs": [
    {
     "data": {
      "text/html": [
       "<table>\n",
       "<tbody>\n",
       "<tr><td>newrepo-findrepo    </td><td style=\"text-align: right;\">0.916323</td></tr>\n",
       "<tr><td>findrepo2-experiment</td><td style=\"text-align: right;\">0.867370</td></tr>\n",
       "<tr><td>backup-repos        </td><td style=\"text-align: right;\">0.865011</td></tr>\n",
       "<tr><td>find-articles       </td><td style=\"text-align: right;\">0.856997</td></tr>\n",
       "<tr><td>TestRepo            </td><td style=\"text-align: right;\">0.842254</td></tr>\n",
       "</tbody>\n",
       "</table>"
      ],
      "text/plain": [
       "'<table>\\n<tbody>\\n<tr><td>newrepo-findrepo    </td><td style=\"text-align: right;\">0.916323</td></tr>\\n<tr><td>findrepo2-experiment</td><td style=\"text-align: right;\">0.867370</td></tr>\\n<tr><td>backup-repos        </td><td style=\"text-align: right;\">0.865011</td></tr>\\n<tr><td>find-articles       </td><td style=\"text-align: right;\">0.856997</td></tr>\\n<tr><td>TestRepo            </td><td style=\"text-align: right;\">0.842254</td></tr>\\n</tbody>\\n</table>'"
      ]
     },
     "execution_count": 15,
     "metadata": {},
     "output_type": "execute_result"
    }
   ],
   "source": [
    "guess('find-repo')"
   ]
  },
  {
   "cell_type": "code",
   "execution_count": 16,
   "metadata": {},
   "outputs": [
    {
     "data": {
      "text/html": [
       "<table>\n",
       "<tbody>\n",
       "<tr><td>codegraph </td><td style=\"text-align: right;\">0.881024</td></tr>\n",
       "<tr><td>Graph     </td><td style=\"text-align: right;\">0.879386</td></tr>\n",
       "<tr><td>Graph-gist</td><td style=\"text-align: right;\">0.864565</td></tr>\n",
       "<tr><td>Geometry  </td><td style=\"text-align: right;\">0.839661</td></tr>\n",
       "<tr><td>wpf-graph </td><td style=\"text-align: right;\">0.829286</td></tr>\n",
       "<tr><td>graphyaml </td><td style=\"text-align: right;\">0.820479</td></tr>\n",
       "<tr><td>gh-profile</td><td style=\"text-align: right;\">0.814717</td></tr>\n",
       "<tr><td>c-sketches</td><td style=\"text-align: right;\">0.813789</td></tr>\n",
       "<tr><td>trig      </td><td style=\"text-align: right;\">0.809130</td></tr>\n",
       "<tr><td>Draw      </td><td style=\"text-align: right;\">0.808729</td></tr>\n",
       "</tbody>\n",
       "</table>"
      ],
      "text/plain": [
       "'<table>\\n<tbody>\\n<tr><td>codegraph </td><td style=\"text-align: right;\">0.881024</td></tr>\\n<tr><td>Graph     </td><td style=\"text-align: right;\">0.879386</td></tr>\\n<tr><td>Graph-gist</td><td style=\"text-align: right;\">0.864565</td></tr>\\n<tr><td>Geometry  </td><td style=\"text-align: right;\">0.839661</td></tr>\\n<tr><td>wpf-graph </td><td style=\"text-align: right;\">0.829286</td></tr>\\n<tr><td>graphyaml </td><td style=\"text-align: right;\">0.820479</td></tr>\\n<tr><td>gh-profile</td><td style=\"text-align: right;\">0.814717</td></tr>\\n<tr><td>c-sketches</td><td style=\"text-align: right;\">0.813789</td></tr>\\n<tr><td>trig      </td><td style=\"text-align: right;\">0.809130</td></tr>\\n<tr><td>Draw      </td><td style=\"text-align: right;\">0.808729</td></tr>\\n</tbody>\\n</table>'"
      ]
     },
     "execution_count": 16,
     "metadata": {},
     "output_type": "execute_result"
    }
   ],
   "source": [
    "guess('graph theory', count=10)"
   ]
  },
  {
   "cell_type": "code",
   "execution_count": 17,
   "metadata": {},
   "outputs": [
    {
     "data": {
      "text/html": [
       "<table>\n",
       "<tbody>\n",
       "<tr><td>Dijkstra               </td><td style=\"text-align: right;\">0.891185</td></tr>\n",
       "<tr><td>Paths                  </td><td style=\"text-align: right;\">0.838848</td></tr>\n",
       "<tr><td>TreeTraversal          </td><td style=\"text-align: right;\">0.830707</td></tr>\n",
       "<tr><td>Kruskal                </td><td style=\"text-align: right;\">0.816533</td></tr>\n",
       "<tr><td>algorithms-suggestions </td><td style=\"text-align: right;\">0.816335</td></tr>\n",
       "<tr><td>Traverse               </td><td style=\"text-align: right;\">0.813205</td></tr>\n",
       "<tr><td>Permutations           </td><td style=\"text-align: right;\">0.806636</td></tr>\n",
       "<tr><td>treejs                 </td><td style=\"text-align: right;\">0.801389</td></tr>\n",
       "<tr><td>DFS                    </td><td style=\"text-align: right;\">0.800918</td></tr>\n",
       "<tr><td>TreeTraversalAnimations</td><td style=\"text-align: right;\">0.800318</td></tr>\n",
       "</tbody>\n",
       "</table>"
      ],
      "text/plain": [
       "'<table>\\n<tbody>\\n<tr><td>Dijkstra               </td><td style=\"text-align: right;\">0.891185</td></tr>\\n<tr><td>Paths                  </td><td style=\"text-align: right;\">0.838848</td></tr>\\n<tr><td>TreeTraversal          </td><td style=\"text-align: right;\">0.830707</td></tr>\\n<tr><td>Kruskal                </td><td style=\"text-align: right;\">0.816533</td></tr>\\n<tr><td>algorithms-suggestions </td><td style=\"text-align: right;\">0.816335</td></tr>\\n<tr><td>Traverse               </td><td style=\"text-align: right;\">0.813205</td></tr>\\n<tr><td>Permutations           </td><td style=\"text-align: right;\">0.806636</td></tr>\\n<tr><td>treejs                 </td><td style=\"text-align: right;\">0.801389</td></tr>\\n<tr><td>DFS                    </td><td style=\"text-align: right;\">0.800918</td></tr>\\n<tr><td>TreeTraversalAnimations</td><td style=\"text-align: right;\">0.800318</td></tr>\\n</tbody>\\n</table>'"
      ]
     },
     "execution_count": 17,
     "metadata": {},
     "output_type": "execute_result"
    }
   ],
   "source": [
    "guess('shortest paths', count=10)"
   ]
  },
  {
   "cell_type": "code",
   "execution_count": 18,
   "metadata": {},
   "outputs": [
    {
     "data": {
      "text/html": [
       "<table>\n",
       "<tbody>\n",
       "<tr><td>Dijkstra              </td><td style=\"text-align: right;\">0.891988</td></tr>\n",
       "<tr><td>Paths                 </td><td style=\"text-align: right;\">0.836293</td></tr>\n",
       "<tr><td>TreeTraversal         </td><td style=\"text-align: right;\">0.836137</td></tr>\n",
       "<tr><td>Traverse              </td><td style=\"text-align: right;\">0.819954</td></tr>\n",
       "<tr><td>algorithms-suggestions</td><td style=\"text-align: right;\">0.819141</td></tr>\n",
       "<tr><td>Kruskal               </td><td style=\"text-align: right;\">0.814023</td></tr>\n",
       "<tr><td>type-arrows           </td><td style=\"text-align: right;\">0.812781</td></tr>\n",
       "<tr><td>kt-short              </td><td style=\"text-align: right;\">0.811081</td></tr>\n",
       "<tr><td>sequence-dag          </td><td style=\"text-align: right;\">0.809232</td></tr>\n",
       "<tr><td>dot-and-cross         </td><td style=\"text-align: right;\">0.806380</td></tr>\n",
       "</tbody>\n",
       "</table>"
      ],
      "text/plain": [
       "'<table>\\n<tbody>\\n<tr><td>Dijkstra              </td><td style=\"text-align: right;\">0.891988</td></tr>\\n<tr><td>Paths                 </td><td style=\"text-align: right;\">0.836293</td></tr>\\n<tr><td>TreeTraversal         </td><td style=\"text-align: right;\">0.836137</td></tr>\\n<tr><td>Traverse              </td><td style=\"text-align: right;\">0.819954</td></tr>\\n<tr><td>algorithms-suggestions</td><td style=\"text-align: right;\">0.819141</td></tr>\\n<tr><td>Kruskal               </td><td style=\"text-align: right;\">0.814023</td></tr>\\n<tr><td>type-arrows           </td><td style=\"text-align: right;\">0.812781</td></tr>\\n<tr><td>kt-short              </td><td style=\"text-align: right;\">0.811081</td></tr>\\n<tr><td>sequence-dag          </td><td style=\"text-align: right;\">0.809232</td></tr>\\n<tr><td>dot-and-cross         </td><td style=\"text-align: right;\">0.806380</td></tr>\\n</tbody>\\n</table>'"
      ]
     },
     "execution_count": 18,
     "metadata": {},
     "output_type": "execute_result"
    }
   ],
   "source": [
    "guess('shortest-paths', count=10)"
   ]
  },
  {
   "cell_type": "code",
   "execution_count": 19,
   "metadata": {},
   "outputs": [
    {
     "data": {
      "text/html": [
       "<table>\n",
       "<tbody>\n",
       "<tr><td>TreeTraversal          </td><td style=\"text-align: right;\">0.897469</td></tr>\n",
       "<tr><td>Traverse               </td><td style=\"text-align: right;\">0.870004</td></tr>\n",
       "<tr><td>Graph                  </td><td style=\"text-align: right;\">0.868454</td></tr>\n",
       "<tr><td>codegraph              </td><td style=\"text-align: right;\">0.856849</td></tr>\n",
       "<tr><td>Graph-gist             </td><td style=\"text-align: right;\">0.850980</td></tr>\n",
       "<tr><td>TraverseTree           </td><td style=\"text-align: right;\">0.850101</td></tr>\n",
       "<tr><td>TreeTraversalAnimations</td><td style=\"text-align: right;\">0.845119</td></tr>\n",
       "<tr><td>Dijkstra               </td><td style=\"text-align: right;\">0.824611</td></tr>\n",
       "<tr><td>DFS                    </td><td style=\"text-align: right;\">0.823564</td></tr>\n",
       "<tr><td>sequence-dag           </td><td style=\"text-align: right;\">0.819539</td></tr>\n",
       "</tbody>\n",
       "</table>"
      ],
      "text/plain": [
       "'<table>\\n<tbody>\\n<tr><td>TreeTraversal          </td><td style=\"text-align: right;\">0.897469</td></tr>\\n<tr><td>Traverse               </td><td style=\"text-align: right;\">0.870004</td></tr>\\n<tr><td>Graph                  </td><td style=\"text-align: right;\">0.868454</td></tr>\\n<tr><td>codegraph              </td><td style=\"text-align: right;\">0.856849</td></tr>\\n<tr><td>Graph-gist             </td><td style=\"text-align: right;\">0.850980</td></tr>\\n<tr><td>TraverseTree           </td><td style=\"text-align: right;\">0.850101</td></tr>\\n<tr><td>TreeTraversalAnimations</td><td style=\"text-align: right;\">0.845119</td></tr>\\n<tr><td>Dijkstra               </td><td style=\"text-align: right;\">0.824611</td></tr>\\n<tr><td>DFS                    </td><td style=\"text-align: right;\">0.823564</td></tr>\\n<tr><td>sequence-dag           </td><td style=\"text-align: right;\">0.819539</td></tr>\\n</tbody>\\n</table>'"
      ]
     },
     "execution_count": 19,
     "metadata": {},
     "output_type": "execute_result"
    }
   ],
   "source": [
    "guess('graph traversal', count=10)"
   ]
  },
  {
   "cell_type": "code",
   "execution_count": 20,
   "metadata": {},
   "outputs": [
    {
     "data": {
      "text/html": [
       "<table>\n",
       "<tbody>\n",
       "<tr><td>TreeTraversal          </td><td style=\"text-align: right;\">0.904177</td></tr>\n",
       "<tr><td>Traverse               </td><td style=\"text-align: right;\">0.879879</td></tr>\n",
       "<tr><td>Graph                  </td><td style=\"text-align: right;\">0.878466</td></tr>\n",
       "<tr><td>Graph-gist             </td><td style=\"text-align: right;\">0.875128</td></tr>\n",
       "<tr><td>codegraph              </td><td style=\"text-align: right;\">0.872133</td></tr>\n",
       "<tr><td>TraverseTree           </td><td style=\"text-align: right;\">0.865409</td></tr>\n",
       "<tr><td>TreeTraversalAnimations</td><td style=\"text-align: right;\">0.851328</td></tr>\n",
       "<tr><td>Dijkstra               </td><td style=\"text-align: right;\">0.842215</td></tr>\n",
       "<tr><td>wpf-graph              </td><td style=\"text-align: right;\">0.841237</td></tr>\n",
       "<tr><td>sequence-dag           </td><td style=\"text-align: right;\">0.837101</td></tr>\n",
       "</tbody>\n",
       "</table>"
      ],
      "text/plain": [
       "'<table>\\n<tbody>\\n<tr><td>TreeTraversal          </td><td style=\"text-align: right;\">0.904177</td></tr>\\n<tr><td>Traverse               </td><td style=\"text-align: right;\">0.879879</td></tr>\\n<tr><td>Graph                  </td><td style=\"text-align: right;\">0.878466</td></tr>\\n<tr><td>Graph-gist             </td><td style=\"text-align: right;\">0.875128</td></tr>\\n<tr><td>codegraph              </td><td style=\"text-align: right;\">0.872133</td></tr>\\n<tr><td>TraverseTree           </td><td style=\"text-align: right;\">0.865409</td></tr>\\n<tr><td>TreeTraversalAnimations</td><td style=\"text-align: right;\">0.851328</td></tr>\\n<tr><td>Dijkstra               </td><td style=\"text-align: right;\">0.842215</td></tr>\\n<tr><td>wpf-graph              </td><td style=\"text-align: right;\">0.841237</td></tr>\\n<tr><td>sequence-dag           </td><td style=\"text-align: right;\">0.837101</td></tr>\\n</tbody>\\n</table>'"
      ]
     },
     "execution_count": 20,
     "metadata": {},
     "output_type": "execute_result"
    }
   ],
   "source": [
    "guess('graph-traversal', count=10)"
   ]
  },
  {
   "cell_type": "code",
   "execution_count": 21,
   "metadata": {},
   "outputs": [
    {
     "data": {
      "text/html": [
       "<table>\n",
       "<tbody>\n",
       "<tr><td>Graph      </td><td style=\"text-align: right;\">0.889388</td></tr>\n",
       "<tr><td>printing   </td><td style=\"text-align: right;\">0.883153</td></tr>\n",
       "<tr><td>Geometry   </td><td style=\"text-align: right;\">0.881506</td></tr>\n",
       "<tr><td>Draw       </td><td style=\"text-align: right;\">0.875333</td></tr>\n",
       "<tr><td>fps        </td><td style=\"text-align: right;\">0.859527</td></tr>\n",
       "<tr><td>works      </td><td style=\"text-align: right;\">0.848995</td></tr>\n",
       "<tr><td>coordinates</td><td style=\"text-align: right;\">0.845295</td></tr>\n",
       "<tr><td>typevars   </td><td style=\"text-align: right;\">0.843457</td></tr>\n",
       "<tr><td>Components </td><td style=\"text-align: right;\">0.842692</td></tr>\n",
       "<tr><td>interop    </td><td style=\"text-align: right;\">0.841446</td></tr>\n",
       "</tbody>\n",
       "</table>"
      ],
      "text/plain": [
       "'<table>\\n<tbody>\\n<tr><td>Graph      </td><td style=\"text-align: right;\">0.889388</td></tr>\\n<tr><td>printing   </td><td style=\"text-align: right;\">0.883153</td></tr>\\n<tr><td>Geometry   </td><td style=\"text-align: right;\">0.881506</td></tr>\\n<tr><td>Draw       </td><td style=\"text-align: right;\">0.875333</td></tr>\\n<tr><td>fps        </td><td style=\"text-align: right;\">0.859527</td></tr>\\n<tr><td>works      </td><td style=\"text-align: right;\">0.848995</td></tr>\\n<tr><td>coordinates</td><td style=\"text-align: right;\">0.845295</td></tr>\\n<tr><td>typevars   </td><td style=\"text-align: right;\">0.843457</td></tr>\\n<tr><td>Components </td><td style=\"text-align: right;\">0.842692</td></tr>\\n<tr><td>interop    </td><td style=\"text-align: right;\">0.841446</td></tr>\\n</tbody>\\n</table>'"
      ]
     },
     "execution_count": 21,
     "metadata": {},
     "output_type": "execute_result"
    }
   ],
   "source": [
    "guess('graphics', count=10)"
   ]
  },
  {
   "cell_type": "code",
   "execution_count": 22,
   "metadata": {},
   "outputs": [
    {
     "data": {
      "text/html": [
       "<table>\n",
       "<tbody>\n",
       "<tr><td>Flood      </td><td style=\"text-align: right;\">0.865039</td></tr>\n",
       "<tr><td>foobar     </td><td style=\"text-align: right;\">0.826051</td></tr>\n",
       "<tr><td>lambda-demo</td><td style=\"text-align: right;\">0.819182</td></tr>\n",
       "<tr><td>Dynamo     </td><td style=\"text-align: right;\">0.816846</td></tr>\n",
       "<tr><td>yule       </td><td style=\"text-align: right;\">0.814101</td></tr>\n",
       "</tbody>\n",
       "</table>"
      ],
      "text/plain": [
       "'<table>\\n<tbody>\\n<tr><td>Flood      </td><td style=\"text-align: right;\">0.865039</td></tr>\\n<tr><td>foobar     </td><td style=\"text-align: right;\">0.826051</td></tr>\\n<tr><td>lambda-demo</td><td style=\"text-align: right;\">0.819182</td></tr>\\n<tr><td>Dynamo     </td><td style=\"text-align: right;\">0.816846</td></tr>\\n<tr><td>yule       </td><td style=\"text-align: right;\">0.814101</td></tr>\\n</tbody>\\n</table>'"
      ]
     },
     "execution_count": 22,
     "metadata": {},
     "output_type": "execute_result"
    }
   ],
   "source": [
    "guess('deluge')"
   ]
  },
  {
   "cell_type": "code",
   "execution_count": 23,
   "metadata": {},
   "outputs": [
    {
     "data": {
      "text/html": [
       "<table>\n",
       "<tbody>\n",
       "<tr><td>git        </td><td style=\"text-align: right;\">0.822911</td></tr>\n",
       "<tr><td>Linkage    </td><td style=\"text-align: right;\">0.807101</td></tr>\n",
       "<tr><td>gitscripts </td><td style=\"text-align: right;\">0.806857</td></tr>\n",
       "<tr><td>capture.net</td><td style=\"text-align: right;\">0.803123</td></tr>\n",
       "<tr><td>test-site  </td><td style=\"text-align: right;\">0.801839</td></tr>\n",
       "</tbody>\n",
       "</table>"
      ],
      "text/plain": [
       "'<table>\\n<tbody>\\n<tr><td>git        </td><td style=\"text-align: right;\">0.822911</td></tr>\\n<tr><td>Linkage    </td><td style=\"text-align: right;\">0.807101</td></tr>\\n<tr><td>gitscripts </td><td style=\"text-align: right;\">0.806857</td></tr>\\n<tr><td>capture.net</td><td style=\"text-align: right;\">0.803123</td></tr>\\n<tr><td>test-site  </td><td style=\"text-align: right;\">0.801839</td></tr>\\n</tbody>\\n</table>'"
      ]
     },
     "execution_count": 23,
     "metadata": {},
     "output_type": "execute_result"
    }
   ],
   "source": [
    "guess('source control')"
   ]
  },
  {
   "cell_type": "code",
   "execution_count": 24,
   "metadata": {},
   "outputs": [
    {
     "data": {
      "text/html": [
       "<table>\n",
       "<tbody>\n",
       "<tr><td>git              </td><td style=\"text-align: right;\">0.831433</td></tr>\n",
       "<tr><td>git-notes        </td><td style=\"text-align: right;\">0.830786</td></tr>\n",
       "<tr><td>example-submodule</td><td style=\"text-align: right;\">0.818571</td></tr>\n",
       "<tr><td>dot-imports      </td><td style=\"text-align: right;\">0.815824</td></tr>\n",
       "<tr><td>gitscripts       </td><td style=\"text-align: right;\">0.813118</td></tr>\n",
       "</tbody>\n",
       "</table>"
      ],
      "text/plain": [
       "'<table>\\n<tbody>\\n<tr><td>git              </td><td style=\"text-align: right;\">0.831433</td></tr>\\n<tr><td>git-notes        </td><td style=\"text-align: right;\">0.830786</td></tr>\\n<tr><td>example-submodule</td><td style=\"text-align: right;\">0.818571</td></tr>\\n<tr><td>dot-imports      </td><td style=\"text-align: right;\">0.815824</td></tr>\\n<tr><td>gitscripts       </td><td style=\"text-align: right;\">0.813118</td></tr>\\n</tbody>\\n</table>'"
      ]
     },
     "execution_count": 24,
     "metadata": {},
     "output_type": "execute_result"
    }
   ],
   "source": [
    "guess('source-control')"
   ]
  },
  {
   "cell_type": "code",
   "execution_count": null,
   "metadata": {},
   "outputs": [],
   "source": []
  }
 ],
 "metadata": {
  "kernelspec": {
   "display_name": "findrepo2-experiment-rOSEKeEQ-py3.11",
   "language": "python",
   "name": "python3"
  },
  "language_info": {
   "codemirror_mode": {
    "name": "ipython",
    "version": 3
   },
   "file_extension": ".py",
   "mimetype": "text/x-python",
   "name": "python",
   "nbconvert_exporter": "python",
   "pygments_lexer": "ipython3",
   "version": "3.11.5"
  },
  "orig_nbformat": 4,
  "vscode": {
   "interpreter": {
    "hash": "cc24d4d634694babf689af76e7bfbddcba5d411d378bfb432817051e7e6debb7"
   }
  }
 },
 "nbformat": 4,
 "nbformat_minor": 2
}
