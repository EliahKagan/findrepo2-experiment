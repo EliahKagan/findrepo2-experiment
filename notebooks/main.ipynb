{
 "cells": [
  {
   "attachments": {},
   "cell_type": "markdown",
   "metadata": {},
   "source": [
    "# Main notebook - experimenting with guesses\n",
    "\n",
    "SPDX-License-Identifier: 0BSD\n",
    "\n",
    "This does semantic search based solely on repository name and user input.\n",
    "\n",
    "Compare to\n",
    "[`findrepo`](https://github.com/EliahKagan/newrepo-findrepo#using-findrepo)."
   ]
  },
  {
   "cell_type": "code",
   "execution_count": 1,
   "metadata": {},
   "outputs": [],
   "source": [
    "import logging\n",
    "\n",
    "import numpy as np\n",
    "from tabulate import tabulate\n",
    "\n",
    "import fr2ex"
   ]
  },
  {
   "cell_type": "code",
   "execution_count": 2,
   "metadata": {},
   "outputs": [],
   "source": [
    "logging.basicConfig(level=logging.INFO)"
   ]
  },
  {
   "cell_type": "code",
   "execution_count": 3,
   "metadata": {},
   "outputs": [
    {
     "name": "stderr",
     "output_type": "stream",
     "text": [
      "INFO:paramiko.transport:Connected (version 2.0, client OpenSSH_7.6p1)\n",
      "INFO:paramiko.transport:Authentication (publickey) successful!\n",
      "INFO:paramiko.transport.sftp:[chan 0] Opened sftp connection (server version 3)\n",
      "INFO:paramiko.transport.sftp:[chan 0] sftp session closed.\n"
     ]
    }
   ],
   "source": [
    "names = fr2ex.remote.fetch_repo_names()"
   ]
  },
  {
   "cell_type": "code",
   "execution_count": 4,
   "metadata": {},
   "outputs": [
    {
     "data": {
      "text/plain": [
       "685"
      ]
     },
     "execution_count": 4,
     "metadata": {},
     "output_type": "execute_result"
    }
   ],
   "source": [
    "len(names)"
   ]
  },
  {
   "cell_type": "code",
   "execution_count": 5,
   "metadata": {},
   "outputs": [
    {
     "name": "stderr",
     "output_type": "stream",
     "text": [
      "INFO:root:Reading cached moderation.\n"
     ]
    }
   ],
   "source": [
    "moderation = fr2ex.moderation.get_moderation(names)"
   ]
  },
  {
   "cell_type": "code",
   "execution_count": 6,
   "metadata": {},
   "outputs": [
    {
     "data": {
      "text/plain": [
       "685"
      ]
     },
     "execution_count": 6,
     "metadata": {},
     "output_type": "execute_result"
    }
   ],
   "source": [
    "len(moderation)"
   ]
  },
  {
   "cell_type": "code",
   "execution_count": 7,
   "metadata": {},
   "outputs": [
    {
     "data": {
      "text/plain": [
       "False"
      ]
     },
     "execution_count": 7,
     "metadata": {},
     "output_type": "execute_result"
    }
   ],
   "source": [
    "any(result['flagged'] for result in moderation)"
   ]
  },
  {
   "cell_type": "code",
   "execution_count": 8,
   "metadata": {},
   "outputs": [
    {
     "ename": "ValueError",
     "evalue": "No tables found",
     "output_type": "error",
     "traceback": [
      "\u001b[0;31m---------------------------------------------------------------------------\u001b[0m",
      "\u001b[0;31mValueError\u001b[0m                                Traceback (most recent call last)",
      "Cell \u001b[0;32mIn[8], line 1\u001b[0m\n\u001b[0;32m----> 1\u001b[0m fr2ex\u001b[39m.\u001b[39;49mtokens\u001b[39m.\u001b[39;49mreport_cost(names)\n",
      "File \u001b[0;32m~/repos-wsl/findrepo2-experiment/fr2ex/tokens.py:150\u001b[0m, in \u001b[0;36mreport_cost\u001b[0;34m(texts)\u001b[0m\n\u001b[1;32m    148\u001b[0m \u001b[39mdef\u001b[39;00m \u001b[39mreport_cost\u001b[39m(texts: \u001b[39mlist\u001b[39m[\u001b[39mstr\u001b[39m]) \u001b[39m-\u001b[39m\u001b[39m>\u001b[39m \u001b[39mNone\u001b[39;00m:\n\u001b[1;32m    149\u001b[0m \u001b[39m    \u001b[39m\u001b[39m\"\"\"Report a cost estimate for calling text-embedding-ada-002 on texts.\"\"\"\u001b[39;00m\n\u001b[0;32m--> 150\u001b[0m     rate \u001b[39m=\u001b[39m find_embedding_model_prices()[\u001b[39m'\u001b[39m\u001b[39mAda\u001b[39m\u001b[39m'\u001b[39m]\n\u001b[1;32m    151\u001b[0m     token_count \u001b[39m=\u001b[39m count(texts)\n\u001b[1;32m    152\u001b[0m     total_cost \u001b[39m=\u001b[39m token_count \u001b[39m*\u001b[39m rate\u001b[39m.\u001b[39mvalue\n",
      "File \u001b[0;32m~/repos-wsl/findrepo2-experiment/fr2ex/tokens.py:137\u001b[0m, in \u001b[0;36mfind_embedding_model_prices\u001b[0;34m(displayed_only)\u001b[0m\n\u001b[1;32m    134\u001b[0m doc_row \u001b[39m=\u001b[39m headings[\u001b[39m0\u001b[39m]\u001b[39m.\u001b[39mparent\u001b[39m.\u001b[39mparent\u001b[39m.\u001b[39mparent\n\u001b[1;32m    135\u001b[0m _need(\u001b[39mlen\u001b[39m(doc_row\u001b[39m.\u001b[39mfind_all(\u001b[39m'\u001b[39m\u001b[39mh3\u001b[39m\u001b[39m'\u001b[39m)) \u001b[39m==\u001b[39m \u001b[39m1\u001b[39m)\n\u001b[0;32m--> 137\u001b[0m frames \u001b[39m=\u001b[39m pandas\u001b[39m.\u001b[39;49mread_html(\u001b[39mstr\u001b[39;49m(doc_row), displayed_only\u001b[39m=\u001b[39;49mdisplayed_only)\n\u001b[1;32m    138\u001b[0m _need({\u001b[39mtuple\u001b[39m(df\u001b[39m.\u001b[39mcolumns\u001b[39m.\u001b[39mvalues) \u001b[39mfor\u001b[39;00m df \u001b[39min\u001b[39;00m frames} \u001b[39m==\u001b[39m {(\u001b[39m'\u001b[39m\u001b[39mModel\u001b[39m\u001b[39m'\u001b[39m, \u001b[39m'\u001b[39m\u001b[39mUsage\u001b[39m\u001b[39m'\u001b[39m)})\n\u001b[1;32m    139\u001b[0m data_rows \u001b[39m=\u001b[39m itertools\u001b[39m.\u001b[39mchain\u001b[39m.\u001b[39mfrom_iterable(df\u001b[39m.\u001b[39mto_numpy() \u001b[39mfor\u001b[39;00m df \u001b[39min\u001b[39;00m frames)\n",
      "File \u001b[0;32m~/.cache/pypoetry/virtualenvs/findrepo2-experiment-lQvBFiG4-py3.11/lib/python3.11/site-packages/pandas/util/_decorators.py:331\u001b[0m, in \u001b[0;36mdeprecate_nonkeyword_arguments.<locals>.decorate.<locals>.wrapper\u001b[0;34m(*args, **kwargs)\u001b[0m\n\u001b[1;32m    325\u001b[0m \u001b[39mif\u001b[39;00m \u001b[39mlen\u001b[39m(args) \u001b[39m>\u001b[39m num_allow_args:\n\u001b[1;32m    326\u001b[0m     warnings\u001b[39m.\u001b[39mwarn(\n\u001b[1;32m    327\u001b[0m         msg\u001b[39m.\u001b[39mformat(arguments\u001b[39m=\u001b[39m_format_argument_list(allow_args)),\n\u001b[1;32m    328\u001b[0m         \u001b[39mFutureWarning\u001b[39;00m,\n\u001b[1;32m    329\u001b[0m         stacklevel\u001b[39m=\u001b[39mfind_stack_level(),\n\u001b[1;32m    330\u001b[0m     )\n\u001b[0;32m--> 331\u001b[0m \u001b[39mreturn\u001b[39;00m func(\u001b[39m*\u001b[39;49margs, \u001b[39m*\u001b[39;49m\u001b[39m*\u001b[39;49mkwargs)\n",
      "File \u001b[0;32m~/.cache/pypoetry/virtualenvs/findrepo2-experiment-lQvBFiG4-py3.11/lib/python3.11/site-packages/pandas/io/html.py:1205\u001b[0m, in \u001b[0;36mread_html\u001b[0;34m(io, match, flavor, header, index_col, skiprows, attrs, parse_dates, thousands, encoding, decimal, converters, na_values, keep_default_na, displayed_only, extract_links)\u001b[0m\n\u001b[1;32m   1201\u001b[0m validate_header_arg(header)\n\u001b[1;32m   1203\u001b[0m io \u001b[39m=\u001b[39m stringify_path(io)\n\u001b[0;32m-> 1205\u001b[0m \u001b[39mreturn\u001b[39;00m _parse(\n\u001b[1;32m   1206\u001b[0m     flavor\u001b[39m=\u001b[39;49mflavor,\n\u001b[1;32m   1207\u001b[0m     io\u001b[39m=\u001b[39;49mio,\n\u001b[1;32m   1208\u001b[0m     match\u001b[39m=\u001b[39;49mmatch,\n\u001b[1;32m   1209\u001b[0m     header\u001b[39m=\u001b[39;49mheader,\n\u001b[1;32m   1210\u001b[0m     index_col\u001b[39m=\u001b[39;49mindex_col,\n\u001b[1;32m   1211\u001b[0m     skiprows\u001b[39m=\u001b[39;49mskiprows,\n\u001b[1;32m   1212\u001b[0m     parse_dates\u001b[39m=\u001b[39;49mparse_dates,\n\u001b[1;32m   1213\u001b[0m     thousands\u001b[39m=\u001b[39;49mthousands,\n\u001b[1;32m   1214\u001b[0m     attrs\u001b[39m=\u001b[39;49mattrs,\n\u001b[1;32m   1215\u001b[0m     encoding\u001b[39m=\u001b[39;49mencoding,\n\u001b[1;32m   1216\u001b[0m     decimal\u001b[39m=\u001b[39;49mdecimal,\n\u001b[1;32m   1217\u001b[0m     converters\u001b[39m=\u001b[39;49mconverters,\n\u001b[1;32m   1218\u001b[0m     na_values\u001b[39m=\u001b[39;49mna_values,\n\u001b[1;32m   1219\u001b[0m     keep_default_na\u001b[39m=\u001b[39;49mkeep_default_na,\n\u001b[1;32m   1220\u001b[0m     displayed_only\u001b[39m=\u001b[39;49mdisplayed_only,\n\u001b[1;32m   1221\u001b[0m     extract_links\u001b[39m=\u001b[39;49mextract_links,\n\u001b[1;32m   1222\u001b[0m )\n",
      "File \u001b[0;32m~/.cache/pypoetry/virtualenvs/findrepo2-experiment-lQvBFiG4-py3.11/lib/python3.11/site-packages/pandas/io/html.py:1006\u001b[0m, in \u001b[0;36m_parse\u001b[0;34m(flavor, io, match, attrs, encoding, displayed_only, extract_links, **kwargs)\u001b[0m\n\u001b[1;32m   1004\u001b[0m \u001b[39melse\u001b[39;00m:\n\u001b[1;32m   1005\u001b[0m     \u001b[39massert\u001b[39;00m retained \u001b[39mis\u001b[39;00m \u001b[39mnot\u001b[39;00m \u001b[39mNone\u001b[39;00m  \u001b[39m# for mypy\u001b[39;00m\n\u001b[0;32m-> 1006\u001b[0m     \u001b[39mraise\u001b[39;00m retained\n\u001b[1;32m   1008\u001b[0m ret \u001b[39m=\u001b[39m []\n\u001b[1;32m   1009\u001b[0m \u001b[39mfor\u001b[39;00m table \u001b[39min\u001b[39;00m tables:\n",
      "File \u001b[0;32m~/.cache/pypoetry/virtualenvs/findrepo2-experiment-lQvBFiG4-py3.11/lib/python3.11/site-packages/pandas/io/html.py:986\u001b[0m, in \u001b[0;36m_parse\u001b[0;34m(flavor, io, match, attrs, encoding, displayed_only, extract_links, **kwargs)\u001b[0m\n\u001b[1;32m    983\u001b[0m p \u001b[39m=\u001b[39m parser(io, compiled_match, attrs, encoding, displayed_only, extract_links)\n\u001b[1;32m    985\u001b[0m \u001b[39mtry\u001b[39;00m:\n\u001b[0;32m--> 986\u001b[0m     tables \u001b[39m=\u001b[39m p\u001b[39m.\u001b[39;49mparse_tables()\n\u001b[1;32m    987\u001b[0m \u001b[39mexcept\u001b[39;00m \u001b[39mValueError\u001b[39;00m \u001b[39mas\u001b[39;00m caught:\n\u001b[1;32m    988\u001b[0m     \u001b[39m# if `io` is an io-like object, check if it's seekable\u001b[39;00m\n\u001b[1;32m    989\u001b[0m     \u001b[39m# and try to rewind it before trying the next parser\u001b[39;00m\n\u001b[1;32m    990\u001b[0m     \u001b[39mif\u001b[39;00m \u001b[39mhasattr\u001b[39m(io, \u001b[39m\"\u001b[39m\u001b[39mseekable\u001b[39m\u001b[39m\"\u001b[39m) \u001b[39mand\u001b[39;00m io\u001b[39m.\u001b[39mseekable():\n",
      "File \u001b[0;32m~/.cache/pypoetry/virtualenvs/findrepo2-experiment-lQvBFiG4-py3.11/lib/python3.11/site-packages/pandas/io/html.py:262\u001b[0m, in \u001b[0;36m_HtmlFrameParser.parse_tables\u001b[0;34m(self)\u001b[0m\n\u001b[1;32m    254\u001b[0m \u001b[39mdef\u001b[39;00m \u001b[39mparse_tables\u001b[39m(\u001b[39mself\u001b[39m):\n\u001b[1;32m    255\u001b[0m \u001b[39m    \u001b[39m\u001b[39m\"\"\"\u001b[39;00m\n\u001b[1;32m    256\u001b[0m \u001b[39m    Parse and return all tables from the DOM.\u001b[39;00m\n\u001b[1;32m    257\u001b[0m \n\u001b[0;32m   (...)\u001b[0m\n\u001b[1;32m    260\u001b[0m \u001b[39m    list of parsed (header, body, footer) tuples from tables.\u001b[39;00m\n\u001b[1;32m    261\u001b[0m \u001b[39m    \"\"\"\u001b[39;00m\n\u001b[0;32m--> 262\u001b[0m     tables \u001b[39m=\u001b[39m \u001b[39mself\u001b[39;49m\u001b[39m.\u001b[39;49m_parse_tables(\u001b[39mself\u001b[39;49m\u001b[39m.\u001b[39;49m_build_doc(), \u001b[39mself\u001b[39;49m\u001b[39m.\u001b[39;49mmatch, \u001b[39mself\u001b[39;49m\u001b[39m.\u001b[39;49mattrs)\n\u001b[1;32m    263\u001b[0m     \u001b[39mreturn\u001b[39;00m (\u001b[39mself\u001b[39m\u001b[39m.\u001b[39m_parse_thead_tbody_tfoot(table) \u001b[39mfor\u001b[39;00m table \u001b[39min\u001b[39;00m tables)\n",
      "File \u001b[0;32m~/.cache/pypoetry/virtualenvs/findrepo2-experiment-lQvBFiG4-py3.11/lib/python3.11/site-packages/pandas/io/html.py:618\u001b[0m, in \u001b[0;36m_BeautifulSoupHtml5LibFrameParser._parse_tables\u001b[0;34m(self, doc, match, attrs)\u001b[0m\n\u001b[1;32m    615\u001b[0m tables \u001b[39m=\u001b[39m doc\u001b[39m.\u001b[39mfind_all(element_name, attrs\u001b[39m=\u001b[39mattrs)\n\u001b[1;32m    617\u001b[0m \u001b[39mif\u001b[39;00m \u001b[39mnot\u001b[39;00m tables:\n\u001b[0;32m--> 618\u001b[0m     \u001b[39mraise\u001b[39;00m \u001b[39mValueError\u001b[39;00m(\u001b[39m\"\u001b[39m\u001b[39mNo tables found\u001b[39m\u001b[39m\"\u001b[39m)\n\u001b[1;32m    620\u001b[0m result \u001b[39m=\u001b[39m []\n\u001b[1;32m    621\u001b[0m unique_tables \u001b[39m=\u001b[39m \u001b[39mset\u001b[39m()\n",
      "\u001b[0;31mValueError\u001b[0m: No tables found"
     ]
    }
   ],
   "source": [
    "fr2ex.tokens.report_cost(names)"
   ]
  },
  {
   "cell_type": "code",
   "execution_count": 9,
   "metadata": {},
   "outputs": [
    {
     "name": "stderr",
     "output_type": "stream",
     "text": [
      "INFO:root:Reading cached embeddings.\n"
     ]
    }
   ],
   "source": [
    "embeddings = fr2ex.embedding.embed_many(names)"
   ]
  },
  {
   "cell_type": "code",
   "execution_count": 10,
   "metadata": {},
   "outputs": [],
   "source": [
    "def guess(name: str, count: int = 5) -> None:\n",
    "    \"\"\"Show top guesses for similarity of name to already embedded names.\"\"\"\n",
    "    scores = embeddings @ fr2ex.embedding.embed(name)\n",
    "    ordering = sorted(zip(scores, names), reverse=True)\n",
    "    table = [(name, score) for score, name in ordering]\n",
    "    return tabulate(table[:count], tablefmt='html', floatfmt='.6f')"
   ]
  },
  {
   "cell_type": "code",
   "execution_count": 11,
   "metadata": {},
   "outputs": [
    {
     "data": {
      "text/html": [
       "<table>\n",
       "<tbody>\n",
       "<tr><td>Calculator            </td><td style=\"text-align: right;\">0.868787</td></tr>\n",
       "<tr><td>Geometry              </td><td style=\"text-align: right;\">0.865275</td></tr>\n",
       "<tr><td>algorithms-suggestions</td><td style=\"text-align: right;\">0.860121</td></tr>\n",
       "<tr><td>Alias                 </td><td style=\"text-align: right;\">0.851815</td></tr>\n",
       "<tr><td>crystal-algo          </td><td style=\"text-align: right;\">0.849683</td></tr>\n",
       "</tbody>\n",
       "</table>"
      ],
      "text/plain": [
       "'<table>\\n<tbody>\\n<tr><td>Calculator            </td><td style=\"text-align: right;\">0.868787</td></tr>\\n<tr><td>Geometry              </td><td style=\"text-align: right;\">0.865275</td></tr>\\n<tr><td>algorithms-suggestions</td><td style=\"text-align: right;\">0.860121</td></tr>\\n<tr><td>Alias                 </td><td style=\"text-align: right;\">0.851815</td></tr>\\n<tr><td>crystal-algo          </td><td style=\"text-align: right;\">0.849683</td></tr>\\n</tbody>\\n</table>'"
      ]
     },
     "execution_count": 11,
     "metadata": {},
     "output_type": "execute_result"
    }
   ],
   "source": [
    "guess('algorithm')"
   ]
  },
  {
   "cell_type": "code",
   "execution_count": 12,
   "metadata": {},
   "outputs": [
    {
     "data": {
      "text/html": [
       "<table>\n",
       "<tbody>\n",
       "<tr><td>SortingRanges</td><td style=\"text-align: right;\">0.932616</td></tr>\n",
       "<tr><td>Sorts        </td><td style=\"text-align: right;\">0.909054</td></tr>\n",
       "<tr><td>sortkey      </td><td style=\"text-align: right;\">0.859548</td></tr>\n",
       "<tr><td>PartialSort  </td><td style=\"text-align: right;\">0.855047</td></tr>\n",
       "<tr><td>tsort        </td><td style=\"text-align: right;\">0.840450</td></tr>\n",
       "</tbody>\n",
       "</table>"
      ],
      "text/plain": [
       "'<table>\\n<tbody>\\n<tr><td>SortingRanges</td><td style=\"text-align: right;\">0.932616</td></tr>\\n<tr><td>Sorts        </td><td style=\"text-align: right;\">0.909054</td></tr>\\n<tr><td>sortkey      </td><td style=\"text-align: right;\">0.859548</td></tr>\\n<tr><td>PartialSort  </td><td style=\"text-align: right;\">0.855047</td></tr>\\n<tr><td>tsort        </td><td style=\"text-align: right;\">0.840450</td></tr>\\n</tbody>\\n</table>'"
      ]
     },
     "execution_count": 12,
     "metadata": {},
     "output_type": "execute_result"
    }
   ],
   "source": [
    "guess('sorting')"
   ]
  },
  {
   "cell_type": "code",
   "execution_count": 13,
   "metadata": {},
   "outputs": [
    {
     "data": {
      "text/html": [
       "<table>\n",
       "<tbody>\n",
       "<tr><td>algorithms-suggestions</td><td style=\"text-align: right;\">0.889004</td></tr>\n",
       "<tr><td>algorithms-python     </td><td style=\"text-align: right;\">0.859336</td></tr>\n",
       "<tr><td>crystal-algo          </td><td style=\"text-align: right;\">0.855927</td></tr>\n",
       "<tr><td>Graph-gist            </td><td style=\"text-align: right;\">0.842411</td></tr>\n",
       "<tr><td>codegraph             </td><td style=\"text-align: right;\">0.833122</td></tr>\n",
       "</tbody>\n",
       "</table>"
      ],
      "text/plain": [
       "'<table>\\n<tbody>\\n<tr><td>algorithms-suggestions</td><td style=\"text-align: right;\">0.889004</td></tr>\\n<tr><td>algorithms-python     </td><td style=\"text-align: right;\">0.859336</td></tr>\\n<tr><td>crystal-algo          </td><td style=\"text-align: right;\">0.855927</td></tr>\\n<tr><td>Graph-gist            </td><td style=\"text-align: right;\">0.842411</td></tr>\\n<tr><td>codegraph             </td><td style=\"text-align: right;\">0.833122</td></tr>\\n</tbody>\\n</table>'"
      ]
     },
     "execution_count": 13,
     "metadata": {},
     "output_type": "execute_result"
    }
   ],
   "source": [
    "guess('algorithm-visualization')"
   ]
  },
  {
   "cell_type": "code",
   "execution_count": 14,
   "metadata": {},
   "outputs": [
    {
     "data": {
      "text/html": [
       "<table>\n",
       "<tbody>\n",
       "<tr><td>try-maven  </td><td style=\"text-align: right;\">0.916017</td></tr>\n",
       "<tr><td>mavener    </td><td style=\"text-align: right;\">0.879898</td></tr>\n",
       "<tr><td>retry-maven</td><td style=\"text-align: right;\">0.868211</td></tr>\n",
       "<tr><td>pimpl      </td><td style=\"text-align: right;\">0.836237</td></tr>\n",
       "<tr><td>try-gradle </td><td style=\"text-align: right;\">0.833744</td></tr>\n",
       "</tbody>\n",
       "</table>"
      ],
      "text/plain": [
       "'<table>\\n<tbody>\\n<tr><td>try-maven  </td><td style=\"text-align: right;\">0.916017</td></tr>\\n<tr><td>mavener    </td><td style=\"text-align: right;\">0.879898</td></tr>\\n<tr><td>retry-maven</td><td style=\"text-align: right;\">0.868211</td></tr>\\n<tr><td>pimpl      </td><td style=\"text-align: right;\">0.836237</td></tr>\\n<tr><td>try-gradle </td><td style=\"text-align: right;\">0.833744</td></tr>\\n</tbody>\\n</table>'"
      ]
     },
     "execution_count": 14,
     "metadata": {},
     "output_type": "execute_result"
    }
   ],
   "source": [
    "guess('maven')"
   ]
  },
  {
   "cell_type": "code",
   "execution_count": 15,
   "metadata": {},
   "outputs": [
    {
     "data": {
      "text/html": [
       "<table>\n",
       "<tbody>\n",
       "<tr><td>newrepo-findrepo    </td><td style=\"text-align: right;\">0.916256</td></tr>\n",
       "<tr><td>findrepo2-experiment</td><td style=\"text-align: right;\">0.867356</td></tr>\n",
       "<tr><td>backup-repos        </td><td style=\"text-align: right;\">0.865059</td></tr>\n",
       "<tr><td>find-articles       </td><td style=\"text-align: right;\">0.856952</td></tr>\n",
       "<tr><td>TestRepo            </td><td style=\"text-align: right;\">0.842280</td></tr>\n",
       "</tbody>\n",
       "</table>"
      ],
      "text/plain": [
       "'<table>\\n<tbody>\\n<tr><td>newrepo-findrepo    </td><td style=\"text-align: right;\">0.916256</td></tr>\\n<tr><td>findrepo2-experiment</td><td style=\"text-align: right;\">0.867356</td></tr>\\n<tr><td>backup-repos        </td><td style=\"text-align: right;\">0.865059</td></tr>\\n<tr><td>find-articles       </td><td style=\"text-align: right;\">0.856952</td></tr>\\n<tr><td>TestRepo            </td><td style=\"text-align: right;\">0.842280</td></tr>\\n</tbody>\\n</table>'"
      ]
     },
     "execution_count": 15,
     "metadata": {},
     "output_type": "execute_result"
    }
   ],
   "source": [
    "guess('find-repo')"
   ]
  },
  {
   "cell_type": "code",
   "execution_count": 16,
   "metadata": {},
   "outputs": [
    {
     "data": {
      "text/html": [
       "<table>\n",
       "<tbody>\n",
       "<tr><td>codegraph </td><td style=\"text-align: right;\">0.881251</td></tr>\n",
       "<tr><td>Graph     </td><td style=\"text-align: right;\">0.879413</td></tr>\n",
       "<tr><td>Graph-gist</td><td style=\"text-align: right;\">0.864631</td></tr>\n",
       "<tr><td>Geometry  </td><td style=\"text-align: right;\">0.839642</td></tr>\n",
       "<tr><td>wpf-graph </td><td style=\"text-align: right;\">0.829149</td></tr>\n",
       "<tr><td>graphyaml </td><td style=\"text-align: right;\">0.820673</td></tr>\n",
       "<tr><td>gh-profile</td><td style=\"text-align: right;\">0.814760</td></tr>\n",
       "<tr><td>c-sketches</td><td style=\"text-align: right;\">0.813890</td></tr>\n",
       "<tr><td>trig      </td><td style=\"text-align: right;\">0.809229</td></tr>\n",
       "<tr><td>Draw      </td><td style=\"text-align: right;\">0.808868</td></tr>\n",
       "</tbody>\n",
       "</table>"
      ],
      "text/plain": [
       "'<table>\\n<tbody>\\n<tr><td>codegraph </td><td style=\"text-align: right;\">0.881251</td></tr>\\n<tr><td>Graph     </td><td style=\"text-align: right;\">0.879413</td></tr>\\n<tr><td>Graph-gist</td><td style=\"text-align: right;\">0.864631</td></tr>\\n<tr><td>Geometry  </td><td style=\"text-align: right;\">0.839642</td></tr>\\n<tr><td>wpf-graph </td><td style=\"text-align: right;\">0.829149</td></tr>\\n<tr><td>graphyaml </td><td style=\"text-align: right;\">0.820673</td></tr>\\n<tr><td>gh-profile</td><td style=\"text-align: right;\">0.814760</td></tr>\\n<tr><td>c-sketches</td><td style=\"text-align: right;\">0.813890</td></tr>\\n<tr><td>trig      </td><td style=\"text-align: right;\">0.809229</td></tr>\\n<tr><td>Draw      </td><td style=\"text-align: right;\">0.808868</td></tr>\\n</tbody>\\n</table>'"
      ]
     },
     "execution_count": 16,
     "metadata": {},
     "output_type": "execute_result"
    }
   ],
   "source": [
    "guess('graph theory', count=10)"
   ]
  },
  {
   "cell_type": "code",
   "execution_count": 17,
   "metadata": {},
   "outputs": [
    {
     "data": {
      "text/html": [
       "<table>\n",
       "<tbody>\n",
       "<tr><td>Dijkstra              </td><td style=\"text-align: right;\">0.891401</td></tr>\n",
       "<tr><td>Paths                 </td><td style=\"text-align: right;\">0.838847</td></tr>\n",
       "<tr><td>TreeTraversal         </td><td style=\"text-align: right;\">0.830639</td></tr>\n",
       "<tr><td>Kruskal               </td><td style=\"text-align: right;\">0.816384</td></tr>\n",
       "<tr><td>algorithms-suggestions</td><td style=\"text-align: right;\">0.816244</td></tr>\n",
       "<tr><td>Traverse              </td><td style=\"text-align: right;\">0.812973</td></tr>\n",
       "<tr><td>Permutations          </td><td style=\"text-align: right;\">0.806550</td></tr>\n",
       "<tr><td>treejs                </td><td style=\"text-align: right;\">0.801372</td></tr>\n",
       "<tr><td>DFS                   </td><td style=\"text-align: right;\">0.800755</td></tr>\n",
       "<tr><td>kt-short              </td><td style=\"text-align: right;\">0.800324</td></tr>\n",
       "</tbody>\n",
       "</table>"
      ],
      "text/plain": [
       "'<table>\\n<tbody>\\n<tr><td>Dijkstra              </td><td style=\"text-align: right;\">0.891401</td></tr>\\n<tr><td>Paths                 </td><td style=\"text-align: right;\">0.838847</td></tr>\\n<tr><td>TreeTraversal         </td><td style=\"text-align: right;\">0.830639</td></tr>\\n<tr><td>Kruskal               </td><td style=\"text-align: right;\">0.816384</td></tr>\\n<tr><td>algorithms-suggestions</td><td style=\"text-align: right;\">0.816244</td></tr>\\n<tr><td>Traverse              </td><td style=\"text-align: right;\">0.812973</td></tr>\\n<tr><td>Permutations          </td><td style=\"text-align: right;\">0.806550</td></tr>\\n<tr><td>treejs                </td><td style=\"text-align: right;\">0.801372</td></tr>\\n<tr><td>DFS                   </td><td style=\"text-align: right;\">0.800755</td></tr>\\n<tr><td>kt-short              </td><td style=\"text-align: right;\">0.800324</td></tr>\\n</tbody>\\n</table>'"
      ]
     },
     "execution_count": 17,
     "metadata": {},
     "output_type": "execute_result"
    }
   ],
   "source": [
    "guess('shortest paths', count=10)"
   ]
  },
  {
   "cell_type": "code",
   "execution_count": 18,
   "metadata": {},
   "outputs": [
    {
     "data": {
      "text/html": [
       "<table>\n",
       "<tbody>\n",
       "<tr><td>Dijkstra              </td><td style=\"text-align: right;\">0.892473</td></tr>\n",
       "<tr><td>Paths                 </td><td style=\"text-align: right;\">0.836263</td></tr>\n",
       "<tr><td>TreeTraversal         </td><td style=\"text-align: right;\">0.836177</td></tr>\n",
       "<tr><td>Traverse              </td><td style=\"text-align: right;\">0.819810</td></tr>\n",
       "<tr><td>algorithms-suggestions</td><td style=\"text-align: right;\">0.819183</td></tr>\n",
       "<tr><td>Kruskal               </td><td style=\"text-align: right;\">0.813991</td></tr>\n",
       "<tr><td>type-arrows           </td><td style=\"text-align: right;\">0.812946</td></tr>\n",
       "<tr><td>kt-short              </td><td style=\"text-align: right;\">0.811265</td></tr>\n",
       "<tr><td>sequence-dag          </td><td style=\"text-align: right;\">0.809290</td></tr>\n",
       "<tr><td>dot-and-cross         </td><td style=\"text-align: right;\">0.806301</td></tr>\n",
       "</tbody>\n",
       "</table>"
      ],
      "text/plain": [
       "'<table>\\n<tbody>\\n<tr><td>Dijkstra              </td><td style=\"text-align: right;\">0.892473</td></tr>\\n<tr><td>Paths                 </td><td style=\"text-align: right;\">0.836263</td></tr>\\n<tr><td>TreeTraversal         </td><td style=\"text-align: right;\">0.836177</td></tr>\\n<tr><td>Traverse              </td><td style=\"text-align: right;\">0.819810</td></tr>\\n<tr><td>algorithms-suggestions</td><td style=\"text-align: right;\">0.819183</td></tr>\\n<tr><td>Kruskal               </td><td style=\"text-align: right;\">0.813991</td></tr>\\n<tr><td>type-arrows           </td><td style=\"text-align: right;\">0.812946</td></tr>\\n<tr><td>kt-short              </td><td style=\"text-align: right;\">0.811265</td></tr>\\n<tr><td>sequence-dag          </td><td style=\"text-align: right;\">0.809290</td></tr>\\n<tr><td>dot-and-cross         </td><td style=\"text-align: right;\">0.806301</td></tr>\\n</tbody>\\n</table>'"
      ]
     },
     "execution_count": 18,
     "metadata": {},
     "output_type": "execute_result"
    }
   ],
   "source": [
    "guess('shortest-paths', count=10)"
   ]
  },
  {
   "cell_type": "code",
   "execution_count": 19,
   "metadata": {},
   "outputs": [
    {
     "data": {
      "text/html": [
       "<table>\n",
       "<tbody>\n",
       "<tr><td>TreeTraversal          </td><td style=\"text-align: right;\">0.897567</td></tr>\n",
       "<tr><td>Traverse               </td><td style=\"text-align: right;\">0.870028</td></tr>\n",
       "<tr><td>Graph                  </td><td style=\"text-align: right;\">0.868410</td></tr>\n",
       "<tr><td>codegraph              </td><td style=\"text-align: right;\">0.857106</td></tr>\n",
       "<tr><td>Graph-gist             </td><td style=\"text-align: right;\">0.851075</td></tr>\n",
       "<tr><td>TraverseTree           </td><td style=\"text-align: right;\">0.850152</td></tr>\n",
       "<tr><td>TreeTraversalAnimations</td><td style=\"text-align: right;\">0.845057</td></tr>\n",
       "<tr><td>Dijkstra               </td><td style=\"text-align: right;\">0.825758</td></tr>\n",
       "<tr><td>DFS                    </td><td style=\"text-align: right;\">0.823796</td></tr>\n",
       "<tr><td>sequence-dag           </td><td style=\"text-align: right;\">0.819781</td></tr>\n",
       "</tbody>\n",
       "</table>"
      ],
      "text/plain": [
       "'<table>\\n<tbody>\\n<tr><td>TreeTraversal          </td><td style=\"text-align: right;\">0.897567</td></tr>\\n<tr><td>Traverse               </td><td style=\"text-align: right;\">0.870028</td></tr>\\n<tr><td>Graph                  </td><td style=\"text-align: right;\">0.868410</td></tr>\\n<tr><td>codegraph              </td><td style=\"text-align: right;\">0.857106</td></tr>\\n<tr><td>Graph-gist             </td><td style=\"text-align: right;\">0.851075</td></tr>\\n<tr><td>TraverseTree           </td><td style=\"text-align: right;\">0.850152</td></tr>\\n<tr><td>TreeTraversalAnimations</td><td style=\"text-align: right;\">0.845057</td></tr>\\n<tr><td>Dijkstra               </td><td style=\"text-align: right;\">0.825758</td></tr>\\n<tr><td>DFS                    </td><td style=\"text-align: right;\">0.823796</td></tr>\\n<tr><td>sequence-dag           </td><td style=\"text-align: right;\">0.819781</td></tr>\\n</tbody>\\n</table>'"
      ]
     },
     "execution_count": 19,
     "metadata": {},
     "output_type": "execute_result"
    }
   ],
   "source": [
    "guess('graph traversal', count=10)"
   ]
  },
  {
   "cell_type": "code",
   "execution_count": 20,
   "metadata": {},
   "outputs": [
    {
     "data": {
      "text/html": [
       "<table>\n",
       "<tbody>\n",
       "<tr><td>TreeTraversal          </td><td style=\"text-align: right;\">0.904181</td></tr>\n",
       "<tr><td>Traverse               </td><td style=\"text-align: right;\">0.879860</td></tr>\n",
       "<tr><td>Graph                  </td><td style=\"text-align: right;\">0.878250</td></tr>\n",
       "<tr><td>Graph-gist             </td><td style=\"text-align: right;\">0.875091</td></tr>\n",
       "<tr><td>codegraph              </td><td style=\"text-align: right;\">0.872212</td></tr>\n",
       "<tr><td>TraverseTree           </td><td style=\"text-align: right;\">0.865436</td></tr>\n",
       "<tr><td>TreeTraversalAnimations</td><td style=\"text-align: right;\">0.851144</td></tr>\n",
       "<tr><td>Dijkstra               </td><td style=\"text-align: right;\">0.842851</td></tr>\n",
       "<tr><td>wpf-graph              </td><td style=\"text-align: right;\">0.840953</td></tr>\n",
       "<tr><td>sequence-dag           </td><td style=\"text-align: right;\">0.837051</td></tr>\n",
       "</tbody>\n",
       "</table>"
      ],
      "text/plain": [
       "'<table>\\n<tbody>\\n<tr><td>TreeTraversal          </td><td style=\"text-align: right;\">0.904181</td></tr>\\n<tr><td>Traverse               </td><td style=\"text-align: right;\">0.879860</td></tr>\\n<tr><td>Graph                  </td><td style=\"text-align: right;\">0.878250</td></tr>\\n<tr><td>Graph-gist             </td><td style=\"text-align: right;\">0.875091</td></tr>\\n<tr><td>codegraph              </td><td style=\"text-align: right;\">0.872212</td></tr>\\n<tr><td>TraverseTree           </td><td style=\"text-align: right;\">0.865436</td></tr>\\n<tr><td>TreeTraversalAnimations</td><td style=\"text-align: right;\">0.851144</td></tr>\\n<tr><td>Dijkstra               </td><td style=\"text-align: right;\">0.842851</td></tr>\\n<tr><td>wpf-graph              </td><td style=\"text-align: right;\">0.840953</td></tr>\\n<tr><td>sequence-dag           </td><td style=\"text-align: right;\">0.837051</td></tr>\\n</tbody>\\n</table>'"
      ]
     },
     "execution_count": 20,
     "metadata": {},
     "output_type": "execute_result"
    }
   ],
   "source": [
    "guess('graph-traversal', count=10)"
   ]
  },
  {
   "cell_type": "code",
   "execution_count": 21,
   "metadata": {},
   "outputs": [
    {
     "data": {
      "text/html": [
       "<table>\n",
       "<tbody>\n",
       "<tr><td>Graph      </td><td style=\"text-align: right;\">0.892145</td></tr>\n",
       "<tr><td>Geometry   </td><td style=\"text-align: right;\">0.883770</td></tr>\n",
       "<tr><td>printing   </td><td style=\"text-align: right;\">0.882537</td></tr>\n",
       "<tr><td>Draw       </td><td style=\"text-align: right;\">0.876314</td></tr>\n",
       "<tr><td>fps        </td><td style=\"text-align: right;\">0.859790</td></tr>\n",
       "<tr><td>works      </td><td style=\"text-align: right;\">0.848993</td></tr>\n",
       "<tr><td>coordinates</td><td style=\"text-align: right;\">0.845280</td></tr>\n",
       "<tr><td>Components </td><td style=\"text-align: right;\">0.842020</td></tr>\n",
       "<tr><td>filesystem </td><td style=\"text-align: right;\">0.839757</td></tr>\n",
       "<tr><td>Benchmark  </td><td style=\"text-align: right;\">0.839163</td></tr>\n",
       "</tbody>\n",
       "</table>"
      ],
      "text/plain": [
       "'<table>\\n<tbody>\\n<tr><td>Graph      </td><td style=\"text-align: right;\">0.892145</td></tr>\\n<tr><td>Geometry   </td><td style=\"text-align: right;\">0.883770</td></tr>\\n<tr><td>printing   </td><td style=\"text-align: right;\">0.882537</td></tr>\\n<tr><td>Draw       </td><td style=\"text-align: right;\">0.876314</td></tr>\\n<tr><td>fps        </td><td style=\"text-align: right;\">0.859790</td></tr>\\n<tr><td>works      </td><td style=\"text-align: right;\">0.848993</td></tr>\\n<tr><td>coordinates</td><td style=\"text-align: right;\">0.845280</td></tr>\\n<tr><td>Components </td><td style=\"text-align: right;\">0.842020</td></tr>\\n<tr><td>filesystem </td><td style=\"text-align: right;\">0.839757</td></tr>\\n<tr><td>Benchmark  </td><td style=\"text-align: right;\">0.839163</td></tr>\\n</tbody>\\n</table>'"
      ]
     },
     "execution_count": 21,
     "metadata": {},
     "output_type": "execute_result"
    }
   ],
   "source": [
    "guess('graphics', count=10)"
   ]
  },
  {
   "cell_type": "code",
   "execution_count": 22,
   "metadata": {},
   "outputs": [
    {
     "data": {
      "text/html": [
       "<table>\n",
       "<tbody>\n",
       "<tr><td>Flood      </td><td style=\"text-align: right;\">0.864981</td></tr>\n",
       "<tr><td>foobar     </td><td style=\"text-align: right;\">0.825881</td></tr>\n",
       "<tr><td>lambda-demo</td><td style=\"text-align: right;\">0.819231</td></tr>\n",
       "<tr><td>Dynamo     </td><td style=\"text-align: right;\">0.816781</td></tr>\n",
       "<tr><td>yule       </td><td style=\"text-align: right;\">0.813927</td></tr>\n",
       "</tbody>\n",
       "</table>"
      ],
      "text/plain": [
       "'<table>\\n<tbody>\\n<tr><td>Flood      </td><td style=\"text-align: right;\">0.864981</td></tr>\\n<tr><td>foobar     </td><td style=\"text-align: right;\">0.825881</td></tr>\\n<tr><td>lambda-demo</td><td style=\"text-align: right;\">0.819231</td></tr>\\n<tr><td>Dynamo     </td><td style=\"text-align: right;\">0.816781</td></tr>\\n<tr><td>yule       </td><td style=\"text-align: right;\">0.813927</td></tr>\\n</tbody>\\n</table>'"
      ]
     },
     "execution_count": 22,
     "metadata": {},
     "output_type": "execute_result"
    }
   ],
   "source": [
    "guess('deluge')"
   ]
  },
  {
   "cell_type": "code",
   "execution_count": 23,
   "metadata": {},
   "outputs": [
    {
     "data": {
      "text/html": [
       "<table>\n",
       "<tbody>\n",
       "<tr><td>git        </td><td style=\"text-align: right;\">0.823033</td></tr>\n",
       "<tr><td>Linkage    </td><td style=\"text-align: right;\">0.807258</td></tr>\n",
       "<tr><td>gitscripts </td><td style=\"text-align: right;\">0.806840</td></tr>\n",
       "<tr><td>capture.net</td><td style=\"text-align: right;\">0.803207</td></tr>\n",
       "<tr><td>test-site  </td><td style=\"text-align: right;\">0.801885</td></tr>\n",
       "</tbody>\n",
       "</table>"
      ],
      "text/plain": [
       "'<table>\\n<tbody>\\n<tr><td>git        </td><td style=\"text-align: right;\">0.823033</td></tr>\\n<tr><td>Linkage    </td><td style=\"text-align: right;\">0.807258</td></tr>\\n<tr><td>gitscripts </td><td style=\"text-align: right;\">0.806840</td></tr>\\n<tr><td>capture.net</td><td style=\"text-align: right;\">0.803207</td></tr>\\n<tr><td>test-site  </td><td style=\"text-align: right;\">0.801885</td></tr>\\n</tbody>\\n</table>'"
      ]
     },
     "execution_count": 23,
     "metadata": {},
     "output_type": "execute_result"
    }
   ],
   "source": [
    "guess('source control')"
   ]
  },
  {
   "cell_type": "code",
   "execution_count": 24,
   "metadata": {},
   "outputs": [
    {
     "data": {
      "text/html": [
       "<table>\n",
       "<tbody>\n",
       "<tr><td>git           </td><td style=\"text-align: right;\">0.831532</td></tr>\n",
       "<tr><td>git-notes     </td><td style=\"text-align: right;\">0.830648</td></tr>\n",
       "<tr><td>dot-imports   </td><td style=\"text-align: right;\">0.815999</td></tr>\n",
       "<tr><td>gitscripts    </td><td style=\"text-align: right;\">0.813048</td></tr>\n",
       "<tr><td>editor-configs</td><td style=\"text-align: right;\">0.812764</td></tr>\n",
       "</tbody>\n",
       "</table>"
      ],
      "text/plain": [
       "'<table>\\n<tbody>\\n<tr><td>git           </td><td style=\"text-align: right;\">0.831532</td></tr>\\n<tr><td>git-notes     </td><td style=\"text-align: right;\">0.830648</td></tr>\\n<tr><td>dot-imports   </td><td style=\"text-align: right;\">0.815999</td></tr>\\n<tr><td>gitscripts    </td><td style=\"text-align: right;\">0.813048</td></tr>\\n<tr><td>editor-configs</td><td style=\"text-align: right;\">0.812764</td></tr>\\n</tbody>\\n</table>'"
      ]
     },
     "execution_count": 24,
     "metadata": {},
     "output_type": "execute_result"
    }
   ],
   "source": [
    "guess('source-control')"
   ]
  },
  {
   "cell_type": "code",
   "execution_count": null,
   "metadata": {},
   "outputs": [],
   "source": []
  }
 ],
 "metadata": {
  "kernelspec": {
   "display_name": "findrepo2-experiment-rOSEKeEQ-py3.11",
   "language": "python",
   "name": "python3"
  },
  "language_info": {
   "codemirror_mode": {
    "name": "ipython",
    "version": 3
   },
   "file_extension": ".py",
   "mimetype": "text/x-python",
   "name": "python",
   "nbconvert_exporter": "python",
   "pygments_lexer": "ipython3",
   "version": "3.11.2"
  },
  "orig_nbformat": 4,
  "vscode": {
   "interpreter": {
    "hash": "cc24d4d634694babf689af76e7bfbddcba5d411d378bfb432817051e7e6debb7"
   }
  }
 },
 "nbformat": 4,
 "nbformat_minor": 2
}
